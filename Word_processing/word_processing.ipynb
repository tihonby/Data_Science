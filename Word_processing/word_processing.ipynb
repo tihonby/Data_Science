{
 "cells": [
  {
   "cell_type": "raw",
   "metadata": {},
   "source": [
    "\n",
    "Обработать исходный текст:\n",
    "Очистить от знаков препинания, стоп-слов и лемматизировать.\n",
    "Привести к векторному виду и произвести уменьшение размерности, с потерей менее 20% информации."
   ]
  },
  {
   "cell_type": "code",
   "execution_count": 1,
   "metadata": {},
   "outputs": [],
   "source": [
    "from numpy import linalg as LA\n",
    "import numpy as np\n",
    "import pandas as pd\n",
    "import nltk\n",
    "import re"
   ]
  },
  {
   "cell_type": "code",
   "execution_count": 2,
   "metadata": {},
   "outputs": [],
   "source": [
    "from nltk.corpus import stopwords\n",
    "from nltk.stem import PorterStemmer, WordNetLemmatizer\n",
    "from nltk.corpus import wordnet\n",
    "from sklearn.feature_extraction.text import CountVectorizer\n",
    "from sklearn.decomposition import TruncatedSVD\n",
    "import pylab as plt\n",
    "\n",
    "#nltk.download()"
   ]
  },
  {
   "cell_type": "code",
   "execution_count": 3,
   "metadata": {
    "scrolled": true
   },
   "outputs": [
    {
     "data": {
      "text/plain": [
       "63"
      ]
     },
     "execution_count": 3,
     "metadata": {},
     "output_type": "execute_result"
    }
   ],
   "source": [
    "# Чтение из файла\n",
    "file = open('text.txt', 'r')\n",
    "text = file.read()\n",
    "file.close()\n",
    "\n",
    "# количество слов в тексте\n",
    "word_count = len(text.split(' '))\n",
    "word_count"
   ]
  },
  {
   "cell_type": "code",
   "execution_count": 4,
   "metadata": {},
   "outputs": [],
   "source": [
    "# очистка текстка от очистка от знаков препинания и стоп-слов:\n",
    "stop_words = set(stopwords.words(\"english\"))\n",
    "words = nltk.word_tokenize(re.sub(r\"[^\\w]\", \" \", text))\n",
    "word_clean = [word for word in words if not word in stop_words]\n",
    "#print(word_clean)"
   ]
  },
  {
   "cell_type": "code",
   "execution_count": 5,
   "metadata": {},
   "outputs": [
    {
     "name": "stdout",
     "output_type": "stream",
     "text": [
      "[('Amy', 'NNP'), ('normally', 'RB'), ('hated', 'VBD'), ('Monday', 'NNP'), ('mornings', 'NNS'), ('but', 'CC'), ('this', 'DT'), ('year', 'NN'), ('was', 'VBD'), ('different', 'JJ'), ('Kamal', 'NNP'), ('was', 'VBD'), ('in', 'IN'), ('her', 'PRP$'), ('art', 'NN'), ('class', 'NN'), ('and', 'CC'), ('she', 'PRP'), ('liked', 'VBD'), ('Kamal', 'NNP'), ('She', 'PRP'), ('was', 'VBD'), ('waiting', 'VBG'), ('outside', 'IN'), ('the', 'DT'), ('classroom', 'NN'), ('when', 'WRB'), ('her', 'PRP$'), ('friend', 'NN'), ('Tara', 'NNP'), ('arrived', 'VBD'), ('Hi', 'NNP'), ('Amy', 'NNP'), ('Your', 'PRP$'), ('mum', 'NN'), ('sent', 'VBD'), ('me', 'PRP'), ('a', 'DT'), ('text', 'NN'), ('You', 'PRP'), ('forgot', 'VBP'), ('your', 'PRP$'), ('inhaler', 'NN'), ('Why', 'WRB'), ('don', 'NN'), ('t', 'NN'), ('you', 'PRP'), ('turn', 'VBP'), ('your', 'PRP$'), ('phone', 'NN'), ('on', 'IN'), ('Amy', 'NNP'), ('didn', 'NN'), ('t', 'NN'), ('like', 'IN'), ('technology', 'NN'), ('She', 'PRP'), ('never', 'RB'), ('sent', 'VBD'), ('text', 'JJ'), ('messages', 'NNS'), ('and', 'CC'), ('she', 'PRP'), ('hated', 'VBD'), ('Facebook', 'NNP'), ('too', 'RB')]\n"
     ]
    }
   ],
   "source": [
    "# POS - teg к словам, определяющий часть речи\n",
    "# Обозначения сокращений прилагается в \"Penn Treebank P.O.S. Tags.html\"\n",
    "print(nltk.pos_tag(words))\n"
   ]
  },
  {
   "cell_type": "code",
   "execution_count": 6,
   "metadata": {},
   "outputs": [
    {
     "name": "stdout",
     "output_type": "stream",
     "text": [
      "['Amy', 'normally', 'hat', 'Monday', 'morning', 'but', 'this', 'year', 'be', 'different', 'Kamal', 'be', 'in', 'her', 'art', 'class', 'and', 'she', 'like', 'Kamal', 'She', 'be', 'wait', 'outside', 'the', 'classroom', 'when', 'her', 'friend', 'Tara', 'arrive', 'Hi', 'Amy', 'Your', 'mum', 'sent', 'me', 'a', 'text', 'You', 'forgot', 'your', 'inhaler', 'Why', 'don', 't', 'you', 'turn', 'your', 'phone', 'on', 'Amy', 'didn', 't', 'like', 'technology', 'She', 'never', 'sent', 'text', 'message', 'and', 'she', 'hat', 'Facebook', 'too']\n"
     ]
    }
   ],
   "source": [
    "# Лемматизация с POS-тегом происходит в зависимости от части речи, \n",
    "# к которому относится слово \n",
    "# Привязка POS-тега \n",
    "def get_pos(word):\n",
    "    tag = nltk.pos_tag([word])[0][1][0].upper()\n",
    "    tag_dict = {\"J\": wordnet.ADJ,\n",
    "                \"N\": wordnet.NOUN,\n",
    "                \"V\": wordnet.VERB,\n",
    "                \"R\": wordnet.ADV}\n",
    "    return tag_dict.get(tag, wordnet.NOUN)\n",
    "\n",
    "lemmatizer = WordNetLemmatizer()\n",
    "\n",
    "lemma = ([lemmatizer.lemmatize(w, get_pos(w)) for w in words])\n",
    "print (lemma)"
   ]
  },
  {
   "cell_type": "code",
   "execution_count": 7,
   "metadata": {},
   "outputs": [
    {
     "name": "stdout",
     "output_type": "stream",
     "text": [
      "hated - hat\n",
      "mornings - morning\n",
      "was - be\n",
      "was - be\n",
      "liked - like\n",
      "was - be\n",
      "waiting - wait\n",
      "arrived - arrive\n",
      "messages - message\n",
      "hated - hat\n"
     ]
    }
   ],
   "source": [
    "# список слов, прошедших лемматизацию с POS-тегом\n",
    "for i, el in enumerate(lemma):\n",
    "    if not lemma[i]  is words[i]:\n",
    "        print(words[i] , '-', lemma[i] )"
   ]
  },
  {
   "cell_type": "code",
   "execution_count": 8,
   "metadata": {},
   "outputs": [
    {
     "data": {
      "text/html": [
       "<div>\n",
       "<style scoped>\n",
       "    .dataframe tbody tr th:only-of-type {\n",
       "        vertical-align: middle;\n",
       "    }\n",
       "\n",
       "    .dataframe tbody tr th {\n",
       "        vertical-align: top;\n",
       "    }\n",
       "\n",
       "    .dataframe thead th {\n",
       "        text-align: right;\n",
       "    }\n",
       "</style>\n",
       "<table border=\"1\" class=\"dataframe\">\n",
       "  <thead>\n",
       "    <tr style=\"text-align: right;\">\n",
       "      <th></th>\n",
       "      <th>amy</th>\n",
       "      <th>and</th>\n",
       "      <th>arrive</th>\n",
       "      <th>art</th>\n",
       "      <th>be</th>\n",
       "      <th>but</th>\n",
       "      <th>class</th>\n",
       "      <th>classroom</th>\n",
       "      <th>didn</th>\n",
       "      <th>different</th>\n",
       "      <th>...</th>\n",
       "      <th>the</th>\n",
       "      <th>this</th>\n",
       "      <th>too</th>\n",
       "      <th>turn</th>\n",
       "      <th>wait</th>\n",
       "      <th>when</th>\n",
       "      <th>why</th>\n",
       "      <th>year</th>\n",
       "      <th>you</th>\n",
       "      <th>your</th>\n",
       "    </tr>\n",
       "  </thead>\n",
       "  <tbody>\n",
       "    <tr>\n",
       "      <td>0</td>\n",
       "      <td>1</td>\n",
       "      <td>0</td>\n",
       "      <td>0</td>\n",
       "      <td>0</td>\n",
       "      <td>0</td>\n",
       "      <td>0</td>\n",
       "      <td>0</td>\n",
       "      <td>0</td>\n",
       "      <td>0</td>\n",
       "      <td>0</td>\n",
       "      <td>...</td>\n",
       "      <td>0</td>\n",
       "      <td>0</td>\n",
       "      <td>0</td>\n",
       "      <td>0</td>\n",
       "      <td>0</td>\n",
       "      <td>0</td>\n",
       "      <td>0</td>\n",
       "      <td>0</td>\n",
       "      <td>0</td>\n",
       "      <td>0</td>\n",
       "    </tr>\n",
       "    <tr>\n",
       "      <td>1</td>\n",
       "      <td>0</td>\n",
       "      <td>0</td>\n",
       "      <td>0</td>\n",
       "      <td>0</td>\n",
       "      <td>0</td>\n",
       "      <td>0</td>\n",
       "      <td>0</td>\n",
       "      <td>0</td>\n",
       "      <td>0</td>\n",
       "      <td>0</td>\n",
       "      <td>...</td>\n",
       "      <td>0</td>\n",
       "      <td>0</td>\n",
       "      <td>0</td>\n",
       "      <td>0</td>\n",
       "      <td>0</td>\n",
       "      <td>0</td>\n",
       "      <td>0</td>\n",
       "      <td>0</td>\n",
       "      <td>0</td>\n",
       "      <td>0</td>\n",
       "    </tr>\n",
       "    <tr>\n",
       "      <td>2</td>\n",
       "      <td>0</td>\n",
       "      <td>0</td>\n",
       "      <td>0</td>\n",
       "      <td>0</td>\n",
       "      <td>0</td>\n",
       "      <td>0</td>\n",
       "      <td>0</td>\n",
       "      <td>0</td>\n",
       "      <td>0</td>\n",
       "      <td>0</td>\n",
       "      <td>...</td>\n",
       "      <td>0</td>\n",
       "      <td>0</td>\n",
       "      <td>0</td>\n",
       "      <td>0</td>\n",
       "      <td>0</td>\n",
       "      <td>0</td>\n",
       "      <td>0</td>\n",
       "      <td>0</td>\n",
       "      <td>0</td>\n",
       "      <td>0</td>\n",
       "    </tr>\n",
       "    <tr>\n",
       "      <td>3</td>\n",
       "      <td>0</td>\n",
       "      <td>0</td>\n",
       "      <td>0</td>\n",
       "      <td>0</td>\n",
       "      <td>0</td>\n",
       "      <td>0</td>\n",
       "      <td>0</td>\n",
       "      <td>0</td>\n",
       "      <td>0</td>\n",
       "      <td>0</td>\n",
       "      <td>...</td>\n",
       "      <td>0</td>\n",
       "      <td>0</td>\n",
       "      <td>0</td>\n",
       "      <td>0</td>\n",
       "      <td>0</td>\n",
       "      <td>0</td>\n",
       "      <td>0</td>\n",
       "      <td>0</td>\n",
       "      <td>0</td>\n",
       "      <td>0</td>\n",
       "    </tr>\n",
       "    <tr>\n",
       "      <td>4</td>\n",
       "      <td>0</td>\n",
       "      <td>0</td>\n",
       "      <td>0</td>\n",
       "      <td>0</td>\n",
       "      <td>0</td>\n",
       "      <td>0</td>\n",
       "      <td>0</td>\n",
       "      <td>0</td>\n",
       "      <td>0</td>\n",
       "      <td>0</td>\n",
       "      <td>...</td>\n",
       "      <td>0</td>\n",
       "      <td>0</td>\n",
       "      <td>0</td>\n",
       "      <td>0</td>\n",
       "      <td>0</td>\n",
       "      <td>0</td>\n",
       "      <td>0</td>\n",
       "      <td>0</td>\n",
       "      <td>0</td>\n",
       "      <td>0</td>\n",
       "    </tr>\n",
       "    <tr>\n",
       "      <td>...</td>\n",
       "      <td>...</td>\n",
       "      <td>...</td>\n",
       "      <td>...</td>\n",
       "      <td>...</td>\n",
       "      <td>...</td>\n",
       "      <td>...</td>\n",
       "      <td>...</td>\n",
       "      <td>...</td>\n",
       "      <td>...</td>\n",
       "      <td>...</td>\n",
       "      <td>...</td>\n",
       "      <td>...</td>\n",
       "      <td>...</td>\n",
       "      <td>...</td>\n",
       "      <td>...</td>\n",
       "      <td>...</td>\n",
       "      <td>...</td>\n",
       "      <td>...</td>\n",
       "      <td>...</td>\n",
       "      <td>...</td>\n",
       "      <td>...</td>\n",
       "    </tr>\n",
       "    <tr>\n",
       "      <td>61</td>\n",
       "      <td>0</td>\n",
       "      <td>1</td>\n",
       "      <td>0</td>\n",
       "      <td>0</td>\n",
       "      <td>0</td>\n",
       "      <td>0</td>\n",
       "      <td>0</td>\n",
       "      <td>0</td>\n",
       "      <td>0</td>\n",
       "      <td>0</td>\n",
       "      <td>...</td>\n",
       "      <td>0</td>\n",
       "      <td>0</td>\n",
       "      <td>0</td>\n",
       "      <td>0</td>\n",
       "      <td>0</td>\n",
       "      <td>0</td>\n",
       "      <td>0</td>\n",
       "      <td>0</td>\n",
       "      <td>0</td>\n",
       "      <td>0</td>\n",
       "    </tr>\n",
       "    <tr>\n",
       "      <td>62</td>\n",
       "      <td>0</td>\n",
       "      <td>0</td>\n",
       "      <td>0</td>\n",
       "      <td>0</td>\n",
       "      <td>0</td>\n",
       "      <td>0</td>\n",
       "      <td>0</td>\n",
       "      <td>0</td>\n",
       "      <td>0</td>\n",
       "      <td>0</td>\n",
       "      <td>...</td>\n",
       "      <td>0</td>\n",
       "      <td>0</td>\n",
       "      <td>0</td>\n",
       "      <td>0</td>\n",
       "      <td>0</td>\n",
       "      <td>0</td>\n",
       "      <td>0</td>\n",
       "      <td>0</td>\n",
       "      <td>0</td>\n",
       "      <td>0</td>\n",
       "    </tr>\n",
       "    <tr>\n",
       "      <td>63</td>\n",
       "      <td>0</td>\n",
       "      <td>0</td>\n",
       "      <td>0</td>\n",
       "      <td>0</td>\n",
       "      <td>0</td>\n",
       "      <td>0</td>\n",
       "      <td>0</td>\n",
       "      <td>0</td>\n",
       "      <td>0</td>\n",
       "      <td>0</td>\n",
       "      <td>...</td>\n",
       "      <td>0</td>\n",
       "      <td>0</td>\n",
       "      <td>0</td>\n",
       "      <td>0</td>\n",
       "      <td>0</td>\n",
       "      <td>0</td>\n",
       "      <td>0</td>\n",
       "      <td>0</td>\n",
       "      <td>0</td>\n",
       "      <td>0</td>\n",
       "    </tr>\n",
       "    <tr>\n",
       "      <td>64</td>\n",
       "      <td>0</td>\n",
       "      <td>0</td>\n",
       "      <td>0</td>\n",
       "      <td>0</td>\n",
       "      <td>0</td>\n",
       "      <td>0</td>\n",
       "      <td>0</td>\n",
       "      <td>0</td>\n",
       "      <td>0</td>\n",
       "      <td>0</td>\n",
       "      <td>...</td>\n",
       "      <td>0</td>\n",
       "      <td>0</td>\n",
       "      <td>0</td>\n",
       "      <td>0</td>\n",
       "      <td>0</td>\n",
       "      <td>0</td>\n",
       "      <td>0</td>\n",
       "      <td>0</td>\n",
       "      <td>0</td>\n",
       "      <td>0</td>\n",
       "    </tr>\n",
       "    <tr>\n",
       "      <td>65</td>\n",
       "      <td>0</td>\n",
       "      <td>0</td>\n",
       "      <td>0</td>\n",
       "      <td>0</td>\n",
       "      <td>0</td>\n",
       "      <td>0</td>\n",
       "      <td>0</td>\n",
       "      <td>0</td>\n",
       "      <td>0</td>\n",
       "      <td>0</td>\n",
       "      <td>...</td>\n",
       "      <td>0</td>\n",
       "      <td>0</td>\n",
       "      <td>1</td>\n",
       "      <td>0</td>\n",
       "      <td>0</td>\n",
       "      <td>0</td>\n",
       "      <td>0</td>\n",
       "      <td>0</td>\n",
       "      <td>0</td>\n",
       "      <td>0</td>\n",
       "    </tr>\n",
       "  </tbody>\n",
       "</table>\n",
       "<p>66 rows × 46 columns</p>\n",
       "</div>"
      ],
      "text/plain": [
       "    amy  and  arrive  art  be  but  class  classroom  didn  different  ...  \\\n",
       "0     1    0       0    0   0    0      0          0     0          0  ...   \n",
       "1     0    0       0    0   0    0      0          0     0          0  ...   \n",
       "2     0    0       0    0   0    0      0          0     0          0  ...   \n",
       "3     0    0       0    0   0    0      0          0     0          0  ...   \n",
       "4     0    0       0    0   0    0      0          0     0          0  ...   \n",
       "..  ...  ...     ...  ...  ..  ...    ...        ...   ...        ...  ...   \n",
       "61    0    1       0    0   0    0      0          0     0          0  ...   \n",
       "62    0    0       0    0   0    0      0          0     0          0  ...   \n",
       "63    0    0       0    0   0    0      0          0     0          0  ...   \n",
       "64    0    0       0    0   0    0      0          0     0          0  ...   \n",
       "65    0    0       0    0   0    0      0          0     0          0  ...   \n",
       "\n",
       "    the  this  too  turn  wait  when  why  year  you  your  \n",
       "0     0     0    0     0     0     0    0     0    0     0  \n",
       "1     0     0    0     0     0     0    0     0    0     0  \n",
       "2     0     0    0     0     0     0    0     0    0     0  \n",
       "3     0     0    0     0     0     0    0     0    0     0  \n",
       "4     0     0    0     0     0     0    0     0    0     0  \n",
       "..  ...   ...  ...   ...   ...   ...  ...   ...  ...   ...  \n",
       "61    0     0    0     0     0     0    0     0    0     0  \n",
       "62    0     0    0     0     0     0    0     0    0     0  \n",
       "63    0     0    0     0     0     0    0     0    0     0  \n",
       "64    0     0    0     0     0     0    0     0    0     0  \n",
       "65    0     0    1     0     0     0    0     0    0     0  \n",
       "\n",
       "[66 rows x 46 columns]"
      ]
     },
     "execution_count": 8,
     "metadata": {},
     "output_type": "execute_result"
    }
   ],
   "source": [
    "# перевод в векторную форму:\n",
    "vectorizer = CountVectorizer()\n",
    "bag_words = vectorizer.fit_transform(lemma)\n",
    "feature_names = vectorizer.get_feature_names()\n",
    "# вывод матрицы в виде DF\n",
    "pd.DataFrame(bag_words.toarray(), columns = feature_names)"
   ]
  },
  {
   "cell_type": "raw",
   "metadata": {},
   "source": [
    "Линейное уменьшение размерности посредством усеченного разложения по сингулярным числам (SVD)."
   ]
  },
  {
   "cell_type": "raw",
   "metadata": {},
   "source": [
    "Количество главных компонент уменьшено с 46 до 34, потеря информации составила менее 20%."
   ]
  },
  {
   "cell_type": "code",
   "execution_count": 9,
   "metadata": {},
   "outputs": [
    {
     "data": {
      "text/plain": [
       "TruncatedSVD(algorithm='randomized', n_components=34, n_iter=5,\n",
       "             random_state=None, tol=0.0)"
      ]
     },
     "execution_count": 9,
     "metadata": {},
     "output_type": "execute_result"
    }
   ],
   "source": [
    "svd = TruncatedSVD(n_components=34)\n",
    "svd.fit(bag_words)"
   ]
  },
  {
   "cell_type": "code",
   "execution_count": 10,
   "metadata": {},
   "outputs": [
    {
     "name": "stdout",
     "output_type": "stream",
     "text": [
      "0.8060245678680082\n"
     ]
    }
   ],
   "source": [
    "# сохраненное количество информации:\n",
    "print(svd.explained_variance_ratio_.sum())"
   ]
  },
  {
   "cell_type": "code",
   "execution_count": 11,
   "metadata": {},
   "outputs": [],
   "source": [
    "array = []\n",
    "for i in range(len(feature_names)) :\n",
    "    svd = TruncatedSVD(n_components=(i))\n",
    "    svd.fit(bag_words)\n",
    "    array.append(svd.explained_variance_ratio_.sum())# =  svd.explained_variance_ratio_.sum()"
   ]
  },
  {
   "cell_type": "code",
   "execution_count": 12,
   "metadata": {},
   "outputs": [
    {
     "data": {
      "image/png": "[encoded data removed]",
      "text/plain": [
       "<Figure size 432x288 with 1 Axes>"
      ]
     },
     "metadata": {
      "needs_background": "light"
     },
     "output_type": "display_data"
    }
   ],
   "source": [
    "# график зависимости потери данных от количества компонент\n",
    "plt.plot(array)\n",
    "plt.grid()\n",
    "plt.show()"
   ]
  },
  {
   "cell_type": "raw",
   "metadata": {},
   "source": [
    "Вывод:\n",
    "\n",
    "В результате обработки исходного текста различными методами, последний был приведен к векторному виду, с потерей не более 20 % информации исходных слов. \n",
    "При изначальное количество слов - 63, конечное число главных компонент - 34.\n"
   ]
  },
  {
   "cell_type": "code",
   "execution_count": null,
   "metadata": {},
   "outputs": [],
   "source": []
  }
 ],
 "metadata": {
  "kernelspec": {
   "display_name": "Python 3",
   "language": "python",
   "name": "python3"
  },
  "language_info": {
   "codemirror_mode": {
    "name": "ipython",
    "version": 3
   },
   "file_extension": ".py",
   "mimetype": "text/x-python",
   "name": "python",
   "nbconvert_exporter": "python",
   "pygments_lexer": "ipython3",
   "version": "3.7.7"
  }
 },
 "nbformat": 4,
 "nbformat_minor": 2
}
