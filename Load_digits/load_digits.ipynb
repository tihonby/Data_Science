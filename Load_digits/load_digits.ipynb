{
 "cells": [
  {
   "cell_type": "raw",
   "metadata": {},
   "source": [
    "Цель: работа с рукописными изображениями цифр методами кластеризации.\n",
    "\n",
    "Данные:\n",
    "Файл : load_digits\n",
    " \n",
    "Задача: \n",
    "кластеризовать изображениями цифр иерархической кластеризацией и алгоритмом  𝐾 -means, оценить качество разбиения и выбирать оптимальное число кластеров, визуализировать промежуточные результаты.\n"
   ]
  },
  {
   "cell_type": "code",
   "execution_count": 25,
   "metadata": {},
   "outputs": [],
   "source": [
    "import numpy as np\n",
    "import pandas as pd\n",
    "import matplotlib.pyplot as plt\n",
    "%matplotlib inline\n",
    "import seaborn as sns\n",
    "import pylab as plt\n",
    "import seaborn as sns; sns.set(style='white')\n",
    "from sklearn.metrics import f1_score\n",
    "from sklearn.model_selection import StratifiedKFold\n",
    "from category_encoders import *\n",
    "from scipy import stats\n",
    "from scipy.stats import norm\n",
    "from sklearn.metrics import roc_auc_score\n",
    "from sklearn.datasets import load_digits\n",
    "from sklearn.metrics import confusion_matrix\n",
    "from sklearn import decomposition\n",
    "from sklearn import datasets\n",
    "from mpl_toolkits.mplot3d import Axes3D\n",
    "# conda install -c anaconda seaborn\n",
    "import warnings\n",
    "warnings.simplefilter('ignore')"
   ]
  },
  {
   "cell_type": "raw",
   "metadata": {},
   "source": [
    "Загрузка и изучение данных:"
   ]
  },
  {
   "cell_type": "code",
   "execution_count": 2,
   "metadata": {},
   "outputs": [
    {
     "name": "stdout",
     "output_type": "stream",
     "text": [
      "(1797, 64)\n"
     ]
    }
   ],
   "source": [
    "from sklearn.datasets import load_digits\n",
    "digits = load_digits()\n",
    "print(digits.data.shape)\n",
    "#digits"
   ]
  },
  {
   "cell_type": "code",
   "execution_count": 3,
   "metadata": {},
   "outputs": [
    {
     "data": {
      "text/plain": [
       "array([[ 0.,  0.,  5., ...,  0.,  0.,  0.],\n",
       "       [ 0.,  0.,  0., ..., 10.,  0.,  0.],\n",
       "       [ 0.,  0.,  0., ..., 16.,  9.,  0.],\n",
       "       ...,\n",
       "       [ 0.,  0.,  1., ...,  6.,  0.,  0.],\n",
       "       [ 0.,  0.,  2., ..., 12.,  0.,  0.],\n",
       "       [ 0.,  0., 10., ..., 12.,  1.,  0.]])"
      ]
     },
     "execution_count": 3,
     "metadata": {},
     "output_type": "execute_result"
    }
   ],
   "source": [
    "digits['data']  "
   ]
  },
  {
   "cell_type": "code",
   "execution_count": 4,
   "metadata": {},
   "outputs": [
    {
     "data": {
      "text/plain": [
       "array([0, 1, 2, ..., 8, 9, 8])"
      ]
     },
     "execution_count": 4,
     "metadata": {},
     "output_type": "execute_result"
    }
   ],
   "source": [
    "digits['target']"
   ]
  },
  {
   "cell_type": "code",
   "execution_count": 5,
   "metadata": {},
   "outputs": [
    {
     "data": {
      "text/plain": [
       "array([0, 1, 2, 3, 4, 5, 6, 7, 8, 9])"
      ]
     },
     "execution_count": 5,
     "metadata": {},
     "output_type": "execute_result"
    }
   ],
   "source": [
    "digits['target_names']"
   ]
  },
  {
   "cell_type": "code",
   "execution_count": 6,
   "metadata": {},
   "outputs": [
    {
     "data": {
      "text/plain": [
       "array([[[ 0.,  0.,  5., ...,  1.,  0.,  0.],\n",
       "        [ 0.,  0., 13., ..., 15.,  5.,  0.],\n",
       "        [ 0.,  3., 15., ..., 11.,  8.,  0.],\n",
       "        ...,\n",
       "        [ 0.,  4., 11., ..., 12.,  7.,  0.],\n",
       "        [ 0.,  2., 14., ..., 12.,  0.,  0.],\n",
       "        [ 0.,  0.,  6., ...,  0.,  0.,  0.]],\n",
       "\n",
       "       [[ 0.,  0.,  0., ...,  5.,  0.,  0.],\n",
       "        [ 0.,  0.,  0., ...,  9.,  0.,  0.],\n",
       "        [ 0.,  0.,  3., ...,  6.,  0.,  0.],\n",
       "        ...,\n",
       "        [ 0.,  0.,  1., ...,  6.,  0.,  0.],\n",
       "        [ 0.,  0.,  1., ...,  6.,  0.,  0.],\n",
       "        [ 0.,  0.,  0., ..., 10.,  0.,  0.]],\n",
       "\n",
       "       [[ 0.,  0.,  0., ..., 12.,  0.,  0.],\n",
       "        [ 0.,  0.,  3., ..., 14.,  0.,  0.],\n",
       "        [ 0.,  0.,  8., ..., 16.,  0.,  0.],\n",
       "        ...,\n",
       "        [ 0.,  9., 16., ...,  0.,  0.,  0.],\n",
       "        [ 0.,  3., 13., ..., 11.,  5.,  0.],\n",
       "        [ 0.,  0.,  0., ..., 16.,  9.,  0.]],\n",
       "\n",
       "       ...,\n",
       "\n",
       "       [[ 0.,  0.,  1., ...,  1.,  0.,  0.],\n",
       "        [ 0.,  0., 13., ...,  2.,  1.,  0.],\n",
       "        [ 0.,  0., 16., ..., 16.,  5.,  0.],\n",
       "        ...,\n",
       "        [ 0.,  0., 16., ..., 15.,  0.,  0.],\n",
       "        [ 0.,  0., 15., ..., 16.,  0.,  0.],\n",
       "        [ 0.,  0.,  2., ...,  6.,  0.,  0.]],\n",
       "\n",
       "       [[ 0.,  0.,  2., ...,  0.,  0.,  0.],\n",
       "        [ 0.,  0., 14., ..., 15.,  1.,  0.],\n",
       "        [ 0.,  4., 16., ..., 16.,  7.,  0.],\n",
       "        ...,\n",
       "        [ 0.,  0.,  0., ..., 16.,  2.,  0.],\n",
       "        [ 0.,  0.,  4., ..., 16.,  2.,  0.],\n",
       "        [ 0.,  0.,  5., ..., 12.,  0.,  0.]],\n",
       "\n",
       "       [[ 0.,  0., 10., ...,  1.,  0.,  0.],\n",
       "        [ 0.,  2., 16., ...,  1.,  0.,  0.],\n",
       "        [ 0.,  0., 15., ..., 15.,  0.,  0.],\n",
       "        ...,\n",
       "        [ 0.,  4., 16., ..., 16.,  6.,  0.],\n",
       "        [ 0.,  8., 16., ..., 16.,  8.,  0.],\n",
       "        [ 0.,  1.,  8., ..., 12.,  1.,  0.]]])"
      ]
     },
     "execution_count": 6,
     "metadata": {},
     "output_type": "execute_result"
    }
   ],
   "source": [
    "digits['images']"
   ]
  },
  {
   "cell_type": "raw",
   "metadata": {},
   "source": [
    "Получение изображения из digits['images']:"
   ]
  },
  {
   "cell_type": "code",
   "execution_count": 7,
   "metadata": {},
   "outputs": [
    {
     "data": {
      "image/png": "[encoded data removed]",
      "text/plain": [
       "<Figure size 288x288 with 1 Axes>"
      ]
     },
     "metadata": {
      "needs_background": "light"
     },
     "output_type": "display_data"
    }
   ],
   "source": [
    "#plt.gray()\n",
    "plt.matshow(digits.images[0]) \n",
    "plt.show()"
   ]
  },
  {
   "cell_type": "raw",
   "metadata": {},
   "source": [
    "Получение изображения из digits['images']:\n",
    "Инверсия цвета, уменшение размера, :"
   ]
  },
  {
   "cell_type": "code",
   "execution_count": 8,
   "metadata": {},
   "outputs": [
    {
     "data": {
      "image/png": "[encoded data removed]",
      "text/plain": [
       "<Figure size 216x216 with 1 Axes>"
      ]
     },
     "metadata": {},
     "output_type": "display_data"
    }
   ],
   "source": [
    "plt.figure(1, figsize=(3,3))\n",
    "plt.imshow(digits.data[0].reshape(8, 8), cmap=plt.cm.gray_r, interpolation='nearest')\n",
    "plt.xticks([])\n",
    "plt.yticks([])\n",
    "plt.show()"
   ]
  },
  {
   "cell_type": "code",
   "execution_count": 9,
   "metadata": {},
   "outputs": [],
   "source": [
    "# присвоение значений X, y:\n",
    "X = digits.data\n",
    "y = digits.target\n",
    "samples, features = X.shape"
   ]
  },
  {
   "cell_type": "code",
   "execution_count": 10,
   "metadata": {},
   "outputs": [
    {
     "data": {
      "text/plain": [
       "array([[ 0.,  0.,  5., ...,  0.,  0.,  0.],\n",
       "       [ 0.,  0.,  0., ..., 10.,  0.,  0.],\n",
       "       [ 0.,  0.,  0., ..., 16.,  9.,  0.],\n",
       "       ...,\n",
       "       [ 0.,  0.,  1., ...,  6.,  0.,  0.],\n",
       "       [ 0.,  0.,  2., ..., 12.,  0.,  0.],\n",
       "       [ 0.,  0., 10., ..., 12.,  1.,  0.]])"
      ]
     },
     "execution_count": 10,
     "metadata": {},
     "output_type": "execute_result"
    }
   ],
   "source": [
    "X"
   ]
  },
  {
   "cell_type": "code",
   "execution_count": 11,
   "metadata": {},
   "outputs": [
    {
     "data": {
      "text/plain": [
       "array([0, 1, 2, ..., 8, 9, 8])"
      ]
     },
     "execution_count": 11,
     "metadata": {},
     "output_type": "execute_result"
    }
   ],
   "source": [
    "y"
   ]
  },
  {
   "cell_type": "raw",
   "metadata": {},
   "source": [
    "Вывод изображений цифр в сетке 3х4:"
   ]
  },
  {
   "cell_type": "code",
   "execution_count": 14,
   "metadata": {},
   "outputs": [
    {
     "data": {
      "image/png": "[encoded data removed]",
      "text/plain": [
       "<Figure size 648x648 with 10 Axes>"
      ]
     },
     "metadata": {},
     "output_type": "display_data"
    }
   ],
   "source": [
    "for index, (image, label) in enumerate(zip(digits.data[0:10], digits.target[0:10])):\n",
    "    plt.figure(1, figsize=(9, 9))\n",
    "    plt.subplot(3, 4, index + 1)\n",
    "    plt.imshow(np.reshape(image, (8,8)), cmap=plt.cm.gray_r)\n",
    "    plt.xticks([])\n",
    "    plt.yticks([])\n",
    "    plt.title('target: %i\\n' % label, fontsize = 10)\n",
    "    #plt.show()"
   ]
  },
  {
   "cell_type": "markdown",
   "metadata": {},
   "source": [
    " Кластеризация и оценка качества\n",
    "\n",
    "Алгоритмы кластеризации: AgglomerativeClustering и KMeans, разбиение массива X на 10 кластеров.\n",
    "\n",
    "KMeans делает несколько (по умолчанию 10) запусков со случайными центрами и из полученных разбиений выводит лучшее в терминах среднего внутрикластерного расстояния. Чтобы улучшить качество предсказаний, можно увеличить число запусков, например, до 100. Это параметр n_init в конструкторе."
   ]
  },
  {
   "cell_type": "raw",
   "metadata": {},
   "source": [
    "Алгоритм кластеризации KMeans:"
   ]
  },
  {
   "cell_type": "code",
   "execution_count": 15,
   "metadata": {},
   "outputs": [
    {
     "data": {
      "text/plain": [
       "KMeans(algorithm='auto', copy_x=True, init='k-means++', max_iter=300,\n",
       "       n_clusters=10, n_init=10, n_jobs=None, precompute_distances='auto',\n",
       "       random_state=None, tol=0.0001, verbose=0)"
      ]
     },
     "execution_count": 15,
     "metadata": {},
     "output_type": "execute_result"
    }
   ],
   "source": [
    "from sklearn.cluster import KMeans\n",
    "kmeans = KMeans(n_clusters=10, n_init=10) # n_init=100\n",
    "kmeans"
   ]
  },
  {
   "cell_type": "code",
   "execution_count": 19,
   "metadata": {},
   "outputs": [
    {
     "data": {
      "text/plain": [
       "(1797,)"
      ]
     },
     "execution_count": 19,
     "metadata": {},
     "output_type": "execute_result"
    }
   ],
   "source": [
    "pr_km = kmeans.fit_predict(X)\n",
    "pr_km.shape"
   ]
  },
  {
   "cell_type": "code",
   "execution_count": 20,
   "metadata": {},
   "outputs": [
    {
     "data": {
      "text/plain": [
       "array([0, 1, 2, ..., 8, 9, 8])"
      ]
     },
     "execution_count": 20,
     "metadata": {},
     "output_type": "execute_result"
    }
   ],
   "source": [
    "y"
   ]
  },
  {
   "cell_type": "raw",
   "metadata": {},
   "source": [
    "Номера кластеров не будут совпадать с номерерами другого запуска, и с номерами значений 'target'.\n",
    "Убедимся в этом, значения f1_score будут различаться при каждом новом запуске:"
   ]
  },
  {
   "cell_type": "code",
   "execution_count": 26,
   "metadata": {},
   "outputs": [
    {
     "data": {
      "text/plain": [
       "0.11436485708354344"
      ]
     },
     "execution_count": 26,
     "metadata": {},
     "output_type": "execute_result"
    }
   ],
   "source": [
    "pr_km_1 = kmeans.fit_predict(X)\n",
    "f1_score(pr_km, pr_km_1, average='weighted')"
   ]
  },
  {
   "cell_type": "code",
   "execution_count": 27,
   "metadata": {},
   "outputs": [
    {
     "data": {
      "text/plain": [
       "0.00972699336644178"
      ]
     },
     "execution_count": 27,
     "metadata": {},
     "output_type": "execute_result"
    }
   ],
   "source": [
    "f1_score(y, pr_km, average='weighted')"
   ]
  },
  {
   "cell_type": "raw",
   "metadata": {},
   "source": [
    "Каждый запуск KMeans формирует разные номера кластеров.\n",
    "Нужно присвоить номера кластеров самым частым значениям 'target' для этих кластеров и далее работать с этими данными.\n",
    "Код далее создаёт DataFrame, в котором три столбца: \n",
    "'predict' - kmeans.fit_predict(X), номера кластеров\n",
    "'target' - digits.target, цифра соответствующая этому предсказанию\n",
    "'trf_pred' - самая встречаемая цифра для этого кластера.\n",
    "\n"
   ]
  },
  {
   "cell_type": "code",
   "execution_count": 28,
   "metadata": {},
   "outputs": [
    {
     "data": {
      "text/html": [
       "<div>\n",
       "<style scoped>\n",
       "    .dataframe tbody tr th:only-of-type {\n",
       "        vertical-align: middle;\n",
       "    }\n",
       "\n",
       "    .dataframe tbody tr th {\n",
       "        vertical-align: top;\n",
       "    }\n",
       "\n",
       "    .dataframe thead th {\n",
       "        text-align: right;\n",
       "    }\n",
       "</style>\n",
       "<table border=\"1\" class=\"dataframe\">\n",
       "  <thead>\n",
       "    <tr style=\"text-align: right;\">\n",
       "      <th></th>\n",
       "      <th>predict</th>\n",
       "      <th>target</th>\n",
       "      <th>trf_pred</th>\n",
       "    </tr>\n",
       "  </thead>\n",
       "  <tbody>\n",
       "    <tr>\n",
       "      <td>0</td>\n",
       "      <td>8</td>\n",
       "      <td>0</td>\n",
       "      <td>8</td>\n",
       "    </tr>\n",
       "    <tr>\n",
       "      <td>1</td>\n",
       "      <td>5</td>\n",
       "      <td>1</td>\n",
       "      <td>5</td>\n",
       "    </tr>\n",
       "    <tr>\n",
       "      <td>2</td>\n",
       "      <td>5</td>\n",
       "      <td>2</td>\n",
       "      <td>5</td>\n",
       "    </tr>\n",
       "    <tr>\n",
       "      <td>3</td>\n",
       "      <td>6</td>\n",
       "      <td>3</td>\n",
       "      <td>6</td>\n",
       "    </tr>\n",
       "    <tr>\n",
       "      <td>4</td>\n",
       "      <td>7</td>\n",
       "      <td>4</td>\n",
       "      <td>7</td>\n",
       "    </tr>\n",
       "    <tr>\n",
       "      <td>...</td>\n",
       "      <td>...</td>\n",
       "      <td>...</td>\n",
       "      <td>...</td>\n",
       "    </tr>\n",
       "    <tr>\n",
       "      <td>1792</td>\n",
       "      <td>2</td>\n",
       "      <td>9</td>\n",
       "      <td>2</td>\n",
       "    </tr>\n",
       "    <tr>\n",
       "      <td>1793</td>\n",
       "      <td>8</td>\n",
       "      <td>0</td>\n",
       "      <td>8</td>\n",
       "    </tr>\n",
       "    <tr>\n",
       "      <td>1794</td>\n",
       "      <td>5</td>\n",
       "      <td>8</td>\n",
       "      <td>5</td>\n",
       "    </tr>\n",
       "    <tr>\n",
       "      <td>1795</td>\n",
       "      <td>2</td>\n",
       "      <td>9</td>\n",
       "      <td>2</td>\n",
       "    </tr>\n",
       "    <tr>\n",
       "      <td>1796</td>\n",
       "      <td>2</td>\n",
       "      <td>8</td>\n",
       "      <td>2</td>\n",
       "    </tr>\n",
       "  </tbody>\n",
       "</table>\n",
       "<p>1797 rows × 3 columns</p>\n",
       "</div>"
      ],
      "text/plain": [
       "      predict  target  trf_pred\n",
       "0           8       0         8\n",
       "1           5       1         5\n",
       "2           5       2         5\n",
       "3           6       3         6\n",
       "4           7       4         7\n",
       "...       ...     ...       ...\n",
       "1792        2       9         2\n",
       "1793        8       0         8\n",
       "1794        5       8         5\n",
       "1795        2       9         2\n",
       "1796        2       8         2\n",
       "\n",
       "[1797 rows x 3 columns]"
      ]
     },
     "execution_count": 28,
     "metadata": {},
     "output_type": "execute_result"
    }
   ],
   "source": [
    "df = pd.DataFrame(np.array([pr_km, y]).T, columns=['predict', 'target'])\n",
    "df['trf_pred'] = df['predict'] # происходит копирование в trf_pred номеров кластеров \n",
    "df"
   ]
  },
  {
   "cell_type": "code",
   "execution_count": 29,
   "metadata": {},
   "outputs": [
    {
     "data": {
      "text/plain": [
       "9    139\n",
       "8     51\n",
       "5     43\n",
       "3     13\n",
       "2      2\n",
       "Name: target, dtype: int64"
      ]
     },
     "execution_count": 29,
     "metadata": {},
     "output_type": "execute_result"
    }
   ],
   "source": [
    "# Это соответсвие кластера номер 2 различным цифрам. \n",
    "# Самая частая будет присвоена этому номеру кластера. \n",
    "df[df.predict == 2]['target'].value_counts()"
   ]
  },
  {
   "cell_type": "code",
   "execution_count": 30,
   "metadata": {
    "scrolled": true
   },
   "outputs": [
    {
     "data": {
      "text/plain": [
       "3    183\n",
       "5    182\n",
       "1    182\n",
       "6    181\n",
       "4    181\n",
       "9    180\n",
       "7    179\n",
       "0    178\n",
       "2    177\n",
       "8    174\n",
       "Name: target, dtype: int64"
      ]
     },
     "execution_count": 30,
     "metadata": {},
     "output_type": "execute_result"
    }
   ],
   "source": [
    "# Встречаемость различных цифр\n",
    "df['target'].value_counts()"
   ]
  },
  {
   "cell_type": "raw",
   "metadata": {},
   "source": [
    "'trf_pred' - перевод значений 'predict' в самую встречаемую цифру 'target' для этого 'predict',\n",
    "т.е происходит присвоение номеру кластера, самой встречаемой цифры для этого кластера.\n",
    "Далее сравнивается значение 'trf_pred' и 'target'."
   ]
  },
  {
   "cell_type": "code",
   "execution_count": 31,
   "metadata": {},
   "outputs": [
    {
     "name": "stdout",
     "output_type": "stream",
     "text": [
      "target = 2\n",
      "predict =  \n",
      " 2    147\n",
      "1     24\n",
      "8      3\n",
      "Name: target, dtype: int64\n",
      "f1_score =  0.9158878504672897 \n",
      "\n",
      "target = 7\n",
      "predict =  \n",
      " 7    175\n",
      "4      9\n",
      "9      7\n",
      "3      7\n",
      "8      5\n",
      "2      4\n",
      "Name: target, dtype: int64\n",
      "f1_score =  0.9162303664921466 \n",
      "\n",
      "target = 9\n",
      "predict =  \n",
      " 9    139\n",
      "8     51\n",
      "5     43\n",
      "3     13\n",
      "2      2\n",
      "Name: target, dtype: int64\n",
      "f1_score =  0.718346253229974 \n",
      "\n",
      "target = 6\n",
      "predict =  \n",
      " 6    177\n",
      "8      2\n",
      "1      2\n",
      "5      1\n",
      "Name: target, dtype: int64\n",
      "f1_score =  0.9860724233983288 \n",
      "\n",
      "target = 1\n",
      "predict =  \n",
      " 1    55\n",
      "9    20\n",
      "4     7\n",
      "8     6\n",
      "7     2\n",
      "2     2\n",
      "6     1\n",
      "Name: target, dtype: int64\n",
      "f1_score =  0.7432432432432433 \n",
      "\n",
      "target = 8\n",
      "predict =  \n",
      " 8    101\n",
      "1     99\n",
      "2      8\n",
      "3      7\n",
      "4      3\n",
      "9      2\n",
      "7      2\n",
      "6      2\n",
      "Name: target, dtype: int64\n",
      "f1_score =  0.6215384615384615 \n",
      "\n",
      "target = 3\n",
      "predict =  \n",
      " 3    154\n",
      "2     13\n",
      "9      6\n",
      "8      2\n",
      "1      1\n",
      "Name: target, dtype: int64\n",
      "f1_score =  0.9333333333333335 \n",
      "\n",
      "target = 4\n",
      "predict =  \n",
      " 4    162\n",
      "5      2\n",
      "0      1\n",
      "Name: target, dtype: int64\n",
      "f1_score =  0.9908256880733946 \n",
      "\n",
      "target = 0\n",
      "predict =  \n",
      " 0    177\n",
      "6      1\n",
      "2      1\n",
      "Name: target, dtype: int64\n",
      "f1_score =  0.9943820224719103 \n",
      "\n",
      "target = 5\n",
      "predict =  \n",
      " 5    136\n",
      "9      6\n",
      "8      4\n",
      "3      2\n",
      "1      1\n",
      "Name: target, dtype: int64\n",
      "f1_score =  0.9543859649122807 \n",
      "\n"
     ]
    }
   ],
   "source": [
    "for j in digits['target_names']:\n",
    "    ind = df[df.predict == j]\n",
    "    \n",
    "    for i in range(len(ind.index)):\n",
    "        df.loc[ind.index[i],('trf_pred')] = ind['target'].value_counts().index[0]\n",
    "    print('target =', ind['target'].value_counts().index[0]) \n",
    "    print ('predict = ','\\n', df[df.predict == j]['target'].value_counts())\n",
    "    print ('f1_score = ',f1_score(df[df.predict == j]\\\n",
    "            ['trf_pred'], df[df.predict == j]['target'], average='weighted'), '\\n')\n",
    "df_km = df "
   ]
  },
  {
   "cell_type": "code",
   "execution_count": 32,
   "metadata": {},
   "outputs": [],
   "source": [
    "df_km = df.copy() # сохранения df для дальнейшего анализа "
   ]
  },
  {
   "cell_type": "raw",
   "metadata": {},
   "source": [
    "Результат кластеризации KMeans:"
   ]
  },
  {
   "cell_type": "code",
   "execution_count": 33,
   "metadata": {},
   "outputs": [
    {
     "name": "stdout",
     "output_type": "stream",
     "text": [
      "f1_score KMeans =  0.7889032727514584\n"
     ]
    }
   ],
   "source": [
    "f1_sc_km = f1_score(df['target'], df['trf_pred'], average='weighted')\n",
    "print ('f1_score KMeans = ', f1_sc_km)"
   ]
  },
  {
   "cell_type": "raw",
   "metadata": {},
   "source": [
    "Качество предсказаний с различным числом запусков:\n",
    "f1_score KMeans =  0.7895143889790145  n_init=5\n",
    "f1_score KMeans =  0.7903754842799171  n_init=10\n",
    "f1_score KMeans =  0.7891424848342012  n_init=100\n",
    "f1_score KMeans =  0.7886051375502969  n_init=1000\n",
    "\n",
    "\n",
    "Анализ рааботы KMeans:\n",
    "цифры 0 2 4 5 6 7 алгоритм распознает хорошо, ошибок мало.\n",
    "Количество запусков на качество предсказаний в данном случае не влияет.\n"
   ]
  },
  {
   "cell_type": "raw",
   "metadata": {},
   "source": [
    "\n",
    "Алгоритм кластеризации: AgglomerativeClustering:"
   ]
  },
  {
   "cell_type": "code",
   "execution_count": 66,
   "metadata": {},
   "outputs": [
    {
     "data": {
      "text/plain": [
       "AgglomerativeClustering(affinity='euclidean', compute_full_tree='auto',\n",
       "                        connectivity=None, distance_threshold=None,\n",
       "                        linkage='ward', memory=None, n_clusters=10,\n",
       "                        pooling_func='deprecated')"
      ]
     },
     "execution_count": 66,
     "metadata": {},
     "output_type": "execute_result"
    }
   ],
   "source": [
    "from sklearn.cluster import AgglomerativeClustering\n",
    "digits = load_digits()\n",
    "X = digits.data\n",
    "y = digits.target\n",
    "clustering = AgglomerativeClustering(n_clusters=10, linkage='ward')\n",
    "clustering"
   ]
  },
  {
   "cell_type": "code",
   "execution_count": 67,
   "metadata": {},
   "outputs": [],
   "source": [
    "agg = clustering.fit_predict(X)\n"
   ]
  },
  {
   "cell_type": "code",
   "execution_count": 68,
   "metadata": {},
   "outputs": [
    {
     "name": "stdout",
     "output_type": "stream",
     "text": [
      "target = 5\n",
      "predict =  \n",
      " 5    179\n",
      "9      2\n",
      "Name: target, dtype: int64\n",
      "f1_score =  0.9944444444444445 \n",
      "\n",
      "target = 3\n",
      "predict =  \n",
      " 3    169\n",
      "9    145\n",
      "5      2\n",
      "8      1\n",
      "Name: target, dtype: int64\n",
      "f1_score =  0.6954732510288066 \n",
      "\n",
      "target = 2\n",
      "predict =  \n",
      " 2    166\n",
      "1     27\n",
      "8      4\n",
      "Name: target, dtype: int64\n",
      "f1_score =  0.9146005509641874 \n",
      "\n",
      "target = 7\n",
      "predict =  \n",
      " 7    179\n",
      "9     11\n",
      "4      3\n",
      "8      1\n",
      "3      1\n",
      "2      1\n",
      "Name: target, dtype: int64\n",
      "f1_score =  0.9546666666666667 \n",
      "\n",
      "target = 8\n",
      "predict =  \n",
      " 8    165\n",
      "3     13\n",
      "2     10\n",
      "9      2\n",
      "6      1\n",
      "Name: target, dtype: int64\n",
      "f1_score =  0.9269662921348314 \n",
      "\n",
      "target = 4\n",
      "predict =  \n",
      " 4    178\n",
      "Name: target, dtype: int64\n",
      "f1_score =  1.0 \n",
      "\n",
      "target = 6\n",
      "predict =  \n",
      " 6    180\n",
      "5      1\n",
      "Name: target, dtype: int64\n",
      "f1_score =  0.9972299168975068 \n",
      "\n",
      "target = 0\n",
      "predict =  \n",
      " 0    178\n",
      "Name: target, dtype: int64\n",
      "f1_score =  1.0 \n",
      "\n",
      "target = 1\n",
      "predict =  \n",
      " 1    59\n",
      "9    20\n",
      "8     1\n",
      "Name: target, dtype: int64\n",
      "f1_score =  0.8489208633093526 \n",
      "\n",
      "target = 1\n",
      "predict =  \n",
      " 1    96\n",
      "8     2\n",
      "Name: target, dtype: int64\n",
      "f1_score =  0.9896907216494845 \n",
      "\n"
     ]
    }
   ],
   "source": [
    "df = pd.DataFrame(np.array([agg, y]).T, columns=['predict', 'target'])\n",
    "df['trf_pred'] = df['predict'] \n",
    "for j in digits['target_names']:\n",
    "    ind = df[df.predict == j]\n",
    "    for i in range(len(ind.index)):\n",
    "        df.loc[ind.index[i],('trf_pred')] = ind['target'].value_counts().index[0]\n",
    "    print('target =', ind['target'].value_counts().index[0]) \n",
    "    print ('predict = ','\\n', df[df.predict == j]['target'].value_counts())\n",
    "    print ('f1_score = ',f1_score(df[df.predict == j]\\\n",
    "            ['trf_pred'], df[df.predict == j]['target'], average='weighted'), '\\n')\n",
    "  "
   ]
  },
  {
   "cell_type": "code",
   "execution_count": 69,
   "metadata": {},
   "outputs": [],
   "source": [
    "df_aggl = df.copy() # сохранения df для дальнейшего анализа \n"
   ]
  },
  {
   "cell_type": "code",
   "execution_count": 70,
   "metadata": {},
   "outputs": [
    {
     "name": "stdout",
     "output_type": "stream",
     "text": [
      "f1_score Agglomer =  0.8251164144851584\n"
     ]
    }
   ],
   "source": [
    "f1_sc_aggl = f1_score(df['target'], df['trf_pred'], average='weighted')\n",
    "print ('f1_score Agglomer = ', f1_sc_aggl)"
   ]
  },
  {
   "cell_type": "raw",
   "metadata": {},
   "source": [
    "Критерий связи определяет, какое расстояние использовать между наборами наблюдений. Алгоритм объединит пары кластеров, которые минимизируют этот критерий.\n",
    "Результаты с разными критериями связи:\n",
    "\n",
    "f1_score Agglomer =  0.8251164144851584   linkage='ward' \n",
    "f1_score Agglomer =  0.5576302369438167   linkage='complete'\n",
    "f1_score Agglomer =  0.5479862807917779   linkage='average'\n",
    "f1_score Agglomer =  0.0287835933754208   linkage='single'"
   ]
  },
  {
   "cell_type": "raw",
   "metadata": {},
   "source": [
    "Анализ рааботы AgglomerativeClustering:\n",
    "цифры 0 2 4 5 6 7 алгоритм распознает хорошо, много ошибок с цифрой 9.\n",
    "Цифра 9 не была определена алгоритмом, как большинство точек. Вместо этого было два кластера для цифры 1.\n",
    "В целом результат кластеризации хороший с linkage='ward', который минимизирует дисперсию объединяемых кластеров.\n",
    "f1_score Agglomer = 0.82 выше чем у \n",
    "f1_score KMeans =  0.79\n"
   ]
  },
  {
   "cell_type": "raw",
   "metadata": {},
   "source": [
    "\n",
    "Визуализация центров кластеров: "
   ]
  },
  {
   "cell_type": "raw",
   "metadata": {},
   "source": [
    "Применим результаты кластеризации к исходным данным и усредним значения по каждому кластеру, и визуализируем: "
   ]
  },
  {
   "cell_type": "code",
   "execution_count": 71,
   "metadata": {},
   "outputs": [],
   "source": [
    "# выбор из всех X строк кластеру, соответсвующему цифре 1: \n",
    "df_a = pd.DataFrame(X)\n",
    "df_a['trf_pred'] = df_aggl['trf_pred']\n",
    "zz = np.array(np.mean( df_a[df_a.trf_pred == 1].drop('trf_pred', 1)))"
   ]
  },
  {
   "cell_type": "code",
   "execution_count": 72,
   "metadata": {},
   "outputs": [
    {
     "data": {
      "image/png": "[encoded data removed]",
      "text/plain": [
       "<Figure size 432x288 with 1 Axes>"
      ]
     },
     "metadata": {},
     "output_type": "display_data"
    }
   ],
   "source": [
    "# визуализация:\n",
    "plt.imshow(zz.reshape([8,8]));\n",
    "plt.show()"
   ]
  },
  {
   "cell_type": "code",
   "execution_count": 73,
   "metadata": {},
   "outputs": [
    {
     "data": {
      "image/png": "[encoded data removed]",
      "text/plain": [
       "<Figure size 648x648 with 10 Axes>"
      ]
     },
     "metadata": {},
     "output_type": "display_data"
    }
   ],
   "source": [
    "# Визуализация центров кластеров для AgglomerativeClustering:\n",
    "for i in digits['target_names']:\n",
    "    zz = np.array(np.mean( df_a[df_a.trf_pred == i].drop('trf_pred', 1)))\n",
    "    plt.figure(1, figsize=(9, 9))\n",
    "    plt.subplot(3, 4, i + 1)\n",
    "    plt.imshow(zz.reshape([8,8]), cmap=plt.cm.gray_r)\n",
    "    plt.xticks([])\n",
    "    plt.yticks([])\n",
    "    plt.title('target: %i\\n' % i, fontsize = 10)\n",
    "    #plt.show()        "
   ]
  },
  {
   "cell_type": "raw",
   "metadata": {},
   "source": [
    "AgglomerativeClustering:\n",
    "Центры кластеров соответствуют цифрам от 1 до 8 и хорошо узнаваемы.\n",
    "Цифра 9 не была определена алгоритмом, как большинство точек. Эта цифра встречалась в других кластерах. Вместо этого было два кластера для цифры 1."
   ]
  },
  {
   "cell_type": "code",
   "execution_count": 74,
   "metadata": {},
   "outputs": [
    {
     "data": {
      "image/png": "[encoded data removed]",
      "text/plain": [
       "<Figure size 648x648 with 10 Axes>"
      ]
     },
     "metadata": {},
     "output_type": "display_data"
    }
   ],
   "source": [
    "# Визуализация центров кластеров для KMeans:\n",
    "# выбор из всех X строк кластеру, соответсвующему цифре 1: \n",
    "df_a = pd.DataFrame(X)\n",
    "df_a['trf_pred'] = df_km['trf_pred']\n",
    "for i in digits['target_names']:\n",
    "    zz = np.array(np.mean( df_a[df_a.trf_pred == i].drop('trf_pred', 1)))\n",
    "    plt.figure(1, figsize=(9, 9))\n",
    "    plt.subplot(3, 4, i + 1)\n",
    "    plt.imshow(zz.reshape([8,8]), cmap=plt.cm.gray_r)\n",
    "    plt.xticks([])\n",
    "    plt.yticks([])\n",
    "    plt.title('target: %i\\n' % i, fontsize = 10)\n",
    "    #plt.show()"
   ]
  },
  {
   "cell_type": "raw",
   "metadata": {},
   "source": [
    "KMeans:\n",
    "Центры кластеров соответствуют цифрам от 1 до 9 и хорошо узнаваемы."
   ]
  },
  {
   "cell_type": "raw",
   "metadata": {},
   "source": []
  },
  {
   "cell_type": "raw",
   "metadata": {},
   "source": [
    "Силуэт для AgglomerativeClustering и KMeans, количесво кластеров от 2 до 20::\n"
   ]
  },
  {
   "cell_type": "code",
   "execution_count": 45,
   "metadata": {},
   "outputs": [
    {
     "data": {
      "image/png": "[encoded data removed]",
      "text/plain": [
       "<Figure size 1080x360 with 1 Axes>"
      ]
     },
     "metadata": {},
     "output_type": "display_data"
    }
   ],
   "source": [
    "# Силует для AgglomerativeClustering, количесво кластеров от 2 до 20:\n",
    "from sklearn import metrics\n",
    "X = digits.data\n",
    "y = digits.target\n",
    "silhouette = []\n",
    "for i in range(2, 21):\n",
    "    clustering_model = AgglomerativeClustering(n_clusters=i, linkage='ward').fit(X)\n",
    "    labels = clustering_model.labels_\n",
    "    metr = metrics.silhouette_score(X, labels, metric='euclidean')\n",
    "    silhouette.append(metr)\n",
    "plt.figure(1, figsize=(15, 5))    \n",
    "plt.plot(range(2, 21), silhouette , marker='.');\n",
    "plt.xlabel('$ clusters  AgglomerativeClustering $')\n",
    "plt.ylabel('$silhouette score$');\n",
    "plt.show()"
   ]
  },
  {
   "cell_type": "code",
   "execution_count": 46,
   "metadata": {},
   "outputs": [
    {
     "data": {
      "text/plain": [
       "0.18061975703867697"
      ]
     },
     "execution_count": 46,
     "metadata": {},
     "output_type": "execute_result"
    }
   ],
   "source": [
    "clustering_model = AgglomerativeClustering(n_clusters=9, linkage='ward').fit(X)\n",
    "labels = clustering_model.labels_\n",
    "metr = metrics.silhouette_score(X, labels, metric='euclidean')\n",
    "metr"
   ]
  },
  {
   "cell_type": "raw",
   "metadata": {},
   "source": [
    "Максимум силуэта для AgglomerativeClustering, при количестве кластеров = 9,\n",
    "metrics.silhouette_score = 0.180619"
   ]
  },
  {
   "cell_type": "raw",
   "metadata": {},
   "source": []
  },
  {
   "cell_type": "code",
   "execution_count": 47,
   "metadata": {},
   "outputs": [
    {
     "data": {
      "image/png": "[encoded data removed]",
      "text/plain": [
       "<Figure size 1080x360 with 1 Axes>"
      ]
     },
     "metadata": {},
     "output_type": "display_data"
    }
   ],
   "source": [
    "# Силует для KMeans, количесво кластеров от 2 до 20:\n",
    "silhouette = []\n",
    "for i in range(2, 21):\n",
    "    kmeans_model = KMeans(n_clusters=i, n_init=10).fit(X)\n",
    "    labels = kmeans_model.labels_\n",
    "    metr = metrics.silhouette_score(X, labels, metric='euclidean')\n",
    "    silhouette.append(metr)\n",
    "plt.figure(1, figsize=(15, 5)) \n",
    "plt.plot(range(2, 21), silhouette , marker='.');\n",
    "plt.xlabel('$ clusters  KMeans $')\n",
    "plt.ylabel('$silhouette score$');\n",
    "plt.show()"
   ]
  },
  {
   "cell_type": "code",
   "execution_count": 48,
   "metadata": {},
   "outputs": [
    {
     "data": {
      "text/plain": [
       "0.18937115962847498"
      ]
     },
     "execution_count": 48,
     "metadata": {},
     "output_type": "execute_result"
    }
   ],
   "source": [
    "kmeans_model = KMeans(n_clusters=9, n_init=10).fit(X)\n",
    "labels = kmeans_model.labels_\n",
    "metr = metrics.silhouette_score(X, labels, metric='euclidean')\n",
    "metr"
   ]
  },
  {
   "cell_type": "raw",
   "metadata": {},
   "source": [
    "Максимум силуэта для KMeans, при количестве кластеров = 9.\n",
    "metrics.silhouette_score = 0.18925"
   ]
  },
  {
   "cell_type": "code",
   "execution_count": 49,
   "metadata": {},
   "outputs": [
    {
     "data": {
      "image/png": "[encoded data removed]",
      "text/plain": [
       "<Figure size 1080x360 with 1 Axes>"
      ]
     },
     "metadata": {},
     "output_type": "display_data"
    }
   ],
   "source": [
    "# 𝑉 -мера для AgglomerativeClustering, количесво кластеров от 2 до 20:\n",
    "labels_true = y\n",
    "v_measure = []\n",
    "for i in range(2, 21):\n",
    "    clustering_model = AgglomerativeClustering(n_clusters=i, linkage='ward').fit(X)\n",
    "    labels = clustering_model.labels_\n",
    "    metrV = metrics.v_measure_score(labels_true, labels)\n",
    "    v_measure.append(metrV)\n",
    "plt.figure(1, figsize=(15, 5))    \n",
    "plt.plot(range(2, 21), v_measure , marker='.');\n",
    "plt.xlabel('$ clusters  AgglomerativeClustering $')\n",
    "plt.ylabel('$V measure score$');\n",
    "plt.show()"
   ]
  },
  {
   "cell_type": "code",
   "execution_count": 50,
   "metadata": {},
   "outputs": [
    {
     "data": {
      "text/plain": [
       "0.86854875186737"
      ]
     },
     "execution_count": 50,
     "metadata": {},
     "output_type": "execute_result"
    }
   ],
   "source": [
    "clustering_model = AgglomerativeClustering(n_clusters=12, linkage='ward').fit(X)\n",
    "labels = clustering_model.labels_\n",
    "metrV = metrics.v_measure_score(labels_true, labels)\n",
    "metrV"
   ]
  },
  {
   "cell_type": "raw",
   "metadata": {},
   "source": [
    "Максимум 𝑉 - меры для AgglomerativeClustering, при количестве кластеров - 12.\n",
    "metrics.v_measure_score = 0.8685"
   ]
  },
  {
   "cell_type": "code",
   "execution_count": 52,
   "metadata": {},
   "outputs": [
    {
     "data": {
      "image/png": "[encoded data removed]",
      "text/plain": [
       "<Figure size 1080x360 with 1 Axes>"
      ]
     },
     "metadata": {},
     "output_type": "display_data"
    }
   ],
   "source": [
    "# 𝑉 -мера для KMeans, количесво кластеров от 2 до 20:\n",
    "labels_true = y\n",
    "v_measure = []\n",
    "for i in range(2, 21):\n",
    "    kmeans_model = KMeans(n_clusters=i, n_init=10).fit(X)\n",
    "    labels = kmeans_model.labels_\n",
    "    metrV = metrics.v_measure_score(labels_true, labels)\n",
    "    v_measure.append(metrV)\n",
    "plt.figure(1, figsize=(15, 5))    \n",
    "plt.plot(range(2, 21), v_measure , marker='.');\n",
    "plt.xlabel('$ clusters  KMeans $')\n",
    "plt.ylabel('$V measure score$');\n",
    "plt.show()"
   ]
  },
  {
   "cell_type": "code",
   "execution_count": 53,
   "metadata": {},
   "outputs": [
    {
     "data": {
      "text/plain": [
       "0.772290207016405"
      ]
     },
     "execution_count": 53,
     "metadata": {},
     "output_type": "execute_result"
    }
   ],
   "source": [
    "kmeans_model = KMeans(n_clusters=12, n_init=10).fit(X)\n",
    "labels = kmeans_model.labels_\n",
    "metrV = metrics.v_measure_score(labels_true, labels)\n",
    "metrV"
   ]
  },
  {
   "cell_type": "raw",
   "metadata": {},
   "source": [
    "Максимум 𝑉 - меры для KMeans, при количестве кластеров = 12\n",
    "metrics.v_measure_score = 0.7697"
   ]
  },
  {
   "cell_type": "raw",
   "metadata": {},
   "source": []
  },
  {
   "cell_type": "raw",
   "metadata": {},
   "source": [
    "В результате расчетов существенных различий не выявлено, максимум силуэта достигает при 9, для V-меры - 12  кластеров, в обоих методиках."
   ]
  },
  {
   "cell_type": "raw",
   "metadata": {},
   "source": []
  },
  {
   "cell_type": "raw",
   "metadata": {},
   "source": [
    "                         Задание:\n",
    "Выполните сингулярное разложение матрицы X, оставляя 2, 5, 10, 20 признаков. В каждом случае выполните иерархическую и  𝐾 -means кластеризацию преобразованных данных (число кластеров примите равным 10). Посчитайте значения силуэта и  𝑉 -меры. Удалось ли при каком-нибудь  𝑑′  получить силуэт и / или  𝑉 -меру лучше, чем на исходных данных?"
   ]
  },
  {
   "cell_type": "code",
   "execution_count": 61,
   "metadata": {},
   "outputs": [],
   "source": [
    "from sklearn.decomposition import TruncatedSVD\n",
    "from sklearn.metrics.cluster import v_measure_score\n",
    "from sklearn.datasets import load_digits\n",
    "digits = load_digits()\n",
    "X = digits.data\n",
    "y = digits.target"
   ]
  },
  {
   "cell_type": "raw",
   "metadata": {},
   "source": [
    "Cингулярное разложение матрицы X, признаков: 2, 5, 10, 20 \n"
   ]
  },
  {
   "cell_type": "code",
   "execution_count": 62,
   "metadata": {},
   "outputs": [
    {
     "data": {
      "image/png": "[encoded data removed]",
      "text/plain": [
       "<Figure size 720x360 with 1 Axes>"
      ]
     },
     "metadata": {},
     "output_type": "display_data"
    }
   ],
   "source": [
    "# Иерархическая кластеризация преобразованных данных, число кластеров - 10.\n",
    "# Графики значений силуэта и  𝑉 -меры.\n",
    "labels_true = y\n",
    "v_measure = []\n",
    "silhouette = []\n",
    "n_comp = (2, 5, 10, 20, 63)\n",
    "for n in n_comp:\n",
    "    svd = TruncatedSVD(n_components=n,random_state=0)\n",
    "    X_svd = svd.fit_transform(X)\n",
    "    \n",
    "    clustering_model = AgglomerativeClustering(n_clusters=10, linkage='ward').fit(X_svd) \n",
    "    labels = clustering_model.labels_\n",
    "    metr_s = metrics.silhouette_score(X, labels, metric='euclidean') \n",
    "    silhouette.append(metr_s)\n",
    "    metr_V = metrics.v_measure_score(labels_true, labels)\n",
    "    v_measure.append(metr_V)\n",
    "     \n",
    "fig, ax = plt.subplots()    \n",
    "ax.plot(n_comp, v_measure, label = 'v_measure_score', marker='.')\n",
    "ax.plot(n_comp, silhouette, label = 'silhouette_score', marker='.')\n",
    "ax.legend()\n",
    "fig.set_figheight(5)\n",
    "fig.set_figwidth(10)\n",
    "plt.xlabel('$ n\\\\  components $')\n",
    "plt.ylabel('$ Silhouette\\\\   measure score$');    \n",
    "plt.title('AgglomerativeClustering TruncatedSVD \\n', fontsize = 15)\n",
    "plt.show()            "
   ]
  },
  {
   "cell_type": "code",
   "execution_count": 65,
   "metadata": {},
   "outputs": [
    {
     "data": {
      "image/png": "[encoded data removed]",
      "text/plain": [
       "<Figure size 720x360 with 1 Axes>"
      ]
     },
     "metadata": {},
     "output_type": "display_data"
    }
   ],
   "source": [
    "# KMeans кластеризация преобразованных данных, число кластеров - 10.\n",
    "# Графики значений силуэта и  𝑉 -меры.\n",
    "labels_true = y\n",
    "v_measure = []\n",
    "silhouette = []\n",
    "n_comp = (2, 5, 10, 20, 63)\n",
    "for n in n_comp:\n",
    "    svd = TruncatedSVD(n_components=n,random_state=0)\n",
    "    X_svd = svd.fit_transform(X)\n",
    "    \n",
    "    kmeans_model = KMeans(n_clusters=10, n_init=10).fit(X_svd)\n",
    "    labels = kmeans_model.labels_\n",
    "    metr_s = metrics.silhouette_score(X, labels, metric='euclidean')\n",
    "    silhouette.append(metr_s)\n",
    "    metr_V = metrics.v_measure_score(labels_true, labels)\n",
    "    v_measure.append(metr_V)\n",
    "   \n",
    "fig, ax = plt.subplots()    \n",
    "ax.plot(n_comp, v_measure, label = 'v_measure_score', marker='.')\n",
    "ax.plot(n_comp, silhouette, label = 'silhouette_score', marker='.')\n",
    "ax.legend()\n",
    "fig.set_figheight(5)\n",
    "fig.set_figwidth(10)\n",
    "plt.xlabel('$ n\\\\  components $')\n",
    "plt.ylabel('$ Silhouette\\\\   measure score$');    \n",
    "plt.title('KMeans TruncatedSVD \\n', fontsize = 15)\n",
    "plt.show()            "
   ]
  },
  {
   "cell_type": "raw",
   "metadata": {},
   "source": [
    "Анализ полученных данных:\n",
    "Применив сингулярное разложение не удалось получить значения силуэта и 𝑉 -меры выше, чем на исходных данных. Однако при уменьшении числа компонент с 63 до 10, не происходило значимое уменьшение значений силуэта и 𝑉 -меры. \n"
   ]
  },
  {
   "cell_type": "raw",
   "metadata": {},
   "source": [
    "         Задание:\n",
    "Выполните tSNE-преобразование матрицы X, оставив 2 признака. Визуализируйте данные, преобразованные таким образом, в виде точечной диаграммы: первый признак вдоль горизонтальной оси, второй признак вдоль вертикальной оси. Подсветите разными цветами группы точек, соответствующих разным цифрам."
   ]
  },
  {
   "cell_type": "raw",
   "metadata": {},
   "source": [
    "Преобразование матрицы и графическое представление результатов:"
   ]
  },
  {
   "cell_type": "code",
   "execution_count": 55,
   "metadata": {},
   "outputs": [
    {
     "data": {
      "text/plain": [
       "TSNE(angle=0.5, early_exaggeration=12.0, init='random', learning_rate=200.0,\n",
       "     method='barnes_hut', metric='euclidean', min_grad_norm=1e-07,\n",
       "     n_components=2, n_iter=1000, n_iter_without_progress=300, perplexity=30.0,\n",
       "     random_state=17, verbose=0)"
      ]
     },
     "execution_count": 55,
     "metadata": {},
     "output_type": "execute_result"
    }
   ],
   "source": [
    "from sklearn.manifold import TSNE\n",
    "tsne = TSNE(n_components=2, random_state=17)\n",
    "tsne\n"
   ]
  },
  {
   "cell_type": "code",
   "execution_count": 56,
   "metadata": {},
   "outputs": [
    {
     "data": {
      "text/plain": [
       "(1797, 2)"
      ]
     },
     "execution_count": 56,
     "metadata": {},
     "output_type": "execute_result"
    }
   ],
   "source": [
    "X_tsne = tsne.fit_transform(X)\n",
    "X_tsne.shape"
   ]
  },
  {
   "cell_type": "code",
   "execution_count": 57,
   "metadata": {},
   "outputs": [
    {
     "data": {
      "text/plain": [
       "array([[ -5.6107125,  57.145626 ],\n",
       "       [ 20.054407 , -19.655502 ],\n",
       "       [-11.964548 , -27.287413 ],\n",
       "       ...,\n",
       "       [ -3.1735392, -14.183256 ],\n",
       "       [-17.891619 ,   8.02904  ],\n",
       "       [-10.266273 , -15.676453 ]], dtype=float32)"
      ]
     },
     "execution_count": 57,
     "metadata": {},
     "output_type": "execute_result"
    }
   ],
   "source": [
    "X_tsne"
   ]
  },
  {
   "cell_type": "code",
   "execution_count": 58,
   "metadata": {},
   "outputs": [
    {
     "data": {
      "image/png": "[encoded data removed]",
      "text/plain": [
       "<Figure size 648x504 with 2 Axes>"
      ]
     },
     "metadata": {},
     "output_type": "display_data"
    }
   ],
   "source": [
    "\n",
    "plt.figure(figsize=(9, 7))\n",
    "plt.scatter(X_tsne[:, 0], X_tsne[:, 1], c=y, \n",
    "            edgecolor='none', alpha=0.8, s=30,\n",
    "            cmap=plt.cm.get_cmap('nipy_spectral', 10))\n",
    "plt.colorbar()\n",
    "plt.title('load_digits. t-SNE ')\n",
    "plt.show()"
   ]
  },
  {
   "cell_type": "raw",
   "metadata": {},
   "source": [
    "Задание:\n",
    "    Для tSNE-преобразованных данных с 2 признаками выполните иерархическую и  𝐾 -means кластеризацию (число кластеров примите равным 10). Посчитайте значения силуэта и  𝑉 -меры. Удалось ли получить силуэт и / или  𝑉 -меру лучше, чем на исходных данных?"
   ]
  },
  {
   "cell_type": "raw",
   "metadata": {},
   "source": [
    "Силуэт и  𝑉 -мера для AgglomerativeClustering:"
   ]
  },
  {
   "cell_type": "code",
   "execution_count": 59,
   "metadata": {},
   "outputs": [
    {
     "name": "stdout",
     "output_type": "stream",
     "text": [
      "silhouette_clust_X_tsne =  0.16368592362438994\n",
      "v_measure_clust_X_tsne = 0.9224505051266269 \n",
      "\n"
     ]
    }
   ],
   "source": [
    "clustering = AgglomerativeClustering(n_clusters=10, linkage='ward')\n",
    "clust_X_tsne = clustering.fit_predict(X_tsne)\n",
    "metr_s = metrics.silhouette_score(X, clust_X_tsne, metric='euclidean')\n",
    "metr_V = metrics.v_measure_score(y, clust_X_tsne)\n",
    "print('silhouette_clust_X_tsne = ', metr_s)\n",
    "print('v_measure_clust_X_tsne =', metr_V, '\\n')"
   ]
  },
  {
   "cell_type": "raw",
   "metadata": {},
   "source": [
    "Силуэт и  𝑉 -мера для KMeans:"
   ]
  },
  {
   "cell_type": "code",
   "execution_count": 60,
   "metadata": {},
   "outputs": [
    {
     "name": "stdout",
     "output_type": "stream",
     "text": [
      "silhouette_kmeans_X_tsne =  0.16362265794446332\n",
      "v_measure_kmeans_X_tsne = 0.9147606543039944 \n",
      "\n"
     ]
    }
   ],
   "source": [
    "kmeans = KMeans(n_clusters=10, n_init=10)\n",
    "kmeans_X_tsne = kmeans.fit_predict(X_tsne)\n",
    "metr_s = metrics.silhouette_score(X, kmeans_X_tsne, metric='euclidean')\n",
    "metr_V = metrics.v_measure_score(y, kmeans_X_tsne)\n",
    "print('silhouette_kmeans_X_tsne = ', metr_s)\n",
    "print('v_measure_kmeans_X_tsne =', metr_V, '\\n')"
   ]
  },
  {
   "cell_type": "raw",
   "metadata": {},
   "source": [
    "Сравнение с результатами исходных данных:\n",
    "Максимум силуэта для AgglomerativeClustering, при количестве кластеров = 9,\n",
    "metrics.silhouette_score = 0.180619\n",
    "для KMeans, при количестве кластеров = 9.\n",
    "metrics.silhouette_score = 0.18925\n",
    "\n",
    "Максимум 𝑉 - меры для AgglomerativeClustering, при количестве кластеров - 12.\n",
    "metrics.v_measure_score = 0.8685\n",
    "для KMeans, при количестве кластеров = 12\n",
    "metrics.v_measure_score = 0.7697"
   ]
  },
  {
   "cell_type": "raw",
   "metadata": {},
   "source": [
    "Анализ данных: \n",
    "Для tSNE максимальных значений силуэта не удалось достичь для обоих алгоритмов, но цифры были достаточно близки:\n",
    "0.163 против 0.180 AgglomerativeClustering\n",
    "0.163 против 0.189 KMeans\n",
    "\n",
    "Для tSNE максимальные значения 𝑉 - меры выше для обоих алгоритмов:\n",
    "0.922 против 0.868 AgglomerativeClustering\n",
    "0.914 против 0.769 KMeans\n",
    "\n",
    "Вывод: для tSNE алгоритма удалось получить значения 𝑉 - меры, лучше, чем на исходных алгоритмах."
   ]
  },
  {
   "cell_type": "raw",
   "metadata": {},
   "source": [
    "                  \n",
    "                  ИТОГИ ПРОВЕДЕННОЙ РАБОТЫ:"
   ]
  },
  {
   "cell_type": "raw",
   "metadata": {},
   "source": [
    "1. Метод KMeans (в сравнении с AgglomerativeClustering) показал более осмысленное разбиение на кластеры, он определил 10 из 10 кластеров (AgglomerativeClustering только 9 из 10). \n",
    "Однако показатели метрик у него были незначительно ниже. В целом оба алгоритма показали схожие результаты на лучших своих настройках.\n",
    "\n",
    "Результаты работы алгоритмов зависят от настроек моделей.\n",
    "\n",
    "2. Снижая размерность признакового пространства, явно улучшить качество кластеризации не удалось.\n",
    "Однако значительное снижение количества признаков с 64 до 10 практически не изменяли качество кластеризации. \n"
   ]
  }
 ],
 "metadata": {
  "kernelspec": {
   "display_name": "Python 3",
   "language": "python",
   "name": "python3"
  },
  "language_info": {
   "codemirror_mode": {
    "name": "ipython",
    "version": 3
   },
   "file_extension": ".py",
   "mimetype": "text/x-python",
   "name": "python",
   "nbconvert_exporter": "python",
   "pygments_lexer": "ipython3",
   "version": "3.7.7"
  }
 },
 "nbformat": 4,
 "nbformat_minor": 2
}
