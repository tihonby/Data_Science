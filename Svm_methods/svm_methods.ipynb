{
 "cells": [
  {
   "cell_type": "markdown",
   "metadata": {},
   "source": [
    "\n",
    "####  Классификация fetch_20newsgroups SVM методами \n"
   ]
  },
  {
   "cell_type": "markdown",
   "metadata": {},
   "source": [
    "LinearSVC - реализация SVM с линейным ядром для задач классификации\n",
    "\n",
    "LinearSVR - реализация SVM с линейным ядром для задач регрессии\n",
    "\n",
    "SVC - наиболее общая реализация SVM для задач классификации\n",
    "\n",
    "SVR - наиболее общая реализация SVM для задач регрессии\n",
    "\n",
    "NuSVC - реализация SVM для задач классификации с возможностью задать количество опорных векторов\n",
    "\n",
    "NuSVR - реализация SVM для задач регрессии с возможностью задать количество опорных векторов\n",
    "\n",
    "OneClassSVM - реализация SVM для задачи обнаружения отклонений без учителя"
   ]
  },
  {
   "cell_type": "code",
   "execution_count": 2,
   "metadata": {},
   "outputs": [],
   "source": [
    "import numpy as np, numpy\n",
    "import pandas as pd\n",
    "import warnings\n",
    "warnings.filterwarnings('ignore')\n",
    "warnings.simplefilter('ignore')\n",
    "\n",
    "import pylab as plt\n",
    "import pylab as plot\n",
    "%matplotlib inline\n",
    "import matplotlib.pyplot as plt\n",
    "import matplotlib.pyplot as plot\n",
    "%matplotlib inline \n",
    "\n",
    "import nltk\n",
    "import re\n",
    "\n",
    "from numpy import linalg as LA\n",
    "\n",
    "from sklearn.svm import LinearSVC\n",
    "from sklearn.svm import LinearSVR\n",
    "from sklearn.svm import SVC\n",
    "from sklearn.svm import SVR\n",
    "from sklearn.svm import NuSVC\n",
    "from sklearn.svm import NuSVR\n",
    "from sklearn.svm import OneClassSVM\n",
    "\n",
    "from joblib import dump, load\n",
    "\n",
    "from sklearn import metrics\n",
    "from sklearn.metrics import roc_auc_score\n",
    "from sklearn.metrics import accuracy_score\n",
    "from sklearn.metrics import f1_score\n",
    "from sklearn.metrics import confusion_matrix\n",
    "from sklearn.metrics import classification_report\n",
    "from sklearn.metrics.cluster import v_measure_score\n",
    "\n",
    "\n",
    "from sklearn import preprocessing\n",
    "from sklearn.model_selection import train_test_split\n",
    "from sklearn.model_selection import GridSearchCV\n",
    "\n",
    "from nltk.corpus import stopwords\n",
    "from nltk.stem import PorterStemmer, WordNetLemmatizer\n",
    "from nltk.corpus import wordnet\n",
    "from sklearn.feature_extraction.text import CountVectorizer\n",
    "from sklearn.feature_extraction.text import TfidfVectorizer\n",
    "from sklearn.feature_extraction.text import TfidfTransformer\n",
    "from sklearn.decomposition import TruncatedSVD\n",
    "from sklearn.decomposition import PCA\n",
    "\n",
    "from sklearn.pipeline import Pipeline\n",
    "from sklearn.pipeline import make_pipeline\n",
    "\n",
    "from sklearn.datasets import load_files\n",
    "from sklearn.datasets import fetch_20newsgroups"
   ]
  },
  {
   "cell_type": "code",
   "execution_count": 3,
   "metadata": {},
   "outputs": [
    {
     "data": {
      "text/plain": [
       "<function sklearn.datasets.twenty_newsgroups.fetch_20newsgroups(data_home=None, subset='train', categories=None, shuffle=True, random_state=42, remove=(), download_if_missing=True)>"
      ]
     },
     "execution_count": 3,
     "metadata": {},
     "output_type": "execute_result"
    }
   ],
   "source": [
    "fetch_20newsgroups"
   ]
  },
  {
   "cell_type": "code",
   "execution_count": 4,
   "metadata": {},
   "outputs": [],
   "source": [
    "newsgroups_train = fetch_20newsgroups(subset='train')"
   ]
  },
  {
   "cell_type": "code",
   "execution_count": 5,
   "metadata": {},
   "outputs": [
    {
     "data": {
      "text/plain": [
       "['alt.atheism',\n",
       " 'comp.graphics',\n",
       " 'comp.os.ms-windows.misc',\n",
       " 'comp.sys.ibm.pc.hardware',\n",
       " 'comp.sys.mac.hardware',\n",
       " 'comp.windows.x',\n",
       " 'misc.forsale',\n",
       " 'rec.autos',\n",
       " 'rec.motorcycles',\n",
       " 'rec.sport.baseball',\n",
       " 'rec.sport.hockey',\n",
       " 'sci.crypt',\n",
       " 'sci.electronics',\n",
       " 'sci.med',\n",
       " 'sci.space',\n",
       " 'soc.religion.christian',\n",
       " 'talk.politics.guns',\n",
       " 'talk.politics.mideast',\n",
       " 'talk.politics.misc',\n",
       " 'talk.religion.misc']"
      ]
     },
     "execution_count": 5,
     "metadata": {},
     "output_type": "execute_result"
    }
   ],
   "source": [
    "newsgroups_train.target_names"
   ]
  },
  {
   "cell_type": "code",
   "execution_count": 6,
   "metadata": {},
   "outputs": [
    {
     "data": {
      "text/plain": [
       "'From: jgreen@amber (Joe Green)\\nSubject: Re: Weitek P9000 ?\\nOrganization: Harris Computer Systems Division\\nLines: 14\\nDistribution: world\\nNNTP-Posting-Host: amber.ssd.csd.harris.com\\nX-Newsreader: TIN [version 1.1 PL9]\\n\\nRobert J.C. Kyanko (rob@rjck.UUCP) wrote:\\n> abraxis@iastate.edu writes in article <abraxis.734340159@class1.iastate.edu>:\\n> > Anyone know about the Weitek P9000 graphics chip?\\n> As far as the low-level stuff goes, it looks pretty nice.  It\\'s got this\\n> quadrilateral fill command that requires just the four points.\\n\\nDo you have Weitek\\'s address/phone number?  I\\'d like to get some information\\nabout this chip.\\n\\n--\\nJoe Green\\t\\t\\t\\tHarris Corporation\\njgreen@csd.harris.com\\t\\t\\tComputer Systems Division\\n\"The only thing that really scares me is a person with no sense of humor.\"\\n\\t\\t\\t\\t\\t\\t-- Jonathan Winters\\n'"
      ]
     },
     "execution_count": 6,
     "metadata": {},
     "output_type": "execute_result"
    }
   ],
   "source": [
    "newsgroups_train.data[3]"
   ]
  },
  {
   "cell_type": "code",
   "execution_count": 91,
   "metadata": {},
   "outputs": [],
   "source": [
    "categories_2 = ['alt.atheism', \n",
    "                'sci.med'\n",
    "               ]\n",
    "categories_4 = ['alt.atheism', \n",
    "                'soc.religion.christian',\n",
    "                'comp.graphics',\n",
    "                'sci.med'\n",
    "               ]\n",
    "categories_5 = ['comp.graphics',\n",
    "                'comp.os.ms-windows.misc',\n",
    "                'comp.sys.ibm.pc.hardware',\n",
    "                'comp.sys.mac.hardware',\n",
    "                'comp.windows.x'\n",
    "               ]   \n",
    "categories_6 = ['comp.graphics',\n",
    "                'comp.os.ms-windows.misc',\n",
    "                'comp.sys.ibm.pc.hardware',\n",
    "                'comp.sys.mac.hardware',\n",
    "                'comp.windows.x',\n",
    "                'rec.sport.baseball'\n",
    "               ]\n",
    "two_train = fetch_20newsgroups(subset='train',\n",
    "    categories=categories_2, shuffle=True, random_state=42)\n",
    "four_train = fetch_20newsgroups(subset='train',\n",
    "    categories=categories_4, shuffle=True, random_state=42)\n",
    "five_train = fetch_20newsgroups(subset='train',\n",
    "    categories=categories_5, shuffle=True, random_state=42)\n",
    "six_train = fetch_20newsgroups(subset='train',\n",
    "    categories=categories_6, shuffle=True, random_state=42)\n",
    "twenty_train = fetch_20newsgroups(subset='train',\n",
    "    categories=None, shuffle=True, random_state=42)"
   ]
  },
  {
   "cell_type": "code",
   "execution_count": 77,
   "metadata": {},
   "outputs": [],
   "source": [
    "# функция преобразования текста:\n",
    "def data_X_y(X, y):\n",
    "    X_train, X_test, y_train, y_test = train_test_split(X, y, test_size=0.3, random_state=42)\n",
    "    cv = CountVectorizer()\n",
    "    cv.fit(X_train)\n",
    "    X_train = cv.transform(X_train)\n",
    "    X_test = cv.transform(X_test)\n",
    "\n",
    "    tfidf_transformer = TfidfTransformer()\n",
    "    X_train_tfidf = tfidf_transformer.fit_transform(X_train)\n",
    "    X_test_tfidf = tfidf_transformer.fit_transform(X_test)\n",
    "    n_components=500\n",
    "    tSVD = TruncatedSVD(n_components=n_components)\n",
    "    tSVD.fit(X_train_tfidf)\n",
    "    X_train_tSVD = tSVD.transform(X_train_tfidf)\n",
    "    X_test_tSVD = tSVD.transform(X_test_tfidf)\n",
    "    X_train_pretSVD = preprocessing.scale(X_train_tSVD)\n",
    "    X_test_pretSVD = preprocessing.scale(X_test_tSVD)\n",
    " \n",
    "    return X_train_pretSVD, X_test_pretSVD, y_train, y_test"
   ]
  },
  {
   "cell_type": "code",
   "execution_count": 9,
   "metadata": {},
   "outputs": [
    {
     "name": "stdout",
     "output_type": "stream",
     "text": [
      "(11314,)\n",
      "(11314,)\n"
     ]
    },
    {
     "data": {
      "text/plain": [
       "array([ 7,  4,  4,  1, 14, 16, 13,  3,  2,  4,  8, 19,  4, 14,  6,  0,  1,\n",
       "        7, 12,  5,  0, 10,  6,  2,  4,  1, 12,  9, 15,  7])"
      ]
     },
     "execution_count": 9,
     "metadata": {},
     "output_type": "execute_result"
    }
   ],
   "source": [
    "print(twenty_train.filenames.shape)\n",
    "print(twenty_train.target.shape)\n",
    "twenty_train.target[:30]"
   ]
  },
  {
   "cell_type": "code",
   "execution_count": 18,
   "metadata": {},
   "outputs": [
    {
     "name": "stdout",
     "output_type": "stream",
     "text": [
      "2257\n",
      "2936\n",
      "11314\n"
     ]
    }
   ],
   "source": [
    "# print(len(four_train.data))\n",
    "# print(len(five_train.data))\n",
    "# print(len(twenty_train.data))"
   ]
  },
  {
   "cell_type": "code",
   "execution_count": 34,
   "metadata": {},
   "outputs": [
    {
     "name": "stdout",
     "output_type": "stream",
     "text": [
      "From: jgreen@amber (Joe Green)\n",
      "Subject: Re: Weitek P9000 ?\n",
      "Organization: Harris Computer Systems Division\n",
      "Lines: 14\n",
      "Distribution: world\n",
      "NNTP-Posting-Host: amber.ssd.csd.harris.com\n",
      "X-Newsreader: TIN [version 1.1 PL9]\n",
      "\n",
      "Robert J.C. Kyanko (rob@rjck.UUCP) wrote:\n"
     ]
    }
   ],
   "source": [
    "print(\"\\n\".join(twenty_train.data[3].split(\"\\n\")[:9]))"
   ]
  },
  {
   "cell_type": "code",
   "execution_count": 22,
   "metadata": {},
   "outputs": [
    {
     "name": "stdout",
     "output_type": "stream",
     "text": [
      "comp.sys.ibm.pc.hardware\n"
     ]
    }
   ],
   "source": [
    "print(twenty_train.target_names[four_train.target[3]])"
   ]
  },
  {
   "cell_type": "code",
   "execution_count": 36,
   "metadata": {},
   "outputs": [
    {
     "name": "stdout",
     "output_type": "stream",
     "text": [
      "7 rec.autos\n",
      "4 comp.sys.mac.hardware\n",
      "4 comp.sys.mac.hardware\n",
      "1 comp.graphics\n",
      "14 sci.space\n",
      "16 talk.politics.guns\n",
      "13 sci.med\n",
      "3 comp.sys.ibm.pc.hardware\n",
      "2 comp.os.ms-windows.misc\n",
      "4 comp.sys.mac.hardware\n",
      "8 rec.motorcycles\n",
      "19 talk.religion.misc\n",
      "4 comp.sys.mac.hardware\n",
      "14 sci.space\n",
      "6 misc.forsale\n",
      "0 alt.atheism\n",
      "1 comp.graphics\n",
      "7 rec.autos\n",
      "12 sci.electronics\n",
      "5 comp.windows.x\n"
     ]
    }
   ],
   "source": [
    "for targ in twenty_train.target[:20]:    \n",
    "    print(targ, twenty_train.target_names[targ])"
   ]
  },
  {
   "cell_type": "code",
   "execution_count": 38,
   "metadata": {},
   "outputs": [
    {
     "name": "stdout",
     "output_type": "stream",
     "text": [
      "[480 584 591 590 578 593 585 594 598 597 600 595 591 594 593 599 546 564\n",
      " 465 377]\n"
     ]
    }
   ],
   "source": [
    "print(np.bincount(twenty_train.target))"
   ]
  },
  {
   "cell_type": "code",
   "execution_count": 47,
   "metadata": {},
   "outputs": [
    {
     "name": "stdout",
     "output_type": "stream",
     "text": [
      "(7919, 112593)\n",
      "(3395, 112593)\n",
      "Wall time: 16.8 s\n"
     ]
    }
   ],
   "source": [
    "%%time\n",
    "\n",
    "X = twenty_train.data\n",
    "y = twenty_train.target\n",
    "# X = five_train.data\n",
    "# y = five_train.target\n",
    "# X = two_train.data\n",
    "# y = two_train.target\n",
    "X_train, X_test, y_train, y_test = train_test_split(X, y, test_size=0.3, random_state=42)\n",
    "\n",
    "cv = CountVectorizer()\n",
    "cv.fit(X_train)\n",
    "X_train = cv.transform(X_train)\n",
    "X_test = cv.transform(X_test)\n",
    "print(X_train.shape)\n",
    "print(X_test.shape)"
   ]
  },
  {
   "cell_type": "code",
   "execution_count": 48,
   "metadata": {},
   "outputs": [
    {
     "data": {
      "text/plain": [
       "<3395x112593 sparse matrix of type '<class 'numpy.int64'>'\n",
       "\twith 502342 stored elements in Compressed Sparse Row format>"
      ]
     },
     "execution_count": 48,
     "metadata": {},
     "output_type": "execute_result"
    }
   ],
   "source": [
    "X_test"
   ]
  },
  {
   "cell_type": "code",
   "execution_count": 49,
   "metadata": {},
   "outputs": [
    {
     "data": {
      "text/plain": [
       "<7919x112593 sparse matrix of type '<class 'numpy.float64'>'\n",
       "\twith 1266003 stored elements in Compressed Sparse Row format>"
      ]
     },
     "execution_count": 49,
     "metadata": {},
     "output_type": "execute_result"
    }
   ],
   "source": [
    "tfidf_transformer = TfidfTransformer()\n",
    "X_train_tfidf = tfidf_transformer.fit_transform(X_train)\n",
    "X_test_tfidf = tfidf_transformer.fit_transform(X_test)\n",
    "X_train_tfidf"
   ]
  },
  {
   "cell_type": "code",
   "execution_count": 50,
   "metadata": {},
   "outputs": [
    {
     "data": {
      "text/plain": [
       "<3395x112593 sparse matrix of type '<class 'numpy.float64'>'\n",
       "\twith 502342 stored elements in Compressed Sparse Row format>"
      ]
     },
     "execution_count": 50,
     "metadata": {},
     "output_type": "execute_result"
    }
   ],
   "source": [
    "X_test_tfidf"
   ]
  },
  {
   "cell_type": "code",
   "execution_count": 51,
   "metadata": {},
   "outputs": [],
   "source": [
    "# print(X_train_tfidf.shape)\n",
    "# print(X_test.shape)"
   ]
  },
  {
   "cell_type": "code",
   "execution_count": 53,
   "metadata": {},
   "outputs": [
    {
     "name": "stdout",
     "output_type": "stream",
     "text": [
      "Wall time: 1min 22s\n"
     ]
    },
    {
     "data": {
      "text/plain": [
       "TruncatedSVD(algorithm='randomized', n_components=500, n_iter=5,\n",
       "             random_state=None, tol=0.0)"
      ]
     },
     "execution_count": 53,
     "metadata": {},
     "output_type": "execute_result"
    }
   ],
   "source": [
    "%%time\n",
    "\n",
    "n_components=500\n",
    "tSVD = TruncatedSVD(n_components=n_components)\n",
    "tSVD.fit(X_train)"
   ]
  },
  {
   "cell_type": "code",
   "execution_count": 54,
   "metadata": {},
   "outputs": [
    {
     "name": "stdout",
     "output_type": "stream",
     "text": [
      "Wall time: 3.81 s\n"
     ]
    }
   ],
   "source": [
    "%%time\n",
    "\n",
    "X_train_tSVD = tSVD.transform(X_train)\n",
    "X_test_tSVD = tSVD.transform(X_test)"
   ]
  },
  {
   "cell_type": "code",
   "execution_count": 55,
   "metadata": {},
   "outputs": [
    {
     "name": "stdout",
     "output_type": "stream",
     "text": [
      "Wall time: 860 ms\n"
     ]
    }
   ],
   "source": [
    "%%time\n",
    "X_train_pretSVD = preprocessing.scale(X_train_tSVD)\n",
    "X_test_pretSVD = preprocessing.scale(X_test_tSVD)\n",
    "\n",
    "X_train_normtSVD = preprocessing.normalize(X_train_tSVD)\n",
    "X_test_normtSVD = preprocessing.normalize(X_test_tSVD)"
   ]
  },
  {
   "cell_type": "code",
   "execution_count": 56,
   "metadata": {},
   "outputs": [],
   "source": [
    "# X_test_tSVD[0]"
   ]
  },
  {
   "cell_type": "code",
   "execution_count": 57,
   "metadata": {},
   "outputs": [
    {
     "name": "stdout",
     "output_type": "stream",
     "text": [
      "0.9964249530088959\n"
     ]
    }
   ],
   "source": [
    "# снижение размерности практически не привело к потери информации: \n",
    "print(tSVD.explained_variance_ratio_.sum())"
   ]
  },
  {
   "cell_type": "code",
   "execution_count": 59,
   "metadata": {},
   "outputs": [
    {
     "data": {
      "text/plain": [
       "array([-2.67955339e-02, -1.31925350e-02, -1.70086332e-01,  6.80269275e-02,\n",
       "       -2.70580756e-01,  1.83097460e-01, -2.89299130e-01,  4.42458889e-01,\n",
       "       -1.57197433e-01,  8.24732016e-01,  7.84692617e-01, -1.32620958e-01,\n",
       "        3.12952561e-01,  3.71593392e-01,  1.26313051e-01,  1.36390464e-01,\n",
       "       -2.80238653e-02,  2.57118161e-01,  5.05753924e-02,  4.88310175e-01,\n",
       "       -1.51618021e-02,  2.69373691e-01,  2.73303030e-01,  3.19839568e-02,\n",
       "        1.18846320e-01,  2.42765187e-01, -4.39514312e-01, -8.96035814e-02,\n",
       "        1.48156569e+00, -1.29371522e-01,  5.22101539e-01,  1.59490687e-01,\n",
       "       -1.51464313e-01, -5.03972285e-01,  3.83801832e-01, -1.48860127e+00,\n",
       "       -1.67442314e+00, -5.05193301e-01,  1.93058525e-01,  1.27843710e+00,\n",
       "       -4.28059104e-01, -3.91059348e-01,  2.88992803e-01, -1.14204444e+00,\n",
       "       -2.04686300e-01, -1.13319007e-01,  1.09782998e+00, -1.52489980e+00,\n",
       "        1.92979452e-02,  2.06490570e+00,  2.05201084e+00,  3.57848556e-01,\n",
       "       -8.67032621e-01, -3.85960584e-01,  6.35474193e-01,  4.93724598e-01,\n",
       "        9.79807266e-01, -1.37029695e-01, -1.06495999e+00,  3.13139434e-01,\n",
       "        2.24131869e-01,  1.45629268e+00,  1.16504082e+00, -5.88634157e-01,\n",
       "       -1.94597379e+00, -6.65614564e-01, -2.65740917e+00, -1.88634874e+00,\n",
       "        1.36720743e+00,  1.25299073e-01, -1.33161715e+00,  5.92587935e-01,\n",
       "        8.79351225e-01,  5.96609225e-01,  1.27715399e+00, -1.21197239e+00,\n",
       "        5.87271196e-01, -3.59701879e-01,  6.48682437e-01,  2.54230506e+00,\n",
       "        8.56455644e-01, -6.47888805e-01, -1.07406002e+00, -4.10846480e-02,\n",
       "       -2.79526631e-01, -1.61641832e+00,  8.32188408e-01, -1.05067552e+00,\n",
       "       -3.54981879e-01,  3.94561707e-01,  5.13221291e-02, -3.66190375e-01,\n",
       "       -1.85752397e+00,  2.11305819e+00, -9.69574230e-04, -1.31223288e+00,\n",
       "       -1.09257737e+00, -8.67524624e-02, -1.57105793e+00, -2.16447414e+00,\n",
       "       -2.79175788e+00,  1.41688225e+00,  1.15274202e+00, -2.36278216e+00,\n",
       "        8.94615785e-02,  1.44003647e+00,  3.18117126e+00,  3.52819573e+00,\n",
       "       -5.73915360e-01, -6.49425727e-01, -1.13616029e+00,  7.98299527e-01,\n",
       "        5.65052396e-01,  1.61549746e+00, -1.98769817e+00, -2.75983653e+00,\n",
       "        2.90127238e+00,  2.05358338e-01,  2.54275344e-02, -9.96949689e-01,\n",
       "       -7.19558001e-01, -2.09138696e+00,  1.15810451e+00,  6.34784686e-01,\n",
       "        3.06452791e-01,  4.43118358e+00, -2.48656549e+00,  1.79583976e+00,\n",
       "       -2.64234542e-01, -1.56774429e+00,  1.00804412e+00, -3.00865212e+00,\n",
       "       -9.19544583e-01,  2.31539917e+00, -3.05186092e+00, -1.16797060e+00,\n",
       "       -2.63441166e+00, -2.62576752e+00,  1.24001318e+00, -2.69877831e+00,\n",
       "        4.09494875e+00, -7.73738700e-01,  2.15818687e+00, -3.63371850e-01,\n",
       "       -8.18327904e-01,  2.82536401e+00, -2.78561905e+00,  9.80890580e-01,\n",
       "        6.41535486e-01,  2.22605616e+00,  3.91637232e+00,  2.17191238e+00,\n",
       "       -1.22116782e+00,  1.83681129e-01,  8.43919862e-01,  2.26363547e+00,\n",
       "        5.68111139e-01,  3.29729436e-01, -5.33865244e-01,  8.55021977e-01,\n",
       "        5.83719657e-01,  2.36389737e+00,  1.11186914e+00,  3.75076508e+00,\n",
       "        4.57311215e-01, -5.46262581e-01, -1.76485923e+00,  4.94550439e-01,\n",
       "       -6.74587728e-01, -1.03900613e+00,  2.04316961e+00,  2.26461507e+00,\n",
       "        7.60489656e-01,  2.26154809e+00,  6.83632358e-01, -4.64019737e-01,\n",
       "        1.66025469e+00,  2.74891805e+00,  5.31788034e-01, -3.25874667e+00,\n",
       "       -1.40125147e+00, -2.87304776e+00,  1.33426401e-01, -2.95124079e+00,\n",
       "        2.42012174e-01,  2.81458262e+00,  7.50356889e-01, -3.97553302e+00,\n",
       "        3.17375627e+00,  7.16263573e+00,  9.32582269e-01, -3.66617615e+00,\n",
       "        2.17878833e+00,  7.19154913e-01, -1.81916364e+00,  3.51417884e+00,\n",
       "        2.46593654e-02, -1.92291609e+00, -4.63548649e+00, -8.70155083e-01,\n",
       "       -5.40011363e+00,  1.71172646e+00,  2.29909456e+00, -1.62973060e+00,\n",
       "        2.01669579e+00,  2.21131187e+00, -8.53116322e-01, -1.65433481e-01,\n",
       "       -9.11032441e-01, -1.20990199e+00,  1.76079180e+00,  1.76307692e+00,\n",
       "        2.18751681e+00,  2.42235469e+00,  6.62414572e-01, -5.86186728e+00,\n",
       "       -2.03688028e+00, -2.89382691e-01,  1.32076547e+00,  1.74961230e+00,\n",
       "        1.66144842e+00,  1.40169973e+00, -2.62891240e+00, -4.92518580e+00,\n",
       "       -4.20623517e+00, -3.93565391e+00,  3.02651250e+00,  2.60765750e+00,\n",
       "       -7.63287437e-01, -1.07483180e+00, -1.04869014e-01,  3.78375555e+00,\n",
       "       -6.21387915e-01, -9.26077983e-01,  6.81668373e+00,  4.33038719e+00,\n",
       "        1.43849213e+00, -1.00505340e+00,  3.06516926e+00,  2.76288387e+00,\n",
       "        2.98110205e+00,  1.87085410e+00, -4.96700113e-01,  9.00015366e-01,\n",
       "       -6.87806437e-01, -1.95860759e+00,  2.84260003e+00, -3.01173064e+00,\n",
       "        5.09359117e-02,  1.14803581e+00, -1.06160380e+00,  1.73036575e-01,\n",
       "        3.30571910e+00,  1.20716738e+00, -4.52872147e-01, -8.96736772e-01,\n",
       "        5.89312426e-01, -4.15908678e-01,  1.75975717e-01, -4.53512943e+00,\n",
       "       -5.80484407e-01, -3.78719767e+00,  2.65128942e+00,  8.95077909e-01,\n",
       "       -2.55427365e+00, -2.25271265e+00, -2.99486744e-01,  4.73703172e-01,\n",
       "       -2.55017070e+00, -4.30567817e+00,  1.69490961e+00, -1.80043489e+00,\n",
       "       -1.39690639e+00, -9.55128859e-01, -2.86790979e+00, -1.56662222e-01,\n",
       "        6.64968454e-01, -4.20963082e-01,  3.92896888e+00,  1.13486438e+00,\n",
       "        6.91437374e-01,  3.95559370e+00,  4.28248483e+00, -1.00677067e+00,\n",
       "       -9.75335780e-01, -1.65144888e+00, -2.66156769e-01, -1.60128352e+00,\n",
       "       -2.09536030e-01,  3.40209235e+00, -2.10113141e+00, -6.29794945e-01,\n",
       "       -3.45146743e+00, -2.34511470e+00,  1.05639861e-01,  3.13841319e+00,\n",
       "       -5.12008029e-01, -9.43958080e-01,  3.67395850e+00,  2.43494280e+00,\n",
       "       -5.69150740e+00,  3.94247513e+00, -1.06794486e+00,  2.98043442e-01,\n",
       "       -2.31977166e+00, -1.13679590e+00, -8.50261832e-01,  1.43825872e+00,\n",
       "        2.05678485e+00,  1.38914787e+00,  2.32737551e+00, -2.17679785e+00,\n",
       "       -1.92132317e-01,  6.25058754e-01,  2.09662270e+00,  3.27905679e+00,\n",
       "       -5.45986321e-01, -3.00234469e+00,  2.16927342e+00,  9.46285544e-01,\n",
       "       -2.39850607e+00, -3.05467496e+00, -6.51006286e-01, -3.50527377e+00,\n",
       "        6.40507986e+00,  4.05888146e+00, -2.08384653e+00, -4.05323801e+00,\n",
       "       -2.45159903e+00,  1.44726505e+00,  4.51634396e-01, -2.64323303e+00,\n",
       "       -1.47728806e-01,  1.82473701e+00,  1.57900623e+00, -1.74164855e+00,\n",
       "       -1.21849484e+00,  1.41437385e+00,  3.31334513e+00, -2.82901345e+00,\n",
       "        2.68063992e+00,  3.72010120e+00,  1.88045967e+00,  4.79570486e+00,\n",
       "       -6.20926373e+00, -3.63072047e+00, -1.24316927e+00, -4.64498962e+00,\n",
       "        3.47585544e+00,  2.31443731e+00, -4.25769882e+00,  1.38202181e+00,\n",
       "        2.15246401e+00,  4.95451508e+00,  9.96058907e-02, -4.81357707e+00,\n",
       "       -2.82653141e+00,  2.37396008e+00, -8.28085520e-01,  8.82807676e+00,\n",
       "       -1.46721012e+00, -7.82824824e-01,  7.02719458e-01, -4.89340599e+00,\n",
       "        1.01162324e+01,  4.09236409e+00,  5.46902275e+00,  2.53162709e+00,\n",
       "        3.95917091e+00,  1.86203973e+00,  6.23315700e-01,  2.16281398e+00,\n",
       "        3.45366323e+00, -3.20597339e+00, -1.01881379e-02,  1.16636142e+00,\n",
       "       -3.52800827e+00,  3.91114688e+00,  1.60386948e+00, -3.10369008e+00,\n",
       "       -8.95009228e+00,  5.90460175e+00,  4.31446410e+00, -2.80630308e+00,\n",
       "       -1.46750200e+00,  1.05785593e+01, -2.50593652e+00,  5.24173851e+00,\n",
       "       -2.02936486e-01,  5.60665977e+00,  1.32971466e+00, -3.19121969e+00,\n",
       "        3.26049585e+00,  3.17735691e-01, -5.87967527e-01,  2.93478009e+00,\n",
       "        1.19973723e+01, -5.39880566e-01, -5.31416310e-01, -9.21621452e+00,\n",
       "       -3.56547408e+00,  1.10423132e+01,  1.06556573e+00,  5.77443925e+00,\n",
       "        2.02865911e+00, -5.54406490e+00,  6.02713180e+00, -4.66544344e+00,\n",
       "       -4.77381332e+00,  1.01134854e+01,  1.83681158e+00,  2.01020422e+00,\n",
       "        3.43333860e+00,  4.48854991e+00,  2.42675521e+00, -2.07846564e+00,\n",
       "        6.36989997e+00,  2.24264759e+00,  7.01709328e+00,  1.28619698e+00,\n",
       "        2.42533779e-01,  2.40138428e+00,  3.80144264e+00, -4.57269784e+00,\n",
       "       -8.34671310e-01, -4.60700875e+00,  3.22511961e+00, -1.00681634e+00,\n",
       "       -5.57958309e-02, -4.36166790e+00, -6.94117896e+00, -1.11980186e+00,\n",
       "        6.13144483e-01, -9.14277427e-01,  8.97290104e-01,  8.91621912e-01,\n",
       "        2.51867753e+00,  2.05795577e-01, -8.70604203e-01, -4.10474599e+00,\n",
       "       -1.43051882e+00,  1.25670110e+00,  4.72574648e+00,  2.71595600e+00,\n",
       "       -6.34810624e+00, -7.37029701e-01,  1.84683984e-01,  3.07211489e-01,\n",
       "        4.23337529e+00,  6.57175575e-01, -2.28330031e+00, -2.91477639e+00,\n",
       "        2.73112809e-01,  4.92867520e-01, -4.37659909e+00, -3.32818119e+00,\n",
       "        4.35682178e-01,  6.85007937e-01, -1.31813898e+00, -6.66855632e-01,\n",
       "       -4.02726036e+00, -4.73736404e+00,  4.76924216e+00,  2.72118325e+00,\n",
       "       -1.03043713e+00, -4.15301655e+00, -1.19779562e+00,  5.33742063e+00,\n",
       "       -1.04406890e+00, -2.67688622e+00, -7.55320763e+00, -1.16457681e-01,\n",
       "       -3.34688567e+00,  6.97418009e-01, -6.90914812e+00,  1.24137168e+00,\n",
       "       -1.19038716e+00,  7.04738482e-01, -4.30248741e+00,  5.80675452e+00,\n",
       "        1.63814472e+00,  6.23570085e+00,  3.47750477e+00, -7.18006490e+00,\n",
       "       -1.62660136e+00,  4.18398872e+00, -4.23699547e-01,  2.71138098e+00,\n",
       "       -6.49509122e+00, -1.30639833e+00,  2.83698549e+00, -4.87380998e-01,\n",
       "       -8.60565259e-02, -5.48334814e-01, -3.16071279e+00,  4.03067677e+00,\n",
       "        1.26136258e+00,  7.53904487e-01, -2.87950319e+00,  3.78829495e+00])"
      ]
     },
     "execution_count": 59,
     "metadata": {},
     "output_type": "execute_result"
    }
   ],
   "source": [
    "#X_train_pretSVD[3]"
   ]
  },
  {
   "cell_type": "code",
   "execution_count": 60,
   "metadata": {},
   "outputs": [
    {
     "data": {
      "text/plain": [
       "array([ 1.97680663e-03,  4.54813885e-01, -4.34879434e-02,  2.11024950e-02,\n",
       "       -2.64621825e-02,  2.82949867e-02, -4.52685019e-02,  7.09757405e-02,\n",
       "       -2.58270752e-02,  1.10405541e-01,  1.17793793e-01, -1.85277913e-02,\n",
       "       -6.10684310e-03,  2.18985659e-02,  1.16537342e-02, -7.02062597e-03,\n",
       "       -9.65794338e-03, -1.85103181e-04,  1.18760719e-02,  3.73231961e-02,\n",
       "       -8.19778136e-04,  1.75573203e-02,  7.67512264e-03, -1.01971711e-02,\n",
       "        2.22943992e-02,  1.11450952e-02, -2.30679777e-02, -5.32271977e-03,\n",
       "        9.36524029e-02, -2.04844992e-03,  2.19915419e-02,  1.15972551e-02,\n",
       "       -1.33605489e-02, -2.90357107e-02,  2.25300621e-02, -7.73253599e-02,\n",
       "       -8.78425922e-02, -2.51420850e-02,  1.11355387e-02,  6.29711438e-02,\n",
       "       -1.45731937e-02, -1.99211606e-02,  1.94118723e-02, -6.31863602e-02,\n",
       "       -1.16205472e-02, -7.96221187e-03,  4.03431361e-02, -7.25406701e-02,\n",
       "        2.76191062e-03,  8.80537733e-02,  8.92004124e-02,  1.11877483e-02,\n",
       "       -4.37546179e-02, -1.86152466e-02,  2.71935359e-02,  2.28874012e-02,\n",
       "        3.43394720e-02, -6.64468386e-03, -3.65897196e-02,  1.41770853e-02,\n",
       "        7.27154340e-03,  5.32134209e-02,  3.97548694e-02, -2.00112983e-02,\n",
       "       -6.64365510e-02, -2.17468099e-02, -9.17991093e-02, -6.38862610e-02,\n",
       "        4.38354191e-02,  5.47603647e-03, -4.53162645e-02,  2.00684109e-02,\n",
       "        2.86810337e-02,  1.94222205e-02,  4.00175883e-02, -3.80202828e-02,\n",
       "        1.85486437e-02, -1.02501937e-02,  2.12084837e-02,  7.76350178e-02,\n",
       "        2.54400739e-02, -1.88353650e-02, -3.21496642e-02, -1.56607285e-03,\n",
       "       -8.14861912e-03, -4.66529885e-02,  2.50566818e-02, -3.04909267e-02,\n",
       "       -9.85373451e-03,  1.12768422e-02,  7.19245950e-04, -1.00841262e-02,\n",
       "       -4.92932214e-02,  5.78807062e-02,  5.47718150e-05, -3.55083854e-02,\n",
       "       -2.88086613e-02, -2.36110349e-03, -4.10461802e-02, -5.42918686e-02,\n",
       "       -6.96733038e-02,  3.57251357e-02,  2.73232297e-02, -5.89549930e-02,\n",
       "        3.03977525e-03,  3.55178588e-02,  7.55387896e-02,  8.48453144e-02,\n",
       "       -1.30016713e-02, -1.48026108e-02, -2.68737466e-02,  1.88732508e-02,\n",
       "        1.33945969e-02,  3.83110862e-02, -4.51698268e-02, -6.45977886e-02,\n",
       "        6.67759221e-02,  4.26502994e-03,  6.01860160e-04, -2.25825564e-02,\n",
       "       -1.70828591e-02, -4.76210470e-02,  2.62429889e-02,  1.43113614e-02,\n",
       "        7.10137236e-03,  9.84940567e-02, -5.50022777e-02,  3.95632769e-02,\n",
       "       -6.18275957e-03, -3.38722018e-02,  2.16495304e-02, -6.41416502e-02,\n",
       "       -1.92740759e-02,  4.83510982e-02, -6.52370233e-02, -2.56342533e-02,\n",
       "       -5.49241423e-02, -5.46753284e-02,  2.51660104e-02, -5.61114255e-02,\n",
       "        8.33983066e-02, -1.56518506e-02,  4.35563506e-02, -6.99831666e-03,\n",
       "       -1.65447754e-02,  5.70587666e-02, -5.65003681e-02,  1.88418314e-02,\n",
       "        1.31859741e-02,  4.36502688e-02,  7.71720176e-02,  4.28149681e-02,\n",
       "       -2.42157807e-02,  4.44222691e-03,  1.61667120e-02,  4.28205046e-02,\n",
       "        1.03972310e-02,  5.72223828e-03, -9.66687786e-03,  1.60898456e-02,\n",
       "        1.11649573e-02,  4.46381952e-02,  2.11855050e-02,  7.01352430e-02,\n",
       "        8.64728958e-03, -9.50426859e-03, -3.20549533e-02,  9.06285258e-03,\n",
       "       -1.25803087e-02, -1.77757897e-02,  3.68083551e-02,  4.08366538e-02,\n",
       "        1.36191686e-02,  4.11727427e-02,  1.29270226e-02, -8.51863306e-03,\n",
       "        2.94266831e-02,  4.86818305e-02,  8.99951714e-03, -5.75430061e-02,\n",
       "       -2.52433284e-02, -5.03777159e-02,  2.42481872e-03, -5.14771835e-02,\n",
       "        3.70419510e-03,  4.90136236e-02,  1.23388931e-02, -6.87014895e-02,\n",
       "        5.46147925e-02,  1.22103243e-01,  1.57833255e-02, -6.21144336e-02,\n",
       "        3.64618103e-02,  1.18324943e-02, -3.01741144e-02,  5.83247137e-02,\n",
       "        1.53459660e-04, -3.15387321e-02, -7.65196989e-02, -1.41003639e-02,\n",
       "       -8.87471138e-02,  2.80638126e-02,  3.72899164e-02, -2.62748408e-02,\n",
       "        3.29669873e-02,  3.60610084e-02, -1.38846599e-02, -2.49026010e-03,\n",
       "       -1.47043065e-02, -1.92801660e-02,  2.75652429e-02,  2.80601854e-02,\n",
       "        3.44133289e-02,  3.79518950e-02,  1.05181374e-02, -9.23005077e-02,\n",
       "       -3.18441948e-02, -4.37889001e-03,  2.04519024e-02,  2.71460901e-02,\n",
       "        2.54309659e-02,  2.15740575e-02, -4.00851916e-02, -7.50746387e-02,\n",
       "       -6.41974940e-02, -5.99322331e-02,  4.56552737e-02,  3.97641122e-02,\n",
       "       -1.15518504e-02, -1.63579757e-02, -1.41628968e-03,  5.68392049e-02,\n",
       "       -9.25261895e-03, -1.38190306e-02,  1.01703846e-01,  6.39734473e-02,\n",
       "        2.12970392e-02, -1.47770392e-02,  4.53454796e-02,  4.00226478e-02,\n",
       "        4.35227848e-02,  2.72352643e-02, -7.41217507e-03,  1.29614504e-02,\n",
       "       -1.00819677e-02, -2.83931852e-02,  4.09455813e-02, -4.33481963e-02,\n",
       "        8.79552938e-04,  1.65866301e-02, -1.54627580e-02,  2.59141447e-03,\n",
       "        4.70280571e-02,  1.71886185e-02, -6.42758271e-03, -1.26275429e-02,\n",
       "        8.38078432e-03, -5.87723604e-03,  2.42208714e-03, -6.33446458e-02,\n",
       "       -7.93488943e-03, -5.27311334e-02,  3.68400881e-02,  1.24062066e-02,\n",
       "       -3.54186269e-02, -3.11891033e-02, -4.12007605e-03,  6.25526828e-03,\n",
       "       -3.49787714e-02, -5.90269318e-02,  2.32082843e-02, -2.44031272e-02,\n",
       "       -1.93926920e-02, -1.29853985e-02, -3.88688360e-02, -2.18142237e-03,\n",
       "        9.18595207e-03, -5.68057654e-03,  5.26851310e-02,  1.51307256e-02,\n",
       "        9.34463063e-03,  5.28593256e-02,  5.67062832e-02, -1.33801353e-02,\n",
       "       -1.31172130e-02, -2.17772730e-02, -3.44325073e-03, -2.12184805e-02,\n",
       "       -2.83191583e-03,  4.47085214e-02, -2.73017869e-02, -8.37613889e-03,\n",
       "       -4.49369682e-02, -3.06181359e-02,  1.21045331e-03,  4.08884009e-02,\n",
       "       -6.62265096e-03, -1.22941688e-02,  4.73170394e-02,  3.11936266e-02,\n",
       "       -7.33706292e-02,  5.05322127e-02, -1.36443695e-02,  3.73594027e-03,\n",
       "       -2.96239188e-02, -1.45781734e-02, -1.09109325e-02,  1.79877286e-02,\n",
       "        2.58281409e-02,  1.76728350e-02,  2.94944776e-02, -2.74155207e-02,\n",
       "       -2.26431734e-03,  7.80557133e-03,  2.61621496e-02,  4.08127860e-02,\n",
       "       -6.94082985e-03, -3.74309832e-02,  2.70104988e-02,  1.18158846e-02,\n",
       "       -2.98738538e-02, -3.78688537e-02, -8.11040514e-03, -4.32072884e-02,\n",
       "        7.89598990e-02,  4.99912249e-02, -2.54561080e-02, -4.97948635e-02,\n",
       "       -3.00133051e-02,  1.77103606e-02,  5.55081803e-03, -3.22649787e-02,\n",
       "       -1.75298396e-03,  2.21410952e-02,  1.90661498e-02, -2.08272406e-02,\n",
       "       -1.46661358e-02,  1.69319198e-02,  3.98171093e-02, -3.38396277e-02,\n",
       "        3.20952749e-02,  4.44859647e-02,  2.24641458e-02,  5.71452153e-02,\n",
       "       -7.38611881e-02, -4.31673437e-02, -1.46879764e-02, -5.49604255e-02,\n",
       "        4.09761729e-02,  2.73890090e-02, -5.01407099e-02,  1.62723031e-02,\n",
       "        2.52674617e-02,  5.81939927e-02,  1.24564192e-03, -5.61637126e-02,\n",
       "       -3.30555248e-02,  2.77038098e-02, -9.54034109e-03,  1.02426553e-01,\n",
       "       -1.69916178e-02, -9.00544382e-03,  8.14324559e-03, -5.63130034e-02,\n",
       "        1.16328978e-01,  4.69132329e-02,  6.27927713e-02,  2.88988410e-02,\n",
       "        4.52368020e-02,  2.11472582e-02,  7.13056964e-03,  2.45529978e-02,\n",
       "        3.92228428e-02, -3.62698904e-02, -2.39288552e-04,  1.31766816e-02,\n",
       "       -3.99854035e-02,  4.41108114e-02,  1.79798471e-02, -3.48355592e-02,\n",
       "       -1.00174150e-01,  6.61333859e-02,  4.82418631e-02, -3.13243131e-02,\n",
       "       -1.64550124e-02,  1.17767041e-01, -2.77406795e-02,  5.81634730e-02,\n",
       "       -2.28616380e-03,  6.18600717e-02,  1.46479036e-02, -3.51598074e-02,\n",
       "        3.58459733e-02,  3.39056171e-03, -6.35634112e-03,  3.20301427e-02,\n",
       "        1.30952156e-01, -5.78535109e-03, -5.79993969e-03, -1.00139031e-01,\n",
       "       -3.87612685e-02,  1.19722505e-01,  1.15413001e-02,  6.23040124e-02,\n",
       "        2.19543181e-02, -5.96641581e-02,  6.47896380e-02, -5.01126603e-02,\n",
       "       -5.12207438e-02,  1.08246198e-01,  1.97278801e-02,  2.14434895e-02,\n",
       "        3.65926894e-02,  4.77145654e-02,  2.58021473e-02, -2.20110022e-02,\n",
       "        6.73661794e-02,  2.36738035e-02,  7.38813456e-02,  1.36445626e-02,\n",
       "        2.50724170e-03,  2.51564737e-02,  3.99973619e-02, -4.79490907e-02,\n",
       "       -8.68498304e-03, -4.80108472e-02,  3.35500221e-02, -1.04252158e-02,\n",
       "       -6.10240928e-04, -4.51836954e-02, -7.18397047e-02, -1.16909412e-02,\n",
       "        6.20447588e-03, -9.38270571e-03,  9.29018388e-03,  9.11022193e-03,\n",
       "        2.58271127e-02,  2.12224950e-03, -8.90052564e-03, -4.19254922e-02,\n",
       "       -1.45508657e-02,  1.28871192e-02,  4.81616268e-02,  2.75692401e-02,\n",
       "       -6.43256690e-02, -7.48772432e-03,  1.83729745e-03,  3.12679579e-03,\n",
       "        4.25321830e-02,  6.68014129e-03, -2.28434634e-02, -2.92743527e-02,\n",
       "        2.76572773e-03,  4.96422520e-03, -4.35618456e-02, -3.29374088e-02,\n",
       "        4.22847584e-03,  6.78609129e-03, -1.30526678e-02, -6.60734285e-03,\n",
       "       -3.98019626e-02, -4.67882637e-02,  4.71073508e-02,  2.67374786e-02,\n",
       "       -1.02133106e-02, -4.07084362e-02, -1.17477494e-02,  5.20429457e-02,\n",
       "       -1.01376146e-02, -2.60597866e-02, -7.33584507e-02, -1.12910964e-03,\n",
       "       -3.23129167e-02,  6.81333003e-03, -6.67006342e-02,  1.19555598e-02,\n",
       "       -1.14096011e-02,  6.72464870e-03, -4.11070895e-02,  5.54474224e-02,\n",
       "        1.55592161e-02,  5.93270936e-02,  3.29788921e-02, -6.81285564e-02,\n",
       "       -1.53287917e-02,  3.95273065e-02, -3.94650929e-03,  2.55351785e-02,\n",
       "       -6.09522102e-02, -1.21578039e-02,  2.64761448e-02, -4.55312453e-03,\n",
       "       -7.79237343e-04, -5.17980757e-03, -2.92228011e-02,  3.72494851e-02,\n",
       "        1.16072269e-02,  6.90379010e-03, -2.64084763e-02,  3.46250403e-02])"
      ]
     },
     "execution_count": 60,
     "metadata": {},
     "output_type": "execute_result"
    }
   ],
   "source": [
    "#X_train_normtSVD[3]"
   ]
  },
  {
   "cell_type": "markdown",
   "metadata": {},
   "source": [
    "### Обучение 6 моделей \n",
    "##### LinearSVC,     LinearSVR ,    SVC,     SVR,     NuSVC,     NuSVR :\n",
    "###### Проводится в основном в базовых настройках моделей на всех 20 темах. Обучение длительное. Модели сохранены.\n",
    "######  classification_report, confusion_matrix для алгоритмов приводится ниже. Вызывается из сохраненной модели, весь код обучения запускать не обязательно.\n"
   ]
  },
  {
   "cell_type": "markdown",
   "metadata": {},
   "source": [
    "### SVC"
   ]
  },
  {
   "cell_type": "code",
   "execution_count": 420,
   "metadata": {},
   "outputs": [
    {
     "name": "stdout",
     "output_type": "stream",
     "text": [
      "n_components 500\n",
      "Wall time: 4min 35s\n"
     ]
    },
    {
     "data": {
      "text/plain": [
       "(0.86, 0.699)"
      ]
     },
     "execution_count": 420,
     "metadata": {},
     "output_type": "execute_result"
    }
   ],
   "source": [
    "%%time\n",
    "svC = SVC(kernel='rbf', random_state=0, degree=3)\n",
    "svC.fit(X_train_pretSVD, y_train)\n",
    "print('n_components', n_components)\n",
    "round(svC.score(X_train_pretSVD, y_train), 3), round(svC.score(X_test_pretSVD, y_test), 3)"
   ]
  },
  {
   "cell_type": "code",
   "execution_count": null,
   "metadata": {},
   "outputs": [],
   "source": [
    "dump(svC, 'svC_20.joblib')"
   ]
  },
  {
   "cell_type": "code",
   "execution_count": 62,
   "metadata": {},
   "outputs": [
    {
     "data": {
      "text/plain": [
       "SVC(C=1.0, cache_size=200, class_weight=None, coef0=0.0,\n",
       "    decision_function_shape='ovr', degree=3, gamma='auto_deprecated',\n",
       "    kernel='rbf', max_iter=-1, probability=False, random_state=0,\n",
       "    shrinking=True, tol=0.001, verbose=False)"
      ]
     },
     "execution_count": 62,
     "metadata": {},
     "output_type": "execute_result"
    }
   ],
   "source": [
    "svC_20 = load('svC_20.joblib')\n",
    "svC_20"
   ]
  },
  {
   "cell_type": "markdown",
   "metadata": {},
   "source": [
    "\n",
    "### LinearSVC"
   ]
  },
  {
   "cell_type": "code",
   "execution_count": 421,
   "metadata": {},
   "outputs": [
    {
     "name": "stdout",
     "output_type": "stream",
     "text": [
      "n_components 500\n",
      "Wall time: 1min 5s\n"
     ]
    },
    {
     "data": {
      "text/plain": [
       "(0.963, 0.765)"
      ]
     },
     "execution_count": 421,
     "metadata": {},
     "output_type": "execute_result"
    }
   ],
   "source": [
    "%%time\n",
    "linearcvC = LinearSVC()\n",
    "linearcvC.fit(X_train_pretSVD, y_train)\n",
    "print('n_components', n_components)\n",
    "round(linearcvC.score(X_train_pretSVD, y_train), 3), round(linearcvC.score(X_test_pretSVD, y_test), 3)"
   ]
  },
  {
   "cell_type": "code",
   "execution_count": null,
   "metadata": {},
   "outputs": [],
   "source": [
    "dump(linearcvC, 'linearcvC_20.joblib')"
   ]
  },
  {
   "cell_type": "code",
   "execution_count": 64,
   "metadata": {},
   "outputs": [
    {
     "data": {
      "text/plain": [
       "LinearSVC(C=1.0, class_weight=None, dual=True, fit_intercept=True,\n",
       "          intercept_scaling=1, loss='squared_hinge', max_iter=1000,\n",
       "          multi_class='ovr', penalty='l2', random_state=None, tol=0.0001,\n",
       "          verbose=0)"
      ]
     },
     "execution_count": 64,
     "metadata": {},
     "output_type": "execute_result"
    }
   ],
   "source": [
    "linearcvC_20 = load('linearcvC_20.joblib')\n",
    "linearcvC_20"
   ]
  },
  {
   "cell_type": "raw",
   "metadata": {},
   "source": [
    "n_components 500\n",
    "Wall time: 18.8 s\n",
    "(0.931, 0.737)"
   ]
  },
  {
   "cell_type": "markdown",
   "metadata": {},
   "source": [
    "### LinearSVR"
   ]
  },
  {
   "cell_type": "code",
   "execution_count": 423,
   "metadata": {},
   "outputs": [
    {
     "name": "stdout",
     "output_type": "stream",
     "text": [
      "n_components 500\n",
      "Wall time: 15.3 s\n"
     ]
    },
    {
     "data": {
      "text/plain": [
       "(0.419, -0.579)"
      ]
     },
     "execution_count": 423,
     "metadata": {},
     "output_type": "execute_result"
    }
   ],
   "source": [
    "%%time\n",
    "linearcvR = LinearSVR()\n",
    "linearcvR.fit(X_train_pretSVD, y_train)\n",
    "print('n_components', n_components)\n",
    "round(linearcvR.score(X_train_pretSVD, y_train), 3), round(linearcvR.score(X_test_pretSVD, y_test), 3)"
   ]
  },
  {
   "cell_type": "code",
   "execution_count": null,
   "metadata": {},
   "outputs": [],
   "source": [
    "dump(linearcvR, 'linearcvR_20.joblib')"
   ]
  },
  {
   "cell_type": "code",
   "execution_count": 65,
   "metadata": {},
   "outputs": [
    {
     "data": {
      "text/plain": [
       "LinearSVR(C=1.0, dual=True, epsilon=0.0, fit_intercept=True,\n",
       "          intercept_scaling=1.0, loss='epsilon_insensitive', max_iter=1000,\n",
       "          random_state=None, tol=0.0001, verbose=0)"
      ]
     },
     "execution_count": 65,
     "metadata": {},
     "output_type": "execute_result"
    }
   ],
   "source": [
    "linearcvR_20 = load('linearcvR_20.joblib')\n",
    "linearcvR_20"
   ]
  },
  {
   "cell_type": "markdown",
   "metadata": {},
   "source": [
    "### SVR"
   ]
  },
  {
   "cell_type": "code",
   "execution_count": 66,
   "metadata": {},
   "outputs": [
    {
     "name": "stdout",
     "output_type": "stream",
     "text": [
      "n_components 500\n",
      "Wall time: 4min 53s\n"
     ]
    },
    {
     "data": {
      "text/plain": [
       "(0.502, 0.47)"
      ]
     },
     "execution_count": 66,
     "metadata": {},
     "output_type": "execute_result"
    }
   ],
   "source": [
    "%%time\n",
    "cvR = SVR()\n",
    "cvR.fit(X_train_pretSVD, y_train)\n",
    "print('n_components', n_components)\n",
    "round(cvR.score(X_train_pretSVD, y_train), 3), round(cvR.score(X_test_pretSVD, y_test), 3)"
   ]
  },
  {
   "cell_type": "code",
   "execution_count": null,
   "metadata": {},
   "outputs": [],
   "source": [
    "dump(cvR, 'cvR_20.joblib')"
   ]
  },
  {
   "cell_type": "code",
   "execution_count": 67,
   "metadata": {},
   "outputs": [
    {
     "data": {
      "text/plain": [
       "SVR(C=1.0, cache_size=200, coef0=0.0, degree=3, epsilon=0.1,\n",
       "    gamma='auto_deprecated', kernel='rbf', max_iter=-1, shrinking=True,\n",
       "    tol=0.001, verbose=False)"
      ]
     },
     "execution_count": 67,
     "metadata": {},
     "output_type": "execute_result"
    }
   ],
   "source": [
    "cvR_20 = load('cvR_20.joblib')\n",
    "cvR_20"
   ]
  },
  {
   "cell_type": "markdown",
   "metadata": {},
   "source": [
    "### NuSVC"
   ]
  },
  {
   "cell_type": "code",
   "execution_count": 427,
   "metadata": {},
   "outputs": [
    {
     "name": "stdout",
     "output_type": "stream",
     "text": [
      "n_components 500\n",
      "Wall time: 5min 54s\n"
     ]
    },
    {
     "data": {
      "text/plain": [
       "(1.0, 1.0)"
      ]
     },
     "execution_count": 427,
     "metadata": {},
     "output_type": "execute_result"
    }
   ],
   "source": [
    "%%time\n",
    "nusvC = NuSVC()\n",
    "nusvC.fit(X_train_pretSVD, y_train)\n",
    "print('n_components', n_components)\n",
    "round(nusvC.score(X_train_pretSVD, y_train)), round(nusvC.score(X_test_pretSVD, y_test))"
   ]
  },
  {
   "cell_type": "code",
   "execution_count": null,
   "metadata": {},
   "outputs": [],
   "source": [
    "dump(nusvC, 'nusvC_20.joblib')"
   ]
  },
  {
   "cell_type": "code",
   "execution_count": 68,
   "metadata": {},
   "outputs": [
    {
     "data": {
      "text/plain": [
       "NuSVC(cache_size=200, class_weight=None, coef0=0.0,\n",
       "      decision_function_shape='ovr', degree=3, gamma='auto_deprecated',\n",
       "      kernel='rbf', max_iter=-1, nu=0.5, probability=False, random_state=None,\n",
       "      shrinking=True, tol=0.001, verbose=False)"
      ]
     },
     "execution_count": 68,
     "metadata": {},
     "output_type": "execute_result"
    }
   ],
   "source": [
    "nusvC_20 = load('nusvC_20.joblib')\n",
    "nusvC_20"
   ]
  },
  {
   "cell_type": "code",
   "execution_count": 69,
   "metadata": {},
   "outputs": [],
   "source": [
    "### NuSVR"
   ]
  },
  {
   "cell_type": "code",
   "execution_count": 425,
   "metadata": {},
   "outputs": [
    {
     "name": "stdout",
     "output_type": "stream",
     "text": [
      "n_components 500\n",
      "Wall time: 2min 35s\n"
     ]
    },
    {
     "data": {
      "text/plain": [
       "(0.0, 0.0)"
      ]
     },
     "execution_count": 425,
     "metadata": {},
     "output_type": "execute_result"
    }
   ],
   "source": [
    "%%time \n",
    "nusvR = NuSVR()\n",
    "nusvR.fit(X_train_pretSVD, y_train)\n",
    "print('n_components', n_components)\n",
    "round(nusvR.score(X_train_pretSVD, y_train)), round(nusvR.score(X_test_pretSVD, y_test))"
   ]
  },
  {
   "cell_type": "code",
   "execution_count": null,
   "metadata": {},
   "outputs": [],
   "source": [
    "dump(nusvR, 'nusvR_20.joblib')"
   ]
  },
  {
   "cell_type": "code",
   "execution_count": 70,
   "metadata": {},
   "outputs": [
    {
     "data": {
      "text/plain": [
       "NuSVR(C=1.0, cache_size=200, coef0=0.0, degree=3, gamma='auto_deprecated',\n",
       "      kernel='rbf', max_iter=-1, nu=0.5, shrinking=True, tol=0.001,\n",
       "      verbose=False)"
      ]
     },
     "execution_count": 70,
     "metadata": {},
     "output_type": "execute_result"
    }
   ],
   "source": [
    "nusvR_20 = load('nusvR_20.joblib')\n",
    "nusvR_20"
   ]
  },
  {
   "cell_type": "markdown",
   "metadata": {},
   "source": [
    "#### classification_report, confusion_matrix для алгоритмов:"
   ]
  },
  {
   "cell_type": "markdown",
   "metadata": {},
   "source": [
    "### LinearSVC"
   ]
  },
  {
   "cell_type": "code",
   "execution_count": 87,
   "metadata": {},
   "outputs": [
    {
     "name": "stdout",
     "output_type": "stream",
     "text": [
      "              precision    recall  f1-score   support\n",
      "\n",
      "           0       0.63      0.54      0.58       135\n",
      "           1       0.36      0.46      0.40       166\n",
      "           2       0.56      0.54      0.55       170\n",
      "           3       0.53      0.39      0.45       182\n",
      "           4       0.69      0.48      0.56       183\n",
      "           5       0.48      0.82      0.61       169\n",
      "           6       0.53      0.55      0.54       172\n",
      "           7       0.77      0.63      0.70       191\n",
      "           8       0.76      0.68      0.72       198\n",
      "           9       0.64      0.72      0.68       168\n",
      "          10       0.70      0.82      0.75       163\n",
      "          11       0.80      0.77      0.79       195\n",
      "          12       0.38      0.35      0.37       177\n",
      "          13       0.67      0.73      0.70       172\n",
      "          14       0.77      0.76      0.76       176\n",
      "          15       0.64      0.71      0.68       182\n",
      "          16       0.76      0.72      0.74       173\n",
      "          17       0.75      0.76      0.75       160\n",
      "          18       0.64      0.56      0.60       156\n",
      "          19       0.36      0.35      0.35       107\n",
      "\n",
      "    accuracy                           0.62      3395\n",
      "   macro avg       0.62      0.62      0.61      3395\n",
      "weighted avg       0.63      0.62      0.62      3395\n",
      "\n",
      "[[ 73   5   1   0   0   2   0   1   5   5   3   1   4   0   1  10   2   5\n",
      "    5  12]\n",
      " [  4  76   9   8   5  27   2   0   5   5   2   3   6   7   2   3   1   1\n",
      "    0   0]\n",
      " [  0  15  92   5   7  27   3   2   0   0   1   4   4   1   3   1   1   1\n",
      "    2   1]\n",
      " [  1  16  14  71   9  14  14   3   0   3   4   1  13   7   1   4   2   0\n",
      "    2   3]\n",
      " [  0  13  11  13  87  11   9   2   4   2   5   1  10   2   2   3   2   1\n",
      "    1   4]\n",
      " [  0   9   4   0   1 138   2   1   1   0   3   4   2   1   1   0   1   0\n",
      "    1   0]\n",
      " [  0   9   9   5   1  11  94   5   5   5   7   3   7   2   0   3   1   1\n",
      "    1   3]\n",
      " [  3   5   3   7   0   4   8 121   2   4   5   1  13   3   1   5   2   0\n",
      "    0   4]\n",
      " [  3   4   1   4   1   4   8   7 135   4   1   2   7   6   1   0   1   3\n",
      "    1   5]\n",
      " [  2   6   1   1   0   6   8   1   3 121   6   0   3   3   0   2   1   2\n",
      "    1   1]\n",
      " [  1   3   0   0   1   5   0   1   2  10 133   0   2   0   1   3   0   0\n",
      "    1   0]\n",
      " [  0   4   3   1   0   4   1   1   3   0   1 150   7   4   1   1   0   2\n",
      "    7   5]\n",
      " [  0  13   7   8   8   9  16   6   3   6   5   7  62   6  11   3   3   2\n",
      "    0   2]\n",
      " [  2   0   4   5   3   4   4   0   1   1   2   2   3 125   4   3   1   2\n",
      "    3   3]\n",
      " [  0   7   2   1   0   2   0   2   2   2   2   1   5   6 133   1   2   3\n",
      "    3   2]\n",
      " [  4   9   0   0   1  10   2   0   2   3   0   0   1   2   1 130   1   1\n",
      "    4  11]\n",
      " [  2   1   0   3   0   1   2   1   1   4   0   2   5   2   4   2 125   2\n",
      "   12   4]\n",
      " [  0   6   1   1   0   1   1   1   0   6   5   0   2   2   1   9   0 121\n",
      "    2   1]\n",
      " [  9   6   1   0   1   3   2   0   1   3   3   3   3   2   3   4  11  10\n",
      "   87   4]\n",
      " [ 11   4   1   0   1   2   0   2   2   4   2   2   3   5   1  15   7   5\n",
      "    3  37]]\n",
      "Wall time: 92 ms\n"
     ]
    }
   ],
   "source": [
    "%%time\n",
    "predicted_linearcvC = linearcvC_20.predict(X_test_pretSVD)\n",
    "print(metrics.classification_report(y_test, predicted_linearcvC))\n",
    "print(metrics.confusion_matrix(y_test, predicted_linearcvC))"
   ]
  },
  {
   "cell_type": "markdown",
   "metadata": {},
   "source": [
    "### LinearSVR"
   ]
  },
  {
   "cell_type": "code",
   "execution_count": 72,
   "metadata": {},
   "outputs": [
    {
     "name": "stdout",
     "output_type": "stream",
     "text": [
      "              precision    recall  f1-score   support\n",
      "\n",
      "        -215       0.00      0.00      0.00         0\n",
      "        -163       0.00      0.00      0.00         0\n",
      "         -40       0.00      0.00      0.00         0\n",
      "         -25       0.00      0.00      0.00         0\n",
      "         -22       0.00      0.00      0.00         0\n",
      "         -21       0.00      0.00      0.00         0\n",
      "         -14       0.00      0.00      0.00         0\n",
      "         -13       0.00      0.00      0.00         0\n",
      "         -12       0.00      0.00      0.00         0\n",
      "         -11       0.00      0.00      0.00         0\n",
      "         -10       0.00      0.00      0.00         0\n",
      "          -9       0.00      0.00      0.00         0\n",
      "          -8       0.00      0.00      0.00         0\n",
      "          -7       0.00      0.00      0.00         0\n",
      "          -6       0.00      0.00      0.00         0\n",
      "          -5       0.00      0.00      0.00         0\n",
      "          -4       0.00      0.00      0.00         0\n",
      "          -3       0.00      0.00      0.00         0\n",
      "          -2       0.00      0.00      0.00         0\n",
      "          -1       0.00      0.00      0.00         0\n",
      "           0       0.07      0.01      0.02       135\n",
      "           1       0.06      0.01      0.02       166\n",
      "           2       0.22      0.05      0.08       170\n",
      "           3       0.18      0.07      0.10       182\n",
      "           4       0.16      0.10      0.12       183\n",
      "           5       0.12      0.13      0.13       169\n",
      "           6       0.15      0.23      0.18       172\n",
      "           7       0.10      0.20      0.13       191\n",
      "           8       0.10      0.21      0.13       198\n",
      "           9       0.11      0.26      0.15       168\n",
      "          10       0.08      0.15      0.11       163\n",
      "          11       0.09      0.14      0.11       195\n",
      "          12       0.03      0.03      0.03       177\n",
      "          13       0.11      0.11      0.11       172\n",
      "          14       0.13      0.08      0.10       176\n",
      "          15       0.14      0.05      0.08       182\n",
      "          16       0.18      0.08      0.11       173\n",
      "          17       0.08      0.02      0.03       160\n",
      "          18       0.14      0.03      0.05       156\n",
      "          19       0.12      0.02      0.03       107\n",
      "          20       0.00      0.00      0.00         0\n",
      "          21       0.00      0.00      0.00         0\n",
      "          22       0.00      0.00      0.00         0\n",
      "          23       0.00      0.00      0.00         0\n",
      "          24       0.00      0.00      0.00         0\n",
      "          25       0.00      0.00      0.00         0\n",
      "          26       0.00      0.00      0.00         0\n",
      "          27       0.00      0.00      0.00         0\n",
      "          28       0.00      0.00      0.00         0\n",
      "          29       0.00      0.00      0.00         0\n",
      "          31       0.00      0.00      0.00         0\n",
      "          32       0.00      0.00      0.00         0\n",
      "          33       0.00      0.00      0.00         0\n",
      "          34       0.00      0.00      0.00         0\n",
      "          37       0.00      0.00      0.00         0\n",
      "          38       0.00      0.00      0.00         0\n",
      "          41       0.00      0.00      0.00         0\n",
      "          43       0.00      0.00      0.00         0\n",
      "          44       0.00      0.00      0.00         0\n",
      "          54       0.00      0.00      0.00         0\n",
      "          58       0.00      0.00      0.00         0\n",
      "          59       0.00      0.00      0.00         0\n",
      "          61       0.00      0.00      0.00         0\n",
      "          92       0.00      0.00      0.00         0\n",
      "          96       0.00      0.00      0.00         0\n",
      "\n",
      "    accuracy                           0.10      3395\n",
      "   macro avg       0.04      0.03      0.03      3395\n",
      "weighted avg       0.12      0.10      0.09      3395\n",
      "\n",
      "[[0 0 0 ... 0 0 0]\n",
      " [0 0 0 ... 0 0 0]\n",
      " [0 0 0 ... 0 0 0]\n",
      " ...\n",
      " [0 0 0 ... 0 0 0]\n",
      " [0 0 0 ... 0 0 0]\n",
      " [0 0 0 ... 0 0 0]]\n"
     ]
    }
   ],
   "source": [
    "%%time\n",
    "predicted_linearcvR = linearcvR_20.predict(X_test_pretSVD)\n",
    "predicted_0 = numpy.around(predicted_linearcvR, decimals=0)\n",
    "predicted_0_0 = predicted_0.astype('int')\n",
    "print(metrics.classification_report(y_test, predicted_0_0))\n",
    "print(metrics.confusion_matrix(y_test, predicted_0_0))"
   ]
  },
  {
   "cell_type": "markdown",
   "metadata": {},
   "source": [
    "### SVC"
   ]
  },
  {
   "cell_type": "code",
   "execution_count": 73,
   "metadata": {},
   "outputs": [
    {
     "name": "stdout",
     "output_type": "stream",
     "text": [
      "              precision    recall  f1-score   support\n",
      "\n",
      "           0       0.75      0.53      0.62       135\n",
      "           1       0.25      0.63      0.35       166\n",
      "           2       0.69      0.53      0.60       170\n",
      "           3       0.53      0.45      0.49       182\n",
      "           4       0.72      0.45      0.56       183\n",
      "           5       0.41      0.60      0.49       169\n",
      "           6       0.64      0.67      0.66       172\n",
      "           7       0.68      0.62      0.65       191\n",
      "           8       0.74      0.56      0.64       198\n",
      "           9       0.45      0.66      0.54       168\n",
      "          10       0.80      0.64      0.71       163\n",
      "          11       0.91      0.62      0.74       195\n",
      "          12       0.37      0.40      0.39       177\n",
      "          13       0.72      0.65      0.68       172\n",
      "          14       0.76      0.62      0.68       176\n",
      "          15       0.69      0.76      0.73       182\n",
      "          16       0.81      0.62      0.70       173\n",
      "          17       0.43      0.69      0.53       160\n",
      "          18       0.80      0.40      0.54       156\n",
      "          19       0.55      0.28      0.37       107\n",
      "\n",
      "    accuracy                           0.58      3395\n",
      "   macro avg       0.63      0.57      0.58      3395\n",
      "weighted avg       0.64      0.58      0.59      3395\n",
      "\n",
      "[[ 72   8   0   0   1   2   1   2   4   8   0   1   2   1   2  13   2   7\n",
      "    0   9]\n",
      " [  0 104   9   5   6  17   6   2   0   0   0   0   6   0   1   2   0   8\n",
      "    0   0]\n",
      " [  0  31  90   9   1   9   3   2   2   5   1   0   1   1   3   1   0  11\n",
      "    0   0]\n",
      " [  1  34   9  81   6  10   8   2   0   3   2   1  12   2   0   0   0  10\n",
      "    1   0]\n",
      " [  1  25   7  22  83  13   8   1   0   5   0   0  14   0   0   0   0   3\n",
      "    0   1]\n",
      " [  1  33   8   1   1 101   0   3   1   3   1   1   4   2   2   2   0   5\n",
      "    0   0]\n",
      " [  0   9   1   5   2   7 116   7   3   3   2   0  11   0   0   0   0   6\n",
      "    0   0]\n",
      " [  2  18   2   2   0   8   5 119  11   2   2   2   6   0   1   1   3   5\n",
      "    1   1]\n",
      " [  0  19   0   2   3   4   4  11 111  15   3   0   9   7   3   0   1   3\n",
      "    1   2]\n",
      " [  0  17   0   0   0   8   5   3   1 111   5   0   2   3   0   2   0   9\n",
      "    1   1]\n",
      " [  0  15   0   3   2   2   1   0   1  19 105   0   1   0   1   3   0   8\n",
      "    1   1]\n",
      " [  1  11   2   2   0   9   1   1   2   7   0 121  12   4   5   1   3  11\n",
      "    2   0]\n",
      " [  2  34   1  13   5  13   8   9   3   2   2   1  71   1   7   2   1   1\n",
      "    0   1]\n",
      " [  1  13   0   1   1   6   3   0   3   5   1   0   8 111   3   3   2  10\n",
      "    0   1]\n",
      " [  0  19   1   0   0   9   0   3   0   4   0   1  14   2 109   2   1  10\n",
      "    0   1]\n",
      " [  0  13   1   2   0   8   1   1   0   4   0   0   1   1   1 139   0   9\n",
      "    0   1]\n",
      " [  5   3   0   1   2   7   3   5   4   9   0   2   7   3   2   2 108   4\n",
      "    3   3]\n",
      " [  2   9   0   0   1   3   4   2   0  11   2   0   4   4   1   1   0 111\n",
      "    5   0]\n",
      " [  3   4   0   1   1   8   3   0   2  17   5   2   3   8   1   8   7  17\n",
      "   63   3]\n",
      " [  5   5   0   2   1   2   1   3   1  11   1   1   3   4   1  19   6  10\n",
      "    1  30]]\n"
     ]
    }
   ],
   "source": [
    "%%time\n",
    "#svC\n",
    "predicted_svC = svC_20.predict(X_test_pretSVD)\n",
    "\n",
    "print(metrics.classification_report(y_test, predicted_svC))\n",
    "print(metrics.confusion_matrix(y_test, predicted_svC))"
   ]
  },
  {
   "cell_type": "markdown",
   "metadata": {},
   "source": [
    "### SVR"
   ]
  },
  {
   "cell_type": "code",
   "execution_count": 74,
   "metadata": {},
   "outputs": [
    {
     "name": "stdout",
     "output_type": "stream",
     "text": [
      "              precision    recall  f1-score   support\n",
      "\n",
      "        -215       0.00      0.00      0.00         0\n",
      "        -163       0.00      0.00      0.00         0\n",
      "         -40       0.00      0.00      0.00         0\n",
      "         -25       0.00      0.00      0.00         0\n",
      "         -22       0.00      0.00      0.00         0\n",
      "         -21       0.00      0.00      0.00         0\n",
      "         -14       0.00      0.00      0.00         0\n",
      "         -13       0.00      0.00      0.00         0\n",
      "         -12       0.00      0.00      0.00         0\n",
      "         -11       0.00      0.00      0.00         0\n",
      "         -10       0.00      0.00      0.00         0\n",
      "          -9       0.00      0.00      0.00         0\n",
      "          -8       0.00      0.00      0.00         0\n",
      "          -7       0.00      0.00      0.00         0\n",
      "          -6       0.00      0.00      0.00         0\n",
      "          -5       0.00      0.00      0.00         0\n",
      "          -4       0.00      0.00      0.00         0\n",
      "          -3       0.00      0.00      0.00         0\n",
      "          -2       0.00      0.00      0.00         0\n",
      "          -1       0.00      0.00      0.00         0\n",
      "           0       0.07      0.01      0.02       135\n",
      "           1       0.06      0.01      0.02       166\n",
      "           2       0.22      0.05      0.08       170\n",
      "           3       0.18      0.07      0.10       182\n",
      "           4       0.16      0.10      0.12       183\n",
      "           5       0.12      0.13      0.13       169\n",
      "           6       0.15      0.23      0.18       172\n",
      "           7       0.10      0.20      0.13       191\n",
      "           8       0.10      0.21      0.13       198\n",
      "           9       0.11      0.26      0.15       168\n",
      "          10       0.08      0.15      0.11       163\n",
      "          11       0.09      0.14      0.11       195\n",
      "          12       0.03      0.03      0.03       177\n",
      "          13       0.11      0.11      0.11       172\n",
      "          14       0.13      0.08      0.10       176\n",
      "          15       0.14      0.05      0.08       182\n",
      "          16       0.18      0.08      0.11       173\n",
      "          17       0.08      0.02      0.03       160\n",
      "          18       0.14      0.03      0.05       156\n",
      "          19       0.12      0.02      0.03       107\n",
      "          20       0.00      0.00      0.00         0\n",
      "          21       0.00      0.00      0.00         0\n",
      "          22       0.00      0.00      0.00         0\n",
      "          23       0.00      0.00      0.00         0\n",
      "          24       0.00      0.00      0.00         0\n",
      "          25       0.00      0.00      0.00         0\n",
      "          26       0.00      0.00      0.00         0\n",
      "          27       0.00      0.00      0.00         0\n",
      "          28       0.00      0.00      0.00         0\n",
      "          29       0.00      0.00      0.00         0\n",
      "          31       0.00      0.00      0.00         0\n",
      "          32       0.00      0.00      0.00         0\n",
      "          33       0.00      0.00      0.00         0\n",
      "          34       0.00      0.00      0.00         0\n",
      "          37       0.00      0.00      0.00         0\n",
      "          38       0.00      0.00      0.00         0\n",
      "          41       0.00      0.00      0.00         0\n",
      "          43       0.00      0.00      0.00         0\n",
      "          44       0.00      0.00      0.00         0\n",
      "          54       0.00      0.00      0.00         0\n",
      "          58       0.00      0.00      0.00         0\n",
      "          59       0.00      0.00      0.00         0\n",
      "          61       0.00      0.00      0.00         0\n",
      "          92       0.00      0.00      0.00         0\n",
      "          96       0.00      0.00      0.00         0\n",
      "\n",
      "    accuracy                           0.10      3395\n",
      "   macro avg       0.04      0.03      0.03      3395\n",
      "weighted avg       0.12      0.10      0.09      3395\n",
      "\n",
      "[[0 0 0 ... 0 0 0]\n",
      " [0 0 0 ... 0 0 0]\n",
      " [0 0 0 ... 0 0 0]\n",
      " ...\n",
      " [0 0 0 ... 0 0 0]\n",
      " [0 0 0 ... 0 0 0]\n",
      " [0 0 0 ... 0 0 0]]\n"
     ]
    }
   ],
   "source": [
    "%%time\n",
    "predicted_cvR = cvR_20.predict(X_test_pretSVD)\n",
    "predicted_1 = numpy.around(predicted_cvR, decimals=0)\n",
    "predicted_1_0 = predicted_0.astype('int')\n",
    "print(metrics.classification_report(y_test, predicted_1_0))\n",
    "print(metrics.confusion_matrix(y_test, predicted_1_0))"
   ]
  },
  {
   "cell_type": "markdown",
   "metadata": {},
   "source": [
    "### NuSVC"
   ]
  },
  {
   "cell_type": "code",
   "execution_count": 81,
   "metadata": {},
   "outputs": [
    {
     "name": "stdout",
     "output_type": "stream",
     "text": [
      "              precision    recall  f1-score   support\n",
      "\n",
      "           0       0.73      0.55      0.62       135\n",
      "           1       0.26      0.61      0.37       166\n",
      "           2       0.67      0.54      0.60       170\n",
      "           3       0.52      0.46      0.49       182\n",
      "           4       0.69      0.46      0.56       183\n",
      "           5       0.42      0.61      0.50       169\n",
      "           6       0.62      0.66      0.64       172\n",
      "           7       0.66      0.60      0.63       191\n",
      "           8       0.73      0.57      0.64       198\n",
      "           9       0.44      0.64      0.52       168\n",
      "          10       0.79      0.66      0.72       163\n",
      "          11       0.89      0.60      0.72       195\n",
      "          12       0.38      0.41      0.39       177\n",
      "          13       0.70      0.65      0.68       172\n",
      "          14       0.76      0.63      0.69       176\n",
      "          15       0.70      0.76      0.73       182\n",
      "          16       0.82      0.60      0.69       173\n",
      "          17       0.43      0.67      0.52       160\n",
      "          18       0.78      0.41      0.54       156\n",
      "          19       0.50      0.28      0.36       107\n",
      "\n",
      "    accuracy                           0.57      3395\n",
      "   macro avg       0.62      0.57      0.58      3395\n",
      "weighted avg       0.63      0.57      0.59      3395\n",
      "\n",
      "[[ 74   8   0   0   1   2   0   2   5   9   0   1   2   1   2  13   2   6\n",
      "    0   7]\n",
      " [  1 102   9   7   5  17   7   2   0   0   0   0   5   0   2   1   0   8\n",
      "    0   0]\n",
      " [  1  27  92   8   1  10   4   2   2   5   1   0   1   1   3   1   0  11\n",
      "    0   0]\n",
      " [  1  30  11  84   7  11   8   2   0   3   2   1   9   2   0   0   0  10\n",
      "    1   0]\n",
      " [  1  21   6  25  85  13   8   1   0   5   0   0  11   0   1   1   0   4\n",
      "    0   1]\n",
      " [  1  29  11   1   2 103   0   3   0   3   1   1   3   2   2   2   0   5\n",
      "    0   0]\n",
      " [  0   9   1   5   2   7 113   8   3   3   2   0  11   0   0   2   0   5\n",
      "    1   0]\n",
      " [  2  14   2   2   0   8   5 114  13   3   2   2   9   1   1   2   3   5\n",
      "    2   1]\n",
      " [  0  14   0   3   4   4   4  10 113  16   3   0  10   7   3   0   1   3\n",
      "    1   2]\n",
      " [  0  15   0   0   0   9   5   3   1 108   6   0   3   5   0   1   0   9\n",
      "    1   2]\n",
      " [  0  12   0   3   3   3   1   0   1  17 107   0   2   0   1   3   0   8\n",
      "    1   1]\n",
      " [  1  11   1   2   0  10   1   1   3   7   0 117  16   4   5   1   2  11\n",
      "    2   0]\n",
      " [  2  31   1  13   6  11   8   9   3   3   2   2  72   2   7   2   1   1\n",
      "    0   1]\n",
      " [  1  13   1   1   0   7   3   1   3   5   1   0   6 112   3   1   2  11\n",
      "    0   1]\n",
      " [  0  17   2   0   0   8   0   3   0   4   0   1  13   3 111   2   1  10\n",
      "    0   1]\n",
      " [  0  12   0   2   0   8   0   1   0   4   0   0   2   2   1 138   0   9\n",
      "    0   3]\n",
      " [  5   2   1   3   2   6   4   5   4   9   0   4   6   3   2   1 104   4\n",
      "    3   5]\n",
      " [  2  10   0   0   1   3   6   2   0  13   2   0   4   3   1   1   0 107\n",
      "    5   0]\n",
      " [  3   6   0   1   1   6   4   0   3  18   5   2   3   7   1   6   6  15\n",
      "   64   5]\n",
      " [  7   5   0   2   3   1   1   3   1  11   1   1   3   4   1  18   5   9\n",
      "    1  30]]\n",
      "Wall time: 53.5 s\n"
     ]
    }
   ],
   "source": [
    "%%time\n",
    "predicted_nusvC = nusvC_20.predict(X_test_pretSVD)\n",
    "\n",
    "print(metrics.classification_report(y_test, predicted_nusvC))\n",
    "print(metrics.confusion_matrix(y_test, predicted_nusvC))"
   ]
  },
  {
   "cell_type": "markdown",
   "metadata": {},
   "source": [
    "### NuSVR"
   ]
  },
  {
   "cell_type": "code",
   "execution_count": 79,
   "metadata": {},
   "outputs": [
    {
     "name": "stdout",
     "output_type": "stream",
     "text": [
      "              precision    recall  f1-score   support\n",
      "\n",
      "           0       0.00      0.00      0.00       135\n",
      "           1       0.00      0.00      0.00       166\n",
      "           2       0.50      0.02      0.03       170\n",
      "           3       0.15      0.01      0.02       182\n",
      "           4       0.07      0.02      0.03       183\n",
      "           5       0.07      0.05      0.06       169\n",
      "           6       0.09      0.10      0.09       172\n",
      "           7       0.07      0.14      0.09       191\n",
      "           8       0.08      0.19      0.11       198\n",
      "           9       0.07      0.23      0.11       168\n",
      "          10       0.08      0.23      0.12       163\n",
      "          11       0.09      0.22      0.13       195\n",
      "          12       0.03      0.08      0.04       177\n",
      "          13       0.04      0.04      0.04       172\n",
      "          14       0.02      0.01      0.01       176\n",
      "          15       0.10      0.01      0.01       182\n",
      "          16       0.00      0.00      0.00       173\n",
      "          17       0.00      0.00      0.00       160\n",
      "          18       0.00      0.00      0.00       156\n",
      "          19       0.00      0.00      0.00       107\n",
      "\n",
      "    accuracy                           0.07      3395\n",
      "   macro avg       0.07      0.07      0.05      3395\n",
      "weighted avg       0.08      0.07      0.05      3395\n",
      "\n",
      "[[ 0  0  0  0  0  2  8 15 24 19 29 19 18  0  1  0  0  0  0  0]\n",
      " [ 0  0  1  2  6 11 35 43 31 21  7  5  3  1  0  0  0  0  0  0]\n",
      " [ 0  1  3  6 19 28 28 33 26  6 11  3  6  0  0  0  0  0  0  0]\n",
      " [ 0  0  1  2  7 14 32 45 38 27  5  7  4  0  0  0  0  0  0  0]\n",
      " [ 0  0  1  2  3 25 22 52 45 23  7  1  2  0  0  0  0  0  0  0]\n",
      " [ 0  0  0  1  5  8 24 42 35 32  9  5  7  1  0  0  0  0  0  0]\n",
      " [ 0  0  0  0  2  9 17 31 48 45 10  4  6  0  0  0  0  0  0  0]\n",
      " [ 0  0  0  0  2  3  5 27 39 44 29 27 13  2  0  0  0  0  0  0]\n",
      " [ 0  0  0  0  0  2  6 28 38 47 40 24 12  1  0  0  0  0  0  0]\n",
      " [ 0  0  0  0  0  1  0  9 30 38 37 22 24  5  2  0  0  0  0  0]\n",
      " [ 0  0  0  0  0  2  0  6 25 37 37 29 22  5  0  0  0  0  0  0]\n",
      " [ 0  0  0  0  0  0  0  8 17 32 32 43 46 14  2  1  0  0  0  0]\n",
      " [ 0  0  0  0  1  2 19 27 31 38 28 16 14  1  0  0  0  0  0  0]\n",
      " [ 0  0  0  0  0  0  1  9 16 22 36 39 41  7  1  0  0  0  0  0]\n",
      " [ 0  0  0  0  0  0  1  8  8 32 28 42 38 18  1  0  0  0  0  0]\n",
      " [ 0  0  0  0  0  0  0  5 15 22 26 36 50 20  7  1  0  0  0  0]\n",
      " [ 0  0  0  0  0  0  0  0  7 13 25 38 59 22  7  2  0  0  0  0]\n",
      " [ 0  0  0  0  0  0  0  1  6 16 10 24 60 27 12  4  0  0  0  0]\n",
      " [ 0  0  0  0  0  0  1  1  5  8 14 37 43 33 12  2  0  0  0  0]\n",
      " [ 0  0  0  0  0  0  0  0  4 12 18 33 25 12  2  0  1  0  0  0]]\n"
     ]
    }
   ],
   "source": [
    "#nusvR\n",
    "%%time\n",
    "predicted_nusvR = nusvR_20.predict(X_test_pretSVD)\n",
    "predicted_0 = numpy.around(predicted_nusvR, decimals=0)\n",
    "predicted_2_0 = predicted_0.astype('int')\n",
    "print(metrics.classification_report(y_test, predicted_2_0))\n",
    "print(metrics.confusion_matrix(y_test, predicted_2_0))"
   ]
  },
  {
   "cell_type": "markdown",
   "metadata": {},
   "source": [
    "## ВЫВОДЫ  по результатам обучения с параметрами по умолчанию:"
   ]
  },
  {
   "cell_type": "markdown",
   "metadata": {},
   "source": [
    "LinearSVC - реализация SVM с линейным ядром для задач классификации:\n",
    "Модель показала способность к обучению на данных, требуется настройка. \n",
    "accuracy = 0.62\n",
    "\n",
    "LinearSVR - реализация SVM с линейным ядром для задач регрессии:\n",
    "Само название указывает, что алгоритм не предназначен для классификации.\n",
    "accuracy = 0.10\n",
    "\n",
    "SVC - наиболее общая реализация SVM для задач классификации:\n",
    "Модель показала способность к обучению на данных, требуется настройка.\n",
    "accuracy = 0.58\n",
    "\n",
    "SVR - наиболее общая реализация SVM для задач регрессии:\n",
    "алгоритм не предназначен для задач классификации.\n",
    "accuracy = 0.10\n",
    "\n",
    "NuSVC - реализация SVM для задач классификации с возможностью задать количество опорных векторов:\n",
    "Модель показала способность к обучению на данных, требуется настройка.\n",
    "accuracy = 0.57\n",
    "\n",
    "NuSVR - реализация SVM для задач регрессии с возможностью задать количество опорных векторов:\n",
    "алгоритм не предназначен для задач классификации.\n",
    "accuracy  = 0.07 \n",
    "\n",
    "OneClassSVM - реализация SVM для задачи обнаружения отклонений без учителя\n",
    "Будет рассмотрен отдельно, ниже. \n",
    " "
   ]
  },
  {
   "cell_type": "markdown",
   "metadata": {},
   "source": [
    "#### LinearSVC, SVC, NuSVC - были опробованы на выборках из 4 - 5 тем и показали хорошие результаты обучения с учителем, при подборе параметров. \n"
   ]
  },
  {
   "cell_type": "markdown",
   "metadata": {},
   "source": [
    "Быстрее всего обучается LinearSVC. Попробуем на нем."
   ]
  },
  {
   "cell_type": "markdown",
   "metadata": {},
   "source": [
    "### LinearSVC - подбор параметров"
   ]
  },
  {
   "cell_type": "code",
   "execution_count": 207,
   "metadata": {},
   "outputs": [
    {
     "data": {
      "text/plain": [
       "LinearSVC(C=1.0, class_weight=None, dual=True, fit_intercept=True,\n",
       "          intercept_scaling=1, loss='squared_hinge', max_iter=1000,\n",
       "          multi_class='ovr', penalty='l2', random_state=None, tol=0.0001,\n",
       "          verbose=0)"
      ]
     },
     "execution_count": 207,
     "metadata": {},
     "output_type": "execute_result"
    }
   ],
   "source": [
    "LinearSVC()"
   ]
  },
  {
   "cell_type": "code",
   "execution_count": 105,
   "metadata": {},
   "outputs": [],
   "source": [
    "LinearSVC?\n"
   ]
  },
  {
   "cell_type": "code",
   "execution_count": null,
   "metadata": {},
   "outputs": [],
   "source": [
    "%%time\n",
    "# Получение необходимой части выборки прошедшей через преобразования текста\n",
    "# X = twenty_train.data\n",
    "# y = twenty_train.target\n",
    "X = five_train.data\n",
    "y = five_train.target\n",
    "# X = two_train.data\n",
    "# y = two_train.target\n",
    "# X = twenty_train.data\n",
    "# y = twenty_train.target\n",
    "\n",
    "# 5 классов для предварительного обучения\n",
    "X_train_pretSVD_5, X_test_pretSVD_5, y_train_5, y_test_5 = data_X_y(X, y)\n"
   ]
  },
  {
   "cell_type": "code",
   "execution_count": 24,
   "metadata": {},
   "outputs": [
    {
     "name": "stdout",
     "output_type": "stream",
     "text": [
      "(2055, 500)\n",
      "(881, 500)\n"
     ]
    }
   ],
   "source": [
    "print(X_train_pretSVD_5.shape)\n",
    "print(X_test_pretSVD_5.shape)"
   ]
  },
  {
   "cell_type": "markdown",
   "metadata": {},
   "source": [
    "#### подбор параметров для LinearSVC на 5 классах:"
   ]
  },
  {
   "cell_type": "code",
   "execution_count": 44,
   "metadata": {
    "scrolled": true
   },
   "outputs": [
    {
     "name": "stdout",
     "output_type": "stream",
     "text": [
      "{'C': 0.001, 'loss': 'squared_hinge', 'multi_class': 'ovr', 'tol': 0.01}\n",
      "0.8204379562043795\n",
      "LinearSVC(C=0.001, class_weight='balanced', dual=True, fit_intercept=True,\n",
      "          intercept_scaling=1, loss='squared_hinge', max_iter=50,\n",
      "          multi_class='ovr', penalty='l2', random_state=7, tol=0.01, verbose=0)\n",
      "Wall time: 7min 15s\n"
     ]
    }
   ],
   "source": [
    "%%time\n",
    "parameters = {'loss':('squared_hinge', 'hinge'),\n",
    "              'tol': (0.01, 0.001, 0.0001),\n",
    "              'C': np.logspace(-5, 1, 7),\n",
    "              'multi_class':('ovr', 'crammer_singer'),\n",
    "              }\n",
    "                 \n",
    "l_svc_5 = LinearSVC(random_state=7, max_iter=50, dual=True, class_weight='balanced') \n",
    "grS_l_svc_5 = GridSearchCV(l_svc_5, parameters,\n",
    "                             cv=3, n_jobs=-1, return_train_score=True)\n",
    "grS_l_svc_5.fit(X_train_pretSVD_5, y_train_5)\n",
    "print(grS_l_svc_5.best_params_) \n",
    "print(grS_l_svc_5.best_score_)\n",
    "print(grS_l_svc_5.best_estimator_)"
   ]
  },
  {
   "cell_type": "markdown",
   "metadata": {},
   "source": [
    "#### Сохранение модели. Предсказание и результаты для 5 классов:"
   ]
  },
  {
   "cell_type": "code",
   "execution_count": 45,
   "metadata": {},
   "outputs": [
    {
     "data": {
      "text/plain": [
       "['grS_l_svc_5.joblib']"
      ]
     },
     "execution_count": 45,
     "metadata": {},
     "output_type": "execute_result"
    }
   ],
   "source": [
    "dump(grS_l_svc_5, 'grS_l_svc_5.joblib')"
   ]
  },
  {
   "cell_type": "code",
   "execution_count": 46,
   "metadata": {},
   "outputs": [
    {
     "data": {
      "text/plain": [
       "GridSearchCV(cv=3, error_score='raise-deprecating',\n",
       "             estimator=LinearSVC(C=1.0, class_weight='balanced', dual=True,\n",
       "                                 fit_intercept=True, intercept_scaling=1,\n",
       "                                 loss='squared_hinge', max_iter=50,\n",
       "                                 multi_class='ovr', penalty='l2',\n",
       "                                 random_state=7, tol=0.0001, verbose=0),\n",
       "             iid='warn', n_jobs=-1,\n",
       "             param_grid={'C': array([1.e-05, 1.e-04, 1.e-03, 1.e-02, 1.e-01, 1.e+00, 1.e+01]),\n",
       "                         'loss': ('squared_hinge', 'hinge'),\n",
       "                         'multi_class': ('ovr', 'crammer_singer'),\n",
       "                         'tol': (0.01, 0.001, 0.0001)},\n",
       "             pre_dispatch='2*n_jobs', refit=True, return_train_score=True,\n",
       "             scoring=None, verbose=0)"
      ]
     },
     "execution_count": 46,
     "metadata": {},
     "output_type": "execute_result"
    }
   ],
   "source": [
    "grS_l_svc_5_dump = load('grS_l_svc_5.joblib')\n",
    "grS_l_svc_5_dump"
   ]
  },
  {
   "cell_type": "code",
   "execution_count": 47,
   "metadata": {},
   "outputs": [
    {
     "name": "stdout",
     "output_type": "stream",
     "text": [
      "              precision    recall  f1-score   support\n",
      "\n",
      "           0       0.81      0.86      0.83       173\n",
      "           1       0.84      0.84      0.84       187\n",
      "           2       0.80      0.81      0.81       173\n",
      "           3       0.93      0.86      0.90       183\n",
      "           4       0.81      0.82      0.81       165\n",
      "\n",
      "    accuracy                           0.84       881\n",
      "   macro avg       0.84      0.84      0.84       881\n",
      "weighted avg       0.84      0.84      0.84       881\n",
      "\n",
      "[[148   6   6   4   9]\n",
      " [  8 158  10   1  10]\n",
      " [  8  12 140   7   6]\n",
      " [  4   1  13 158   7]\n",
      " [ 14  11   5   0 135]]\n",
      "Wall time: 31.9 ms\n"
     ]
    }
   ],
   "source": [
    "%%time\n",
    "pred_grS_l_svc_5_dump = grS_l_svc_5_dump.predict(X_test_pretSVD_5)\n",
    "\n",
    "print(metrics.classification_report(y_test_5, pred_grS_l_svc_5_dump))\n",
    "print(metrics.confusion_matrix(y_test_5, pred_grS_l_svc_5_dump))"
   ]
  },
  {
   "cell_type": "markdown",
   "metadata": {},
   "source": [
    "### Предсказание LinearSVC на 20 классах, с подобраными ранее параметрами :"
   ]
  },
  {
   "cell_type": "code",
   "execution_count": 23,
   "metadata": {},
   "outputs": [
    {
     "name": "stdout",
     "output_type": "stream",
     "text": [
      "(7919, 500)\n",
      "(3395, 500)\n",
      "Wall time: 1min 26s\n"
     ]
    }
   ],
   "source": [
    "%%time\n",
    "# X = twenty_train.data\n",
    "# y = twenty_train.target\n",
    "# X = five_train.data\n",
    "# y = five_train.target\n",
    "# X = two_train.data\n",
    "# y = two_train.target\n",
    "X = twenty_train.data\n",
    "y = twenty_train.target\n",
    "\n",
    "X_train_pretSVD_20, X_test_pretSVD_20, y_train_20, y_test_20 = data_X_y(X, y)\n",
    "print(X_train_pretSVD_20.shape)\n",
    "print(X_test_pretSVD_20.shape)"
   ]
  },
  {
   "cell_type": "code",
   "execution_count": 201,
   "metadata": {},
   "outputs": [
    {
     "name": "stdout",
     "output_type": "stream",
     "text": [
      "Wall time: 8.14 s\n"
     ]
    },
    {
     "data": {
      "text/plain": [
       "(0.916, 0.87)"
      ]
     },
     "execution_count": 201,
     "metadata": {},
     "output_type": "execute_result"
    }
   ],
   "source": [
    "%%time\n",
    "#linearsVC = LinearSVC()\n",
    "linearsVC_20 = LinearSVC(C=0.001, \n",
    "                         class_weight='balanced', \n",
    "                         dual=True, \n",
    "                         fit_intercept=True,\n",
    "                         intercept_scaling=1, \n",
    "                         loss='squared_hinge', \n",
    "                         max_iter=500,\n",
    "                         multi_class='ovr', \n",
    "                         penalty='l2', \n",
    "                         random_state=7, \n",
    "                         tol=0.01, verbose=0\n",
    "                        )\n",
    "linearsVC_20.fit(X_train_pretSVD_20, y_train_20)\n",
    "\n",
    "round(linearsVC_20.score(X_train_pretSVD_20, y_train_20), 3), round(linearsVC_20.score(X_test_pretSVD_20, y_test_20), 3)"
   ]
  },
  {
   "cell_type": "code",
   "execution_count": 203,
   "metadata": {},
   "outputs": [
    {
     "data": {
      "text/plain": [
       "LinearSVC(C=0.001, class_weight='balanced', dual=True, fit_intercept=True,\n",
       "          intercept_scaling=1, loss='squared_hinge', max_iter=500,\n",
       "          multi_class='ovr', penalty='l2', random_state=7, tol=0.01, verbose=0)"
      ]
     },
     "execution_count": 203,
     "metadata": {},
     "output_type": "execute_result"
    }
   ],
   "source": [
    "# сохранение и вывод модели\n",
    "dump(linearsVC_20, 'linearsVC_20.joblib')\n",
    "linearsVC_20_dump = load('linearsVC_20.joblib')\n",
    "linearsVC_20_dump"
   ]
  },
  {
   "cell_type": "code",
   "execution_count": 204,
   "metadata": {},
   "outputs": [
    {
     "name": "stdout",
     "output_type": "stream",
     "text": [
      "              precision    recall  f1-score   support\n",
      "\n",
      "           0       0.89      0.91      0.90       135\n",
      "           1       0.76      0.79      0.77       166\n",
      "           2       0.80      0.80      0.80       170\n",
      "           3       0.76      0.74      0.75       182\n",
      "           4       0.88      0.80      0.84       183\n",
      "           5       0.81      0.90      0.85       169\n",
      "           6       0.82      0.82      0.82       172\n",
      "           7       0.88      0.91      0.89       191\n",
      "           8       0.94      0.93      0.94       198\n",
      "           9       0.93      0.95      0.94       168\n",
      "          10       0.96      0.94      0.95       163\n",
      "          11       0.98      0.92      0.95       195\n",
      "          12       0.77      0.75      0.76       177\n",
      "          13       0.92      0.93      0.92       172\n",
      "          14       0.90      0.94      0.92       176\n",
      "          15       0.84      0.89      0.86       182\n",
      "          16       0.93      0.93      0.93       173\n",
      "          17       0.93      0.97      0.95       160\n",
      "          18       0.84      0.85      0.85       156\n",
      "          19       0.83      0.64      0.73       107\n",
      "\n",
      "    accuracy                           0.87      3395\n",
      "   macro avg       0.87      0.87      0.87      3395\n",
      "weighted avg       0.87      0.87      0.87      3395\n",
      "\n",
      "[[123   0   0   0   0   0   0   0   0   0   0   0   0   0   1   4   0   0\n",
      "    2   5]\n",
      " [  0 131  12   3   1  10   1   1   0   1   0   0   3   1   1   0   0   1\n",
      "    0   0]\n",
      " [  0   7 136   8   1   8   3   0   0   0   0   0   4   0   2   0   0   0\n",
      "    1   0]\n",
      " [  1   9   9 135   3   5   5   1   0   2   1   0   8   1   0   0   0   0\n",
      "    1   1]\n",
      " [  1   6   6   8 146   1   7   0   0   1   0   0   6   0   0   0   1   0\n",
      "    0   0]\n",
      " [  1   7   0   4   0 152   0   0   1   1   0   0   1   0   0   0   0   0\n",
      "    1   1]\n",
      " [  0   2   0   9   2   1 141   5   4   0   0   0   5   0   2   0   0   0\n",
      "    1   0]\n",
      " [  0   1   2   1   0   0   2 173   5   1   0   0   5   0   0   1   0   0\n",
      "    0   0]\n",
      " [  1   0   0   1   0   0   3   5 185   0   1   0   1   0   1   0   0   0\n",
      "    0   0]\n",
      " [  0   1   0   0   0   0   3   2   0 159   3   0   0   0   0   0   0   0\n",
      "    0   0]\n",
      " [  0   0   0   0   1   0   1   0   0   1 154   0   1   1   3   0   0   1\n",
      "    0   0]\n",
      " [  1   1   0   0   1   2   0   0   0   0   0 179   0   1   0   2   1   1\n",
      "    6   0]\n",
      " [  0   3   4   7   6   4   4   1   0   2   0   2 133   2   5   3   0   0\n",
      "    1   0]\n",
      " [  1   2   0   0   3   2   0   0   0   0   0   0   2 160   1   0   0   0\n",
      "    1   0]\n",
      " [  0   1   0   0   2   1   0   3   0   0   0   0   1   0 166   1   0   0\n",
      "    1   0]\n",
      " [  3   2   0   1   0   1   1   0   0   1   0   0   2   4   0 162   1   3\n",
      "    0   1]\n",
      " [  0   0   0   0   0   0   2   0   0   0   1   0   0   1   1   1 161   1\n",
      "    5   0]\n",
      " [  1   0   0   0   0   0   0   1   0   0   0   0   0   0   1   0   0 156\n",
      "    1   0]\n",
      " [  1   0   0   0   0   0   0   3   1   1   0   1   0   1   0   1   6   2\n",
      "  133   6]\n",
      " [  4   0   0   0   0   0   0   2   1   1   0   0   0   2   0  18   4   2\n",
      "    4  69]]\n",
      "Wall time: 83.8 ms\n"
     ]
    }
   ],
   "source": [
    "%%time\n",
    "pred_linearsVC_20 = linearsVC_20_dump.predict(X_test_pretSVD_20)\n",
    "\n",
    "print(metrics.classification_report(y_test_20, pred_linearsVC_20))\n",
    "print(metrics.confusion_matrix(y_test_20, pred_linearsVC_20))"
   ]
  },
  {
   "cell_type": "raw",
   "metadata": {},
   "source": [
    "0  'alt.atheism',\n",
    "1  'comp.graphics',\n",
    "2  'comp.os.ms-windows.misc',\n",
    "3  'comp.sys.ibm.pc.hardware',\n",
    "4  'comp.sys.mac.hardware',\n",
    "5  'comp.windows.x',\n",
    "6  'misc.forsale',\n",
    "7  'rec.autos',\n",
    "8  'rec.motorcycles',\n",
    "9  'rec.sport.baseball',\n",
    "10 'rec.sport.hockey',\n",
    "11 'sci.crypt',\n",
    "12 'sci.electronics',\n",
    "13 'sci.med',\n",
    "14 'sci.space',\n",
    "15 'soc.religion.christian',\n",
    "16 'talk.politics.guns',\n",
    "17 'talk.politics.mideast',\n",
    "18 'talk.politics.misc',\n",
    "19 'talk.religion.misc']"
   ]
  },
  {
   "cell_type": "markdown",
   "metadata": {},
   "source": [
    "##### По classification_report и confusion_matrix видно, что часть классов предсказывается хорошо, а часть не очень.\n"
   ]
  },
  {
   "cell_type": "raw",
   "metadata": {},
   "source": [
    "Думаю, что это связано со схожей тематикой в классах: \n",
    "Например: 15 класс и 19 схожи по тематике, и по confusion_matrix видно, что алгоритм отнес 18 экземляров класса 15 к 19.\n",
    " "
   ]
  },
  {
   "cell_type": "markdown",
   "metadata": {},
   "source": [
    "### Вывод по результатам подбора параметров для LinearSVC:"
   ]
  },
  {
   "cell_type": "raw",
   "metadata": {},
   "source": [
    "Алгоритм показал удовлетворительные результаты на базовых настройках модели и хорошие при подборе параметров. Значительно уменьшился разброс ошибок по классам после подбора. Модель путает тексты по схожим тематикам.  \n",
    "accuracy = 0.62 - базовые\n",
    "accuracy = 0.87 - подбор\n",
    "Для классов, которые не схожи по тематике f1-score = 0.93 - 0,95. \n",
    "Пути дальнейшего улучшения я модели - работа с текстом в смежных по темах класах, выделение значимых слов для этого класса. Подбор весов."
   ]
  },
  {
   "cell_type": "markdown",
   "metadata": {},
   "source": [
    "### Подбор параметров для NuSVC"
   ]
  },
  {
   "cell_type": "raw",
   "metadata": {},
   "source": [
    "NuSVC - реализация SVM для задач классификации с возможностью задать количество опорных векторов"
   ]
  },
  {
   "cell_type": "code",
   "execution_count": 10,
   "metadata": {},
   "outputs": [
    {
     "data": {
      "text/plain": [
       "NuSVC(cache_size=200, class_weight=None, coef0=0.0,\n",
       "      decision_function_shape='ovr', degree=3, gamma='auto_deprecated',\n",
       "      kernel='rbf', max_iter=-1, nu=0.5, probability=False, random_state=None,\n",
       "      shrinking=True, tol=0.001, verbose=False)"
      ]
     },
     "execution_count": 10,
     "metadata": {},
     "output_type": "execute_result"
    }
   ],
   "source": [
    "NuSVC()"
   ]
  },
  {
   "cell_type": "code",
   "execution_count": 11,
   "metadata": {},
   "outputs": [],
   "source": [
    "NuSVC?"
   ]
  },
  {
   "cell_type": "code",
   "execution_count": 34,
   "metadata": {},
   "outputs": [
    {
     "name": "stdout",
     "output_type": "stream",
     "text": [
      "{'coef0': 0.0, 'decision_function_shape': 'ovr', 'degree': 1}\n",
      "0.7236009732360097\n",
      "NuSVC(cache_size=200, class_weight='balanced', coef0=0.0,\n",
      "      decision_function_shape='ovr', degree=1, gamma='auto_deprecated',\n",
      "      kernel='rbf', max_iter=50, nu=0.5, probability=False, random_state=7,\n",
      "      shrinking=True, tol=0.001, verbose=False)\n",
      "Wall time: 1min 7s\n"
     ]
    }
   ],
   "source": [
    "%%time\n",
    "# nusvC = NuSVC()  #'nu':np.arange(0.2, 1.2, 0.2),\n",
    "parameters = {\n",
    "              \n",
    "              'degree': (1, 2, 3),\n",
    "              'coef0':(0.0, 0.1, 0.2),\n",
    "              'decision_function_shape':('ovr', 'ovo')\n",
    "             }\n",
    "# 'kernel': ('rbf', 'linear', 'poly', \n",
    "#                          'sigmoid', 'precomputed' ),\n",
    "nusvC_5 = NuSVC(random_state=7, max_iter=50, class_weight='balanced') \n",
    "grS_nusvC_5 = GridSearchCV(nusvC_5, parameters,\n",
    "                             cv=3, n_jobs=-1)\n",
    "grS_nusvC_5.fit(X_train_pretSVD_5, y_train_5)\n",
    "print(grS_nusvC_5.best_params_) \n",
    "print(grS_nusvC_5.best_score_)\n",
    "print(grS_nusvC_5.best_estimator_)"
   ]
  },
  {
   "cell_type": "code",
   "execution_count": 35,
   "metadata": {
    "scrolled": true
   },
   "outputs": [
    {
     "name": "stdout",
     "output_type": "stream",
     "text": [
      "              precision    recall  f1-score   support\n",
      "\n",
      "           0       0.68      0.91      0.78       173\n",
      "           1       0.82      0.79      0.80       187\n",
      "           2       0.76      0.65      0.70       173\n",
      "           3       0.89      0.83      0.86       183\n",
      "           4       0.84      0.78      0.81       165\n",
      "\n",
      "    accuracy                           0.79       881\n",
      "   macro avg       0.80      0.79      0.79       881\n",
      "weighted avg       0.80      0.79      0.79       881\n",
      "\n",
      "[[157   4   7   4   1]\n",
      " [ 21 147   8   3   8]\n",
      " [ 20  21 112  12   8]\n",
      " [ 10   3  12 151   7]\n",
      " [ 24   4   8   0 129]]\n",
      "Wall time: 2.13 s\n"
     ]
    }
   ],
   "source": [
    "%%time\n",
    "pred_grS_nusvC_5 = grS_nusvC_5.predict(X_test_pretSVD_5)\n",
    "\n",
    "print(metrics.classification_report(y_test_5, pred_grS_nusvC_5))\n",
    "print(metrics.confusion_matrix(y_test_5, pred_grS_nusvC_5))"
   ]
  },
  {
   "cell_type": "code",
   "execution_count": null,
   "metadata": {},
   "outputs": [],
   "source": []
  },
  {
   "cell_type": "code",
   "execution_count": 13,
   "metadata": {},
   "outputs": [
    {
     "name": "stdout",
     "output_type": "stream",
     "text": [
      "{'coef0': 0.0, 'decision_function_shape': 'ovr', 'degree': 1, 'kernel': 'rbf'}\n",
      "0.7819951338199513\n",
      "NuSVC(cache_size=200, class_weight='balanced', coef0=0.0,\n",
      "      decision_function_shape='ovr', degree=1, gamma='auto_deprecated',\n",
      "      kernel='rbf', max_iter=50, nu=0.82, probability=False, random_state=7,\n",
      "      shrinking=True, tol=0.001, verbose=False)\n",
      "Wall time: 4min 35s\n"
     ]
    }
   ],
   "source": [
    "%%time\n",
    "# nusvC = NuSVC()  #'nu':(0.6, 0.8, 0.81, 0.82, 0.83, 0.85, 0.9, 0.95),\n",
    "parameters = {\n",
    "              'kernel': ('rbf', 'linear', 'poly', \n",
    "                         'sigmoid'),\n",
    "              'degree': (1, 2, 3),\n",
    "              'coef0':(0.0, 0.1, 0.2),\n",
    "              'decision_function_shape':('ovr', 'ovo')\n",
    "             }\n",
    "\n",
    "nusvC_5 = NuSVC(random_state=7, max_iter=50, class_weight='balanced',nu=0.82 ) \n",
    "grS_nusvC_5 = GridSearchCV(nusvC_5, parameters,\n",
    "                             cv=3, n_jobs=-1)\n",
    "grS_nusvC_5.fit(X_train_pretSVD_5, y_train_5)\n",
    "print(grS_nusvC_5.best_params_) \n",
    "print(grS_nusvC_5.best_score_)\n",
    "print(grS_nusvC_5.best_estimator_)"
   ]
  },
  {
   "cell_type": "code",
   "execution_count": null,
   "metadata": {},
   "outputs": [],
   "source": []
  },
  {
   "cell_type": "code",
   "execution_count": 15,
   "metadata": {},
   "outputs": [
    {
     "name": "stdout",
     "output_type": "stream",
     "text": [
      "{'nu': 0.83}\n",
      "0.7844282238442822\n",
      "NuSVC(cache_size=200, class_weight='balanced', coef0=0.0,\n",
      "      decision_function_shape='ovr', degree=1, gamma='auto_deprecated',\n",
      "      kernel='rbf', max_iter=50, nu=0.83, probability=False, random_state=7,\n",
      "      shrinking=True, tol=0.001, verbose=False)\n",
      "Wall time: 48.3 s\n"
     ]
    }
   ],
   "source": [
    "%%time\n",
    "# nusvC = NuSVC()  \n",
    "parameters = {'nu':(0.6, 0.8, 0.81, 0.82, 0.83, 0.85, 0.9, 0.95),\n",
    "              \n",
    "             }\n",
    "\n",
    "nusvC_5 = NuSVC(cache_size=200, class_weight='balanced', coef0=0.0,\n",
    "                decision_function_shape='ovr', degree=1, gamma='auto_deprecated',\n",
    "                kernel='rbf', max_iter=50, probability=False, random_state=7,\n",
    "                shrinking=True, tol=0.001, verbose=False\n",
    "               )\n",
    "\n",
    "grS_nusvC_5 = GridSearchCV(nusvC_5, parameters,\n",
    "                             cv=3, n_jobs=-1)\n",
    "grS_nusvC_5.fit(X_train_pretSVD_5, y_train_5)\n",
    "print(grS_nusvC_5.best_params_) \n",
    "print(grS_nusvC_5.best_score_)\n",
    "print(grS_nusvC_5.best_estimator_)"
   ]
  },
  {
   "cell_type": "markdown",
   "metadata": {},
   "source": [
    "#### сохранение модели NuSVC() и вывод результатов предсказания для 5 классов"
   ]
  },
  {
   "cell_type": "code",
   "execution_count": 16,
   "metadata": {},
   "outputs": [
    {
     "data": {
      "text/plain": [
       "['grS_nusvC_5.joblib']"
      ]
     },
     "execution_count": 16,
     "metadata": {},
     "output_type": "execute_result"
    }
   ],
   "source": [
    "dump(grS_nusvC_5, 'grS_nusvC_5.joblib')"
   ]
  },
  {
   "cell_type": "code",
   "execution_count": 17,
   "metadata": {},
   "outputs": [
    {
     "data": {
      "text/plain": [
       "GridSearchCV(cv=3, error_score='raise-deprecating',\n",
       "             estimator=NuSVC(cache_size=200, class_weight='balanced', coef0=0.0,\n",
       "                             decision_function_shape='ovr', degree=1,\n",
       "                             gamma='auto_deprecated', kernel='rbf', max_iter=50,\n",
       "                             nu=0.5, probability=False, random_state=7,\n",
       "                             shrinking=True, tol=0.001, verbose=False),\n",
       "             iid='warn', n_jobs=-1,\n",
       "             param_grid={'nu': (0.6, 0.8, 0.81, 0.82, 0.83, 0.85, 0.9, 0.95)},\n",
       "             pre_dispatch='2*n_jobs', refit=True, return_train_score=False,\n",
       "             scoring=None, verbose=0)"
      ]
     },
     "execution_count": 17,
     "metadata": {},
     "output_type": "execute_result"
    }
   ],
   "source": [
    "grS_nusvC_5_dump = load('grS_nusvC_5.joblib')\n",
    "grS_nusvC_5_dump"
   ]
  },
  {
   "cell_type": "code",
   "execution_count": 18,
   "metadata": {},
   "outputs": [
    {
     "name": "stdout",
     "output_type": "stream",
     "text": [
      "              precision    recall  f1-score   support\n",
      "\n",
      "           0       0.74      0.86      0.79       173\n",
      "           1       0.79      0.79      0.79       187\n",
      "           2       0.71      0.75      0.73       173\n",
      "           3       0.92      0.73      0.82       183\n",
      "           4       0.85      0.85      0.85       165\n",
      "\n",
      "    accuracy                           0.79       881\n",
      "   macro avg       0.80      0.80      0.80       881\n",
      "weighted avg       0.80      0.79      0.80       881\n",
      "\n",
      "[[148  12   3   3   7]\n",
      " [ 10 148  21   4   4]\n",
      " [ 10  24 130   4   5]\n",
      " [ 14   3  23 134   9]\n",
      " [ 18   1   6   0 140]]\n",
      "Wall time: 2.5 s\n"
     ]
    }
   ],
   "source": [
    "%%time\n",
    "pred_grS_nusvC_5 = grS_nusvC_5_dump.predict(X_test_pretSVD_5)\n",
    "\n",
    "print(metrics.classification_report(y_test_5, pred_grS_nusvC_5))\n",
    "print(metrics.confusion_matrix(y_test_5, pred_grS_nusvC_5))"
   ]
  },
  {
   "cell_type": "markdown",
   "metadata": {},
   "source": [
    "#### Предсказание NuSVC на 20 классах, с подобраными ранее параметрами :"
   ]
  },
  {
   "cell_type": "code",
   "execution_count": 26,
   "metadata": {},
   "outputs": [
    {
     "name": "stdout",
     "output_type": "stream",
     "text": [
      "Wall time: 5min 11s\n"
     ]
    },
    {
     "data": {
      "text/plain": [
       "(0.962, 0.855)"
      ]
     },
     "execution_count": 26,
     "metadata": {},
     "output_type": "execute_result"
    }
   ],
   "source": [
    "%%time\n",
    "#nusvC = NuSVC()\n",
    "nusvC_20 = NuSVC(cache_size=200, class_weight='balanced', coef0=0.0,\n",
    "                   decision_function_shape='ovr', degree=1, gamma='auto_deprecated',\n",
    "                   kernel='rbf', max_iter=500, probability=False, random_state=7,\n",
    "                   shrinking=True, tol=0.001, verbose=False\n",
    "                  )\n",
    "\n",
    "nusvC_20.fit(X_train_pretSVD_20, y_train_20)\n",
    "round(nusvC_20.score(X_train_pretSVD_20, y_train_20), 3), round(nusvC_20.score(X_test_pretSVD_20, y_test_20), 3)"
   ]
  },
  {
   "cell_type": "code",
   "execution_count": 27,
   "metadata": {},
   "outputs": [
    {
     "data": {
      "text/plain": [
       "NuSVC(cache_size=200, class_weight='balanced', coef0=0.0,\n",
       "      decision_function_shape='ovr', degree=1, gamma='auto_deprecated',\n",
       "      kernel='rbf', max_iter=500, nu=0.5, probability=False, random_state=7,\n",
       "      shrinking=True, tol=0.001, verbose=False)"
      ]
     },
     "execution_count": 27,
     "metadata": {},
     "output_type": "execute_result"
    }
   ],
   "source": [
    "# сохранение и вывод модели\n",
    "dump(nusvC_20, 'nusvC_20.joblib')\n",
    "nusvC_20_dump = load('nusvC_20.joblib')\n",
    "nusvC_20_dump"
   ]
  },
  {
   "cell_type": "code",
   "execution_count": 30,
   "metadata": {},
   "outputs": [
    {
     "name": "stdout",
     "output_type": "stream",
     "text": [
      "              precision    recall  f1-score   support\n",
      "\n",
      "           0       0.94      0.89      0.92       135\n",
      "           1       0.62      0.78      0.70       166\n",
      "           2       0.78      0.77      0.77       170\n",
      "           3       0.71      0.75      0.73       182\n",
      "           4       0.83      0.78      0.80       183\n",
      "           5       0.82      0.88      0.85       169\n",
      "           6       0.76      0.84      0.80       172\n",
      "           7       0.83      0.89      0.86       191\n",
      "           8       0.97      0.87      0.92       198\n",
      "           9       0.93      0.92      0.92       168\n",
      "          10       0.95      0.91      0.93       163\n",
      "          11       1.00      0.89      0.94       195\n",
      "          12       0.76      0.80      0.78       177\n",
      "          13       0.89      0.95      0.92       172\n",
      "          14       0.97      0.88      0.92       176\n",
      "          15       0.87      0.90      0.88       182\n",
      "          16       0.90      0.90      0.90       173\n",
      "          17       0.95      0.92      0.94       160\n",
      "          18       0.91      0.81      0.85       156\n",
      "          19       0.83      0.72      0.77       107\n",
      "\n",
      "    accuracy                           0.85      3395\n",
      "   macro avg       0.86      0.85      0.86      3395\n",
      "weighted avg       0.86      0.85      0.86      3395\n",
      "\n",
      "[[120   0   1   0   0   0   0   0   0   1   0   0   0   3   0   6   0   0\n",
      "    0   4]\n",
      " [  0 130  11   5   2   7   3   1   0   0   0   0   2   2   1   0   0   2\n",
      "    0   0]\n",
      " [  0  13 131   8   2   7   4   0   0   0   2   0   2   0   1   0   0   0\n",
      "    0   0]\n",
      " [  0  12   9 137   4   3   5   0   0   2   1   0   6   3   0   0   0   0\n",
      "    0   0]\n",
      " [  0   9   5  12 143   1   4   0   0   0   0   0   9   0   0   0   0   0\n",
      "    0   0]\n",
      " [  0   9   2   6   0 149   0   1   0   0   0   0   2   0   0   0   0   0\n",
      "    0   0]\n",
      " [  0   2   0   6   7   2 145   3   1   0   0   0   5   1   0   0   0   0\n",
      "    0   0]\n",
      " [  0   2   1   2   0   0   5 170   3   0   0   0   7   1   0   0   0   0\n",
      "    0   0]\n",
      " [  0   2   1   0   1   0   5  12 173   1   0   0   1   0   0   0   2   0\n",
      "    0   0]\n",
      " [  0   1   0   0   0   1   4   5   1 154   1   0   0   1   0   0   0   0\n",
      "    0   0]\n",
      " [  0   2   0   1   3   2   2   1   0   2 148   0   0   1   0   0   0   1\n",
      "    0   0]\n",
      " [  1   3   2   1   2   2   1   0   0   0   0 174   1   2   0   1   2   0\n",
      "    2   1]\n",
      " [  0   7   4  13   3   2   3   2   0   0   0   0 142   0   1   0   0   0\n",
      "    0   0]\n",
      " [  0   1   0   1   2   0   0   1   0   0   0   0   2 163   0   1   0   0\n",
      "    1   0]\n",
      " [  0   5   0   0   1   1   3   2   0   0   2   0   1   0 155   0   4   0\n",
      "    2   0]\n",
      " [  1   5   0   0   0   2   2   0   0   1   0   0   3   2   0 163   1   2\n",
      "    0   0]\n",
      " [  0   2   1   0   1   0   0   1   0   1   0   0   1   2   0   2 155   0\n",
      "    6   1]\n",
      " [  1   1   0   0   0   1   1   1   0   1   0   0   1   0   1   2   1 147\n",
      "    1   1]\n",
      " [  1   0   1   2   1   0   2   2   0   2   1   0   1   1   0   2   4   1\n",
      "  126   9]\n",
      " [  3   2   0   0   1   1   2   2   1   0   0   0   0   2   1  10   3   1\n",
      "    1  77]]\n"
     ]
    }
   ],
   "source": [
    "%%time\n",
    "# предсказание для модели\n",
    "pred_nusvC_20_dump = nusvC_20_dump.predict(X_test_pretSVD_20)\n",
    "print(metrics.classification_report(y_test_20, pred_nusvC_20_dump))\n",
    "print(metrics.confusion_matrix(y_test_20, pred_nusvC_20_dump))"
   ]
  },
  {
   "cell_type": "code",
   "execution_count": 31,
   "metadata": {},
   "outputs": [],
   "source": [
    "def plot_grid_scores(grid, param_name):\n",
    "    plt.plot(grid.param_grid[param_name], grid.cv_results_['mean_train_score'],\n",
    "          color='green', label='train'),\n",
    "    plt.plot(grid.param_grid[param_name], grid.cv_results_['mean_test_score'],\n",
    "        color='red', label='test'),\n",
    "    plt.legend(),\n",
    "    plt.show();\n",
    "    "
   ]
  },
  {
   "cell_type": "raw",
   "metadata": {},
   "source": [
    "\n",
    "nusvC_optim_20 = NuSVC(cache_size=200, class_weight='balanced', coef0=0.0,\n",
    "                       decision_function_shape='ovr', degree=1, gamma='auto_deprecated',\n",
    "                       kernel='rbf', max_iter=500, probability=False, random_state=7,\n",
    "                       shrinking=True, tol=0.001, verbose=False\n",
    "                      )"
   ]
  },
  {
   "cell_type": "code",
   "execution_count": 34,
   "metadata": {},
   "outputs": [
    {
     "name": "stdout",
     "output_type": "stream",
     "text": [
      "{'nu': 0.3}\n",
      "0.858441722439702\n",
      "NuSVC(cache_size=200, class_weight='balanced', coef0=0.0,\n",
      "      decision_function_shape='ovr', degree=1, gamma='auto_deprecated',\n",
      "      kernel='rbf', max_iter=500, nu=0.3, probability=False, random_state=7,\n",
      "      shrinking=True, tol=0.001, verbose=False)\n",
      "Wall time: 9min 5s\n"
     ]
    }
   ],
   "source": [
    "%%time\n",
    "# подбор верхней границы доли ошибок обучения и нижней граница доли векторов поддержки. \n",
    "# модель без 'nu':\n",
    "param = {'nu':(0.3, 0.4, 0.5, 0.6)\n",
    "        }\n",
    "nusvC_optim_20 = NuSVC(cache_size=200, class_weight='balanced', \n",
    "                       coef0=0.0,\n",
    "                       decision_function_shape='ovr', degree=1,\n",
    "                       gamma='auto_deprecated',\n",
    "                       kernel='rbf', max_iter=500, \n",
    "                       probability=False, random_state=7,\n",
    "                       shrinking=True, tol=0.001, verbose=False\n",
    "                      )\n",
    "grS_nusvC_optim_20 = GridSearchCV(nusvC_optim_20, param,\n",
    "                             cv=3, n_jobs=-1, return_train_score=True)\n",
    "\n",
    "grS_nusvC_optim_20.fit(X_train_pretSVD_20, y_train_20)\n",
    "print(grS_nusvC_optim_20.best_params_) \n",
    "print(grS_nusvC_optim_20.best_score_)\n",
    "print(grS_nusvC_optim_20.best_estimator_)"
   ]
  },
  {
   "cell_type": "code",
   "execution_count": 35,
   "metadata": {},
   "outputs": [
    {
     "data": {
      "text/plain": [
       "{'mean_fit_time': array([189.88191422, 219.03955944, 209.60193157, 240.62049007]),\n",
       " 'std_fit_time': array([7.33007348, 7.8213119 , 4.82310234, 1.92175104]),\n",
       " 'mean_score_time': array([46.60035817, 51.00068013, 47.68965562, 53.08121316]),\n",
       " 'std_score_time': array([1.61171205, 1.6963304 , 2.62255754, 1.77742862]),\n",
       " 'param_nu': masked_array(data=[0.3, 0.4, 0.5, 0.6],\n",
       "              mask=[False, False, False, False],\n",
       "        fill_value='?',\n",
       "             dtype=object),\n",
       " 'params': [{'nu': 0.3}, {'nu': 0.4}, {'nu': 0.5}, {'nu': 0.6}],\n",
       " 'split0_test_score': array([0.8590325 , 0.85525321, 0.85336357, 0.84542706]),\n",
       " 'split1_test_score': array([0.84880637, 0.84994316, 0.8491853 , 0.84350133]),\n",
       " 'split2_test_score': array([0.8675019 , 0.86446469, 0.85876993, 0.85421412]),\n",
       " 'mean_test_score': array([0.85844172, 0.85654754, 0.85376942, 0.84770804]),\n",
       " 'std_test_score': array([0.00763931, 0.00599536, 0.00392111, 0.00465996]),\n",
       " 'rank_test_score': array([1, 2, 3, 4]),\n",
       " 'split0_train_score': array([0.99468993, 0.98748341, 0.97857007, 0.96662242]),\n",
       " 'split1_train_score': array([0.99337121, 0.98579545, 0.97727273, 0.96477273]),\n",
       " 'split2_train_score': array([0.99451277, 0.98751183, 0.97653737, 0.96045412]),\n",
       " 'mean_train_score': array([0.9941913 , 0.98693023, 0.97746006, 0.96394975]),\n",
       " 'std_train_score': array([0.00058439, 0.00080249, 0.00084035, 0.00258456])}"
      ]
     },
     "execution_count": 35,
     "metadata": {},
     "output_type": "execute_result"
    }
   ],
   "source": [
    "grS_nusvC_optim_20.cv_results_"
   ]
  },
  {
   "cell_type": "code",
   "execution_count": 36,
   "metadata": {},
   "outputs": [
    {
     "data": {
      "image/png": "[encoded data removed]",
      "text/plain": [
       "<Figure size 432x288 with 1 Axes>"
      ]
     },
     "metadata": {
      "needs_background": "light"
     },
     "output_type": "display_data"
    }
   ],
   "source": [
    "plot_grid_scores(grS_nusvC_optim_20, 'nu')"
   ]
  },
  {
   "cell_type": "code",
   "execution_count": 37,
   "metadata": {},
   "outputs": [
    {
     "data": {
      "text/plain": [
       "GridSearchCV(cv=3, error_score='raise-deprecating',\n",
       "             estimator=NuSVC(cache_size=200, class_weight='balanced', coef0=0.0,\n",
       "                             decision_function_shape='ovr', degree=1,\n",
       "                             gamma='auto_deprecated', kernel='rbf',\n",
       "                             max_iter=500, nu=0.5, probability=False,\n",
       "                             random_state=7, shrinking=True, tol=0.001,\n",
       "                             verbose=False),\n",
       "             iid='warn', n_jobs=-1, param_grid={'nu': (0.3, 0.4, 0.5, 0.6)},\n",
       "             pre_dispatch='2*n_jobs', refit=True, return_train_score=True,\n",
       "             scoring=None, verbose=0)"
      ]
     },
     "execution_count": 37,
     "metadata": {},
     "output_type": "execute_result"
    }
   ],
   "source": [
    "# сохранение и вывод модели\n",
    "dump(grS_nusvC_optim_20, 'grS_nusvC_optim_20.joblib')\n",
    "grS_nusvC_optim_20_dump = load('grS_nusvC_optim_20.joblib')\n",
    "grS_nusvC_optim_20_dump"
   ]
  },
  {
   "cell_type": "code",
   "execution_count": 38,
   "metadata": {},
   "outputs": [
    {
     "name": "stdout",
     "output_type": "stream",
     "text": [
      "              precision    recall  f1-score   support\n",
      "\n",
      "           0       0.93      0.93      0.93       135\n",
      "           1       0.67      0.80      0.73       166\n",
      "           2       0.81      0.78      0.79       170\n",
      "           3       0.74      0.76      0.75       182\n",
      "           4       0.81      0.79      0.80       183\n",
      "           5       0.84      0.89      0.86       169\n",
      "           6       0.79      0.85      0.82       172\n",
      "           7       0.86      0.90      0.88       191\n",
      "           8       0.97      0.89      0.93       198\n",
      "           9       0.91      0.92      0.91       168\n",
      "          10       0.95      0.91      0.93       163\n",
      "          11       1.00      0.91      0.95       195\n",
      "          12       0.78      0.79      0.78       177\n",
      "          13       0.89      0.95      0.92       172\n",
      "          14       0.96      0.89      0.92       176\n",
      "          15       0.91      0.89      0.90       182\n",
      "          16       0.91      0.92      0.92       173\n",
      "          17       0.96      0.93      0.94       160\n",
      "          18       0.93      0.84      0.88       156\n",
      "          19       0.77      0.77      0.77       107\n",
      "\n",
      "    accuracy                           0.87      3395\n",
      "   macro avg       0.87      0.86      0.87      3395\n",
      "weighted avg       0.87      0.87      0.87      3395\n",
      "\n",
      "[[125   0   1   0   0   0   0   0   0   1   0   0   0   2   0   4   0   0\n",
      "    0   2]\n",
      " [  0 133   7   3   2   8   2   1   0   1   0   0   3   3   1   0   0   2\n",
      "    0   0]\n",
      " [  0  12 133   6   2   7   4   0   0   0   2   0   3   0   1   0   0   0\n",
      "    0   0]\n",
      " [  0  12   7 139   4   3   6   0   0   2   1   0   5   2   1   0   0   0\n",
      "    0   0]\n",
      " [  0   7   5  14 144   2   5   0   0   0   0   0   6   0   0   0   0   0\n",
      "    0   0]\n",
      " [  0   8   3   4   0 150   1   1   0   0   0   0   1   1   0   0   0   0\n",
      "    0   0]\n",
      " [  0   1   0   3   8   2 146   4   1   0   1   0   6   0   0   0   0   0\n",
      "    0   0]\n",
      " [  0   2   1   2   0   0   4 171   3   0   0   0   7   1   0   0   0   0\n",
      "    0   0]\n",
      " [  1   2   0   1   1   0   4   8 177   1   0   0   0   1   0   0   2   0\n",
      "    0   0]\n",
      " [  0   1   0   0   0   1   3   5   1 155   1   0   0   1   0   0   0   0\n",
      "    0   0]\n",
      " [  0   0   1   0   3   2   0   1   0   4 148   0   1   1   0   0   0   1\n",
      "    0   1]\n",
      " [  1   1   2   2   2   2   1   0   0   0   0 177   1   1   0   0   2   0\n",
      "    1   2]\n",
      " [  0   6   4  14   4   1   4   2   0   1   0   0 139   1   1   0   0   0\n",
      "    0   0]\n",
      " [  0   2   0   0   3   0   0   1   0   0   0   0   0 163   1   2   0   0\n",
      "    0   0]\n",
      " [  0   4   0   0   1   0   1   1   0   1   2   0   2   1 157   0   4   0\n",
      "    2   0]\n",
      " [  3   5   0   0   1   0   2   0   0   1   0   0   2   1   0 162   0   2\n",
      "    0   3]\n",
      " [  0   2   1   0   1   0   0   1   0   1   0   0   0   1   1   0 159   0\n",
      "    4   2]\n",
      " [  0   1   0   0   0   0   1   0   0   1   0   0   1   0   1   1   1 149\n",
      "    1   3]\n",
      " [  1   0   0   0   2   0   0   0   0   2   1   0   1   0   0   1   5   1\n",
      "  131  11]\n",
      " [  4   1   0   0   0   1   0   2   1   0   0   0   0   3   0   9   1   1\n",
      "    2  82]]\n",
      "Wall time: 35.5 s\n"
     ]
    }
   ],
   "source": [
    "%%time\n",
    "# предсказание для модели\n",
    "pred_grS_nusvC_optim_20_dump = grS_nusvC_optim_20_dump.predict(X_test_pretSVD_20)\n",
    "print(metrics.classification_report(y_test_20, pred_grS_nusvC_optim_20_dump))\n",
    "print(metrics.confusion_matrix(y_test_20, pred_grS_nusvC_optim_20_dump))"
   ]
  },
  {
   "cell_type": "markdown",
   "metadata": {},
   "source": [
    "### Вывод по результатам подбора параметров для NuSVC:"
   ]
  },
  {
   "cell_type": "raw",
   "metadata": {},
   "source": [
    "Алгоритм показал удовлетворительные результаты на базовых настройках модели и хорошие при подборе параметров. Значительно уменьшился разброс ошибок по классам после подбора.   \n",
    "accuracy = 0.57 - базовые\n",
    "accuracy = 0.87 - подбор\n",
    "\n",
    "Алгоритм длительный и требует значительных вычислительных мощностей.\n",
    "\n",
    "Пути дальнейшего улучшения я модели:\n",
    "- работа с текстом в смежных по темах класах, выделение значимых слов для этого класса;\n",
    "- дальнейший подбор параметров модели\n"
   ]
  },
  {
   "cell_type": "markdown",
   "metadata": {},
   "source": [
    "### Сравнение результатов обучения LinearSVC и NuSVC  :                    "
   ]
  },
  {
   "cell_type": "raw",
   "metadata": {},
   "source": [
    "LinearSVC и NuSVC.\n",
    "Оба алгоритма показали хорошую обучаемость на категориальных признаках.\n",
    "В работе не отражено (и так много кода), но на не обработанном тексте лучшие результаты были у LinearSVC по скорости и % предсказаний, затем шел NuSVC. \n",
    "\n",
    "Стандартный SVC показал плохие результаты по обучению на не подготовленных данных и удовлетворительные при стандартных настройках на подготовленных. Для подбора параметров в данной работе не использовался.  Исходные предсказания схожи с LinearSVC и NuSVC. \n",
    "\n"
   ]
  },
  {
   "cell_type": "markdown",
   "metadata": {},
   "source": [
    "## OneClassSVM, поиск выбросов"
   ]
  },
  {
   "cell_type": "raw",
   "metadata": {},
   "source": [
    "Выбросы имитируем добавлением класса к тренировочной выборке."
   ]
  },
  {
   "cell_type": "code",
   "execution_count": 299,
   "metadata": {},
   "outputs": [
    {
     "name": "stdout",
     "output_type": "stream",
     "text": [
      "Wall time: 35.2 s\n"
     ]
    }
   ],
   "source": [
    "%%time\n",
    "# Получение необходимой части выборки прошедшей через преобразования текста\n",
    "# X = twenty_train.data\n",
    "# y = twenty_train.target\n",
    "# X = five_train.data\n",
    "# y = five_train.target\n",
    "# X = two_train.data\n",
    "# y = two_train.target\n",
    "# X = twenty_train.data\n",
    "# y = twenty_train.target\n",
    "X = six_train.data\n",
    "y = six_train.target\n",
    "\n",
    "#  six_train.data  набор five_train.data с добавленным классом -  'rec.sport.baseball' \n",
    "# 6 классов для проверки выбросов OneClassSVM:\n",
    "X_train_pretSVD_6, X_test_pretSVD_6, y_train_6, y_test_6 = data_X_y(X, y)"
   ]
  },
  {
   "cell_type": "code",
   "execution_count": 300,
   "metadata": {},
   "outputs": [],
   "source": [
    "OneClassSVM?"
   ]
  },
  {
   "cell_type": "code",
   "execution_count": 301,
   "metadata": {},
   "outputs": [
    {
     "data": {
      "text/plain": [
       "OneClassSVM(cache_size=200, coef0=0.0, degree=3, gamma='auto_deprecated',\n",
       "            kernel='rbf', max_iter=-1, nu=0.5, random_state=None,\n",
       "            shrinking=True, tol=0.001, verbose=False)"
      ]
     },
     "execution_count": 301,
     "metadata": {},
     "output_type": "execute_result"
    }
   ],
   "source": [
    "OneClassSVM()"
   ]
  },
  {
   "cell_type": "code",
   "execution_count": 171,
   "metadata": {},
   "outputs": [],
   "source": [
    "oneclassSVM = OneClassSVM(degree=1, nu=0.3\n",
    "                         )\n",
    "onec_5 = oneclassSVM.fit(X_train_pretSVD_5)"
   ]
  },
  {
   "cell_type": "raw",
   "metadata": {},
   "source": [
    "OneClassSVM через GridSearchCV не подбирает параметры. Это сделано вручную. \n",
    "Критерий подбора -  минимальное число ошибок на обучающей выброке:"
   ]
  },
  {
   "cell_type": "code",
   "execution_count": 302,
   "metadata": {},
   "outputs": [],
   "source": [
    "# подбор параметров на 5 классах:\n",
    "def plot_par_onec(param):\n",
    "    error = []\n",
    "    for i in param:\n",
    "        onec_5 = OneClassSVM(nu=i).fit(X_train_pretSVD_5)\n",
    "        pred_5 = onec_5.predict(X_train_pretSVD_6)\n",
    "        n_error_pred_5 = pred_5[pred_5 == -1].size \n",
    "        error.append(n_error_pred_5)\n",
    "       \n",
    "    plt.plot( param, error,\n",
    "          color='green', label='error'),\n",
    "    plt.legend(),\n",
    "    plt.show();"
   ]
  },
  {
   "cell_type": "code",
   "execution_count": 303,
   "metadata": {},
   "outputs": [
    {
     "data": {
      "image/png": "[encoded data removed]",
      "text/plain": [
       "<Figure size 432x288 with 1 Axes>"
      ]
     },
     "metadata": {
      "needs_background": "light"
     },
     "output_type": "display_data"
    }
   ],
   "source": [
    "param = (0.0001, 0.001, 0.005, 0.01, 0.02, 0.04)\n",
    "plot_par_onec(param)"
   ]
  },
  {
   "cell_type": "code",
   "execution_count": 309,
   "metadata": {},
   "outputs": [],
   "source": [
    "оne_SVM = OneClassSVM(nu=0.001).fit(X_train_pretSVD_5)\n",
    "# предсказание выбросов:\n",
    "pred_6 = оne_SVM.predict(X_train_pretSVD_6)"
   ]
  },
  {
   "cell_type": "code",
   "execution_count": 310,
   "metadata": {},
   "outputs": [],
   "source": []
  },
  {
   "cell_type": "code",
   "execution_count": 320,
   "metadata": {},
   "outputs": [
    {
     "data": {
      "text/plain": [
       "array([ 1,  1, -1,  1, -1,  1,  1,  1,  1,  1,  1,  1,  1,  1,  1,  1,  1,\n",
       "        1,  1,  1,  1,  1,  1,  1,  1,  1,  1,  1,  1,  1], dtype=int64)"
      ]
     },
     "execution_count": 320,
     "metadata": {},
     "output_type": "execute_result"
    }
   ],
   "source": [
    "train_6 = pred_6.copy()\n",
    "train_6[:30]"
   ]
  },
  {
   "cell_type": "code",
   "execution_count": 321,
   "metadata": {},
   "outputs": [
    {
     "data": {
      "text/plain": [
       "array([1, 1, 0, 1, 0, 1, 1, 1, 1, 1, 1, 1, 1, 1, 1, 1, 1, 1, 1, 1, 1, 1,\n",
       "       1, 1, 1, 1, 1, 1, 1, 1], dtype=int64)"
      ]
     },
     "execution_count": 321,
     "metadata": {},
     "output_type": "execute_result"
    }
   ],
   "source": [
    "# то,что алгоритм пометил выбросом, переназачим = 0\n",
    "train_6[train_6 == -1] = 0\n",
    "train_6[:30]"
   ]
  },
  {
   "cell_type": "code",
   "execution_count": 312,
   "metadata": {},
   "outputs": [
    {
     "data": {
      "text/plain": [
       "array([3, 4, 1, 2, 4, 5, 4, 1, 1, 2, 4, 5, 4, 1, 1, 2, 3, 4, 2, 5, 0, 2,\n",
       "       3, 5, 4, 1, 4, 3, 4, 3], dtype=int64)"
      ]
     },
     "execution_count": 312,
     "metadata": {},
     "output_type": "execute_result"
    }
   ],
   "source": [
    "# 5 - класс добавлен, его алгоритм должен распознать как выброс.\n",
    "# код ниже переназначает 0-4 классам значение = 1, класс 5 = 0\n",
    "\n",
    "y_train_6[:30]"
   ]
  },
  {
   "cell_type": "code",
   "execution_count": 328,
   "metadata": {},
   "outputs": [
    {
     "data": {
      "text/plain": [
       "array([1, 1, 1, 1, 1, 0, 1, 1, 1, 1, 1, 0, 1, 1, 1, 1, 1, 1, 1, 0, 1, 1,\n",
       "       1, 0, 1, 1, 1, 1, 1, 1], dtype=int64)"
      ]
     },
     "execution_count": 328,
     "metadata": {},
     "output_type": "execute_result"
    }
   ],
   "source": [
    "test_6 = y_train_6.copy()\n",
    "test_6[test_6 != 5] = 1\n",
    "test_6[test_6 == 5] = 0\n",
    "test_6[:30]"
   ]
  },
  {
   "cell_type": "markdown",
   "metadata": {},
   "source": [
    "##### выбросы - миноритарный класс, использнуем roc_auc:"
   ]
  },
  {
   "cell_type": "code",
   "execution_count": 323,
   "metadata": {},
   "outputs": [
    {
     "data": {
      "text/plain": [
       "0.47501854372274765"
      ]
     },
     "execution_count": 323,
     "metadata": {},
     "output_type": "execute_result"
    }
   ],
   "source": [
    "\n",
    "roc_auc_score(test_6, train_6)"
   ]
  },
  {
   "cell_type": "code",
   "execution_count": 327,
   "metadata": {},
   "outputs": [
    {
     "name": "stdout",
     "output_type": "stream",
     "text": [
      "              precision    recall  f1-score   support\n",
      "\n",
      "           0       0.11      0.08      0.09       422\n",
      "           1       0.82      0.87      0.85      2051\n",
      "\n",
      "    accuracy                           0.74      2473\n",
      "   macro avg       0.47      0.48      0.47      2473\n",
      "weighted avg       0.70      0.74      0.72      2473\n",
      "\n",
      "[[  32  390]\n",
      " [ 258 1793]]\n"
     ]
    }
   ],
   "source": [
    "print(metrics.classification_report(test_6, train_6))\n",
    "print(metrics.confusion_matrix(test_6, train_6))"
   ]
  },
  {
   "cell_type": "markdown",
   "metadata": {},
   "source": [
    "##### Выводы по OneClassSVM:"
   ]
  },
  {
   "cell_type": "raw",
   "metadata": {},
   "source": [
    "По метрикам видно, предсказание моделью выбросов находится в пределах слепого угадывания. \n",
    "Возможные пути улучшения предсказаний:\n",
    "- работа с исходными данными. \n",
    "- более тщательный подбор параметров."
   ]
  },
  {
   "cell_type": "markdown",
   "metadata": {},
   "source": [
    "# Выводы (итог):"
   ]
  },
  {
   "cell_type": "raw",
   "metadata": {},
   "source": [
    "Обучение с параметрами по умолчанию:\n",
    "\n",
    "LinearSVC - реализация SVM с линейным ядром для задач классификации.\n",
    "SVC - наиболее общая реализация SVM для задач классификации.\n",
    "NuSVC - реализация SVM для задач классификации с возможностью задать количество опорных векторов.\n",
    " - модели показали способность к обучению на данных, требуется настройка.\n",
    "\n",
    "LinearSVR - реализация SVM с линейным ядром для задач регрессии.\n",
    "SVR - наиболее общая реализация SVM для задач регрессии.\n",
    "NuSVR - реализация SVM для задач регрессии с возможностью задать количество опорных векторов.\n",
    " - эти алгоритмы не предназачены для этой задачи.\n",
    "\n",
    "LinearSVC, NuSVC - были обучены на всем датасете, показали хорошие результаты обучения с учителем, при подборе параметров.\n",
    "Быстрее всего обучается LinearSVC."
   ]
  },
  {
   "cell_type": "raw",
   "metadata": {},
   "source": [
    "Результаты подбора параметров \n",
    "для LinearSVC:\n",
    "Алгоритм показал удовлетворительные результаты на базовых настройках модели и хорошие при подборе параметров. Значительно уменьшился разброс ошибок по классам после подбора. Модель путает тексты по схожим тематикам.  \n",
    "accuracy = 0.62 - базовые, accuracy = 0.87 - подбор\n",
    "Для классов, которые не схожи по тематике f1-score = 0.93 - 0,95. \n",
    "Пути дальнейшего улучшения модели - работа с текстом в смежных по темах класах, выделение значимых слов для этого класса. Подбор весов."
   ]
  },
  {
   "cell_type": "raw",
   "metadata": {},
   "source": [
    "для NuSVC:\n",
    "Алгоритм показал удовлетворительные результаты на базовых настройках модели и хорошие при подборе параметров. Значительно уменьшился разброс ошибок по классам после подбора.   \n",
    "accuracy = 0.57 - базовые\n",
    "accuracy = 0.87 - подбор\n",
    "Алгоритм длительный и требует значительных вычислительных мощностей.\n",
    "Пути дальнейшего улучшения я модели:\n",
    "- работа с текстом в смежных по темах класах, выделение значимых слов для этого класса;\n",
    "- дальнейший подбор параметров модели\n",
    "\n",
    "Сравнение результатов обучения LinearSVC и NuSVC :\n",
    "LinearSVC и NuSVC.\n",
    "Оба алгоритма показали хорошую обучаемость на категориальных признаках.\n",
    "В работе не отражено (и так много кода), но на не обработанном тексте лучшие результаты были у LinearSVC по скорости и % предсказаний, затем шел NuSVC. \n"
   ]
  },
  {
   "cell_type": "raw",
   "metadata": {},
   "source": [
    "Выводы по OneClassSVM:\n",
    "По метрикам видно, предсказание моделью выбросов находится в пределах слепого угадывания. \n",
    "Возможные пути улучшения предсказаний:\n",
    "- работа с исходными данными. \n",
    "- более тщательный подбор параметров."
   ]
  },
  {
   "cell_type": "code",
   "execution_count": null,
   "metadata": {},
   "outputs": [],
   "source": []
  }
 ],
 "metadata": {
  "anaconda-cloud": {},
  "kernelspec": {
   "display_name": "Python 3",
   "language": "python",
   "name": "python3"
  },
  "language_info": {
   "codemirror_mode": {
    "name": "ipython",
    "version": 3
   },
   "file_extension": ".py",
   "mimetype": "text/x-python",
   "name": "python",
   "nbconvert_exporter": "python",
   "pygments_lexer": "ipython3",
   "version": "3.7.7"
  }
 },
 "nbformat": 4,
 "nbformat_minor": 1
}
